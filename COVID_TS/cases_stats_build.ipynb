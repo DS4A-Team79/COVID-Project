{
 "cells": [
  {
   "cell_type": "code",
   "execution_count": 41,
   "metadata": {},
   "outputs": [],
   "source": [
    "import os\n",
    "import numpy as np # linear algebra\n",
    "import pandas as pd # data processing, I/O"
   ]
  },
  {
   "cell_type": "code",
   "execution_count": 42,
   "metadata": {},
   "outputs": [],
   "source": [
    "data = pd.read_csv(\"../Datasets/Raw/C19_CASES_DEATHS/time_series_covid_19_confirmed_US.csv\")\n",
    "byState = data.groupby(\"Province_State\").sum()"
   ]
  },
  {
   "cell_type": "code",
   "execution_count": 43,
   "metadata": {},
   "outputs": [],
   "source": [
    "## calculate total cases\n",
    "total_cases = pd.DataFrame(byState.iloc[:,byState.shape[1]-1])"
   ]
  },
  {
   "cell_type": "code",
   "execution_count": 44,
   "metadata": {},
   "outputs": [],
   "source": [
    "## calculate max_new_daily_cases\n",
    "\n",
    "location_set = byState.iloc[:,0:5]\n",
    "case_set = byState.iloc[:,5:]\n",
    "t_case_set = case_set.transpose()"
   ]
  },
  {
   "cell_type": "code",
   "execution_count": 45,
   "metadata": {},
   "outputs": [],
   "source": [
    "state_index=[]\n",
    "max_cases=[]\n",
    "for case in t_case_set:\n",
    "    state_index.append(case)\n",
    "    max_cases.append(t_case_set[case].diff().max())\n",
    "#print(state_index)"
   ]
  },
  {
   "cell_type": "code",
   "execution_count": 46,
   "metadata": {},
   "outputs": [],
   "source": [
    "max_new_cases = pd.DataFrame(index=state_index, data=max_cases)"
   ]
  },
  {
   "cell_type": "code",
   "execution_count": 47,
   "metadata": {},
   "outputs": [
    {
     "output_type": "stream",
     "name": "stdout",
     "text": [
      "                       index        0\n0                    Alabama   5498.0\n1                     Alaska    942.0\n2             American Samoa      0.0\n3                    Arizona  17234.0\n4                   Arkansas   4304.0\n5                 California  62168.0\n6                   Colorado   6439.0\n7                Connecticut   8457.0\n8                   Delaware   1220.0\n9           Diamond Princess     47.0\n10      District of Columbia    492.0\n11                   Florida  31518.0\n12                   Georgia  31605.0\n13            Grand Princess     75.0\n14                      Guam    240.0\n15                    Hawaii    483.0\n16                     Idaho   2298.0\n17                  Illinois  15415.0\n18                   Indiana   8460.0\n19                      Iowa   5484.0\n20                    Kansas   7677.0\n21                  Kentucky   8709.0\n22                 Louisiana   6876.0\n23                     Maine    824.0\n24                  Maryland   3792.0\n25             Massachusetts   9003.0\n26                  Michigan  17368.0\n27                 Minnesota   9022.0\n28               Mississippi   5430.0\n29                  Missouri   9534.0\n30                   Montana   1642.0\n31                  Nebraska   5270.0\n32                    Nevada   3403.0\n33             New Hampshire   1143.0\n34                New Jersey   7880.0\n35                New Mexico   3665.0\n36                  New York  27644.0\n37            North Carolina  19419.0\n38              North Dakota   2807.0\n39  Northern Mariana Islands      8.0\n40                      Ohio  25721.0\n41                  Oklahoma   8032.0\n42                    Oregon   2439.0\n43              Pennsylvania  13295.0\n44               Puerto Rico   2169.0\n45              Rhode Island   4759.0\n46            South Carolina   8951.0\n47              South Dakota   2138.0\n48                 Tennessee  17330.0\n49                     Texas  36283.0\n50                      Utah   6142.0\n51                   Vermont    283.0\n52            Virgin Islands    109.0\n53                  Virginia   9914.0\n54                Washington   8644.0\n55             West Virginia   2486.0\n56                 Wisconsin  16956.0\n57                   Wyoming   1262.0\n"
     ]
    }
   ],
   "source": [
    "print(max_new_cases.reset_index())"
   ]
  },
  {
   "cell_type": "code",
   "execution_count": 53,
   "metadata": {},
   "outputs": [],
   "source": [
    "cases_stats=pd.merge(max_new_cases.reset_index(), total_cases, right_on=\"Province_State\", left_on=\"index\")\n",
    "cases_stats=cases_stats.rename(columns={\"index\": \"State\", 0:\"Max_new_cases\", \"5/2/21\":\"Total_cases\"})"
   ]
  },
  {
   "cell_type": "code",
   "execution_count": 54,
   "metadata": {},
   "outputs": [],
   "source": [
    "non_states = [\"American Samoa\", \"Guam\", \"District of Columbia\", \"Grand Princess\", \"Puerto Rico\", \"Virgin Islands\", \"Northern Mariana Islands\", \"Diamond Princess\"]\n",
    "for state in non_states:\n",
    "    cases_stats = cases_stats[cases_stats[\"State\"]!=state]\n"
   ]
  },
  {
   "cell_type": "code",
   "execution_count": 55,
   "metadata": {},
   "outputs": [
    {
     "output_type": "execute_result",
     "data": {
      "text/plain": [
       "             State  Max_new_cases  Total_cases\n",
       "0          Alabama         5498.0       528597\n",
       "1           Alaska          942.0        68148\n",
       "3          Arizona        17234.0       863927\n",
       "4         Arkansas         4304.0       336105\n",
       "5       California        62168.0      3744830\n",
       "6         Colorado         6439.0       513765\n",
       "7      Connecticut         8457.0       339233\n",
       "8         Delaware         1220.0       104909\n",
       "11         Florida        31518.0      2242778\n",
       "12         Georgia        31605.0      1102789\n",
       "15          Hawaii          483.0        34082\n",
       "16           Idaho         2298.0       187656\n",
       "17        Illinois        15415.0      1339621\n",
       "18         Indiana         8460.0       722646\n",
       "19            Iowa         5484.0       365524\n",
       "20          Kansas         7677.0       310600\n",
       "21        Kentucky         8709.0       445139\n",
       "22       Louisiana         6876.0       458581\n",
       "23           Maine          824.0        61847\n",
       "24        Maryland         3792.0       448989\n",
       "25   Massachusetts         9003.0       691172\n",
       "26        Michigan        17368.0       940175\n",
       "27       Minnesota         9022.0       579235\n",
       "28     Mississippi         5430.0       311900\n",
       "29        Missouri         9534.0       593474\n",
       "30         Montana         1642.0       109030\n",
       "31        Nebraska         5270.0       220127\n",
       "32          Nevada         3403.0       315438\n",
       "33   New Hampshire         1143.0        95377\n",
       "34      New Jersey         7880.0      1000010\n",
       "35      New Mexico         3665.0       197733\n",
       "36        New York        27644.0      2054848\n",
       "37  North Carolina        19419.0       969752\n",
       "38    North Dakota         2807.0       107708\n",
       "40            Ohio        25721.0      1075004\n",
       "41        Oklahoma         8032.0       448305\n",
       "42          Oregon         2439.0       186344\n",
       "43    Pennsylvania        13295.0      1157285\n",
       "45    Rhode Island         4759.0       148186\n",
       "46  South Carolina         8951.0       580273\n",
       "47    South Dakota         2138.0       122660\n",
       "48       Tennessee        17330.0       847430\n",
       "49           Texas        36283.0      2897110\n",
       "50            Utah         6142.0       398012\n",
       "51         Vermont          283.0        23126\n",
       "53        Virginia         9914.0       661314\n",
       "54      Washington         8644.0       404709\n",
       "55   West Virginia         2486.0       153918\n",
       "56       Wisconsin        16956.0       661685\n",
       "57         Wyoming         1262.0        58142"
      ],
      "text/html": "<div>\n<style scoped>\n    .dataframe tbody tr th:only-of-type {\n        vertical-align: middle;\n    }\n\n    .dataframe tbody tr th {\n        vertical-align: top;\n    }\n\n    .dataframe thead th {\n        text-align: right;\n    }\n</style>\n<table border=\"1\" class=\"dataframe\">\n  <thead>\n    <tr style=\"text-align: right;\">\n      <th></th>\n      <th>State</th>\n      <th>Max_new_cases</th>\n      <th>Total_cases</th>\n    </tr>\n  </thead>\n  <tbody>\n    <tr>\n      <th>0</th>\n      <td>Alabama</td>\n      <td>5498.0</td>\n      <td>528597</td>\n    </tr>\n    <tr>\n      <th>1</th>\n      <td>Alaska</td>\n      <td>942.0</td>\n      <td>68148</td>\n    </tr>\n    <tr>\n      <th>3</th>\n      <td>Arizona</td>\n      <td>17234.0</td>\n      <td>863927</td>\n    </tr>\n    <tr>\n      <th>4</th>\n      <td>Arkansas</td>\n      <td>4304.0</td>\n      <td>336105</td>\n    </tr>\n    <tr>\n      <th>5</th>\n      <td>California</td>\n      <td>62168.0</td>\n      <td>3744830</td>\n    </tr>\n    <tr>\n      <th>6</th>\n      <td>Colorado</td>\n      <td>6439.0</td>\n      <td>513765</td>\n    </tr>\n    <tr>\n      <th>7</th>\n      <td>Connecticut</td>\n      <td>8457.0</td>\n      <td>339233</td>\n    </tr>\n    <tr>\n      <th>8</th>\n      <td>Delaware</td>\n      <td>1220.0</td>\n      <td>104909</td>\n    </tr>\n    <tr>\n      <th>11</th>\n      <td>Florida</td>\n      <td>31518.0</td>\n      <td>2242778</td>\n    </tr>\n    <tr>\n      <th>12</th>\n      <td>Georgia</td>\n      <td>31605.0</td>\n      <td>1102789</td>\n    </tr>\n    <tr>\n      <th>15</th>\n      <td>Hawaii</td>\n      <td>483.0</td>\n      <td>34082</td>\n    </tr>\n    <tr>\n      <th>16</th>\n      <td>Idaho</td>\n      <td>2298.0</td>\n      <td>187656</td>\n    </tr>\n    <tr>\n      <th>17</th>\n      <td>Illinois</td>\n      <td>15415.0</td>\n      <td>1339621</td>\n    </tr>\n    <tr>\n      <th>18</th>\n      <td>Indiana</td>\n      <td>8460.0</td>\n      <td>722646</td>\n    </tr>\n    <tr>\n      <th>19</th>\n      <td>Iowa</td>\n      <td>5484.0</td>\n      <td>365524</td>\n    </tr>\n    <tr>\n      <th>20</th>\n      <td>Kansas</td>\n      <td>7677.0</td>\n      <td>310600</td>\n    </tr>\n    <tr>\n      <th>21</th>\n      <td>Kentucky</td>\n      <td>8709.0</td>\n      <td>445139</td>\n    </tr>\n    <tr>\n      <th>22</th>\n      <td>Louisiana</td>\n      <td>6876.0</td>\n      <td>458581</td>\n    </tr>\n    <tr>\n      <th>23</th>\n      <td>Maine</td>\n      <td>824.0</td>\n      <td>61847</td>\n    </tr>\n    <tr>\n      <th>24</th>\n      <td>Maryland</td>\n      <td>3792.0</td>\n      <td>448989</td>\n    </tr>\n    <tr>\n      <th>25</th>\n      <td>Massachusetts</td>\n      <td>9003.0</td>\n      <td>691172</td>\n    </tr>\n    <tr>\n      <th>26</th>\n      <td>Michigan</td>\n      <td>17368.0</td>\n      <td>940175</td>\n    </tr>\n    <tr>\n      <th>27</th>\n      <td>Minnesota</td>\n      <td>9022.0</td>\n      <td>579235</td>\n    </tr>\n    <tr>\n      <th>28</th>\n      <td>Mississippi</td>\n      <td>5430.0</td>\n      <td>311900</td>\n    </tr>\n    <tr>\n      <th>29</th>\n      <td>Missouri</td>\n      <td>9534.0</td>\n      <td>593474</td>\n    </tr>\n    <tr>\n      <th>30</th>\n      <td>Montana</td>\n      <td>1642.0</td>\n      <td>109030</td>\n    </tr>\n    <tr>\n      <th>31</th>\n      <td>Nebraska</td>\n      <td>5270.0</td>\n      <td>220127</td>\n    </tr>\n    <tr>\n      <th>32</th>\n      <td>Nevada</td>\n      <td>3403.0</td>\n      <td>315438</td>\n    </tr>\n    <tr>\n      <th>33</th>\n      <td>New Hampshire</td>\n      <td>1143.0</td>\n      <td>95377</td>\n    </tr>\n    <tr>\n      <th>34</th>\n      <td>New Jersey</td>\n      <td>7880.0</td>\n      <td>1000010</td>\n    </tr>\n    <tr>\n      <th>35</th>\n      <td>New Mexico</td>\n      <td>3665.0</td>\n      <td>197733</td>\n    </tr>\n    <tr>\n      <th>36</th>\n      <td>New York</td>\n      <td>27644.0</td>\n      <td>2054848</td>\n    </tr>\n    <tr>\n      <th>37</th>\n      <td>North Carolina</td>\n      <td>19419.0</td>\n      <td>969752</td>\n    </tr>\n    <tr>\n      <th>38</th>\n      <td>North Dakota</td>\n      <td>2807.0</td>\n      <td>107708</td>\n    </tr>\n    <tr>\n      <th>40</th>\n      <td>Ohio</td>\n      <td>25721.0</td>\n      <td>1075004</td>\n    </tr>\n    <tr>\n      <th>41</th>\n      <td>Oklahoma</td>\n      <td>8032.0</td>\n      <td>448305</td>\n    </tr>\n    <tr>\n      <th>42</th>\n      <td>Oregon</td>\n      <td>2439.0</td>\n      <td>186344</td>\n    </tr>\n    <tr>\n      <th>43</th>\n      <td>Pennsylvania</td>\n      <td>13295.0</td>\n      <td>1157285</td>\n    </tr>\n    <tr>\n      <th>45</th>\n      <td>Rhode Island</td>\n      <td>4759.0</td>\n      <td>148186</td>\n    </tr>\n    <tr>\n      <th>46</th>\n      <td>South Carolina</td>\n      <td>8951.0</td>\n      <td>580273</td>\n    </tr>\n    <tr>\n      <th>47</th>\n      <td>South Dakota</td>\n      <td>2138.0</td>\n      <td>122660</td>\n    </tr>\n    <tr>\n      <th>48</th>\n      <td>Tennessee</td>\n      <td>17330.0</td>\n      <td>847430</td>\n    </tr>\n    <tr>\n      <th>49</th>\n      <td>Texas</td>\n      <td>36283.0</td>\n      <td>2897110</td>\n    </tr>\n    <tr>\n      <th>50</th>\n      <td>Utah</td>\n      <td>6142.0</td>\n      <td>398012</td>\n    </tr>\n    <tr>\n      <th>51</th>\n      <td>Vermont</td>\n      <td>283.0</td>\n      <td>23126</td>\n    </tr>\n    <tr>\n      <th>53</th>\n      <td>Virginia</td>\n      <td>9914.0</td>\n      <td>661314</td>\n    </tr>\n    <tr>\n      <th>54</th>\n      <td>Washington</td>\n      <td>8644.0</td>\n      <td>404709</td>\n    </tr>\n    <tr>\n      <th>55</th>\n      <td>West Virginia</td>\n      <td>2486.0</td>\n      <td>153918</td>\n    </tr>\n    <tr>\n      <th>56</th>\n      <td>Wisconsin</td>\n      <td>16956.0</td>\n      <td>661685</td>\n    </tr>\n    <tr>\n      <th>57</th>\n      <td>Wyoming</td>\n      <td>1262.0</td>\n      <td>58142</td>\n    </tr>\n  </tbody>\n</table>\n</div>"
     },
     "metadata": {},
     "execution_count": 55
    }
   ],
   "source": [
    "cases_stats"
   ]
  },
  {
   "cell_type": "code",
   "execution_count": 51,
   "metadata": {},
   "outputs": [],
   "source": [
    "cases_stats.to_csv(\"../Datasets/Refined_Datasets/cases_stats.csv\")"
   ]
  }
 ],
 "metadata": {
  "kernelspec": {
   "name": "python3",
   "display_name": "Python 3.9.1 64-bit"
  },
  "language_info": {
   "codemirror_mode": {
    "name": "ipython",
    "version": 3
   },
   "file_extension": ".py",
   "mimetype": "text/x-python",
   "name": "python",
   "nbconvert_exporter": "python",
   "pygments_lexer": "ipython3",
   "version": "3.9.1"
  },
  "interpreter": {
   "hash": "aee8b7b246df8f9039afb4144a1f6fd8d2ca17a180786b69acc140d282b71a49"
  }
 },
 "nbformat": 4,
 "nbformat_minor": 4
}