{
 "cells": [
  {
   "cell_type": "code",
   "execution_count": 21,
   "metadata": {},
   "outputs": [],
   "source": [
    "import os\n",
    "import numpy as np # linear algebra\n",
    "import pandas as pd # data processing, I/O"
   ]
  },
  {
   "cell_type": "code",
   "execution_count": 22,
   "metadata": {},
   "outputs": [],
   "source": [
    "data = pd.read_csv(\"../Datasets/Raw/C19_CASES_DEATHS/time_series_covid_19_deaths_US.csv\")\n",
    "byState = data.groupby(\"Province_State\").sum()"
   ]
  },
  {
   "cell_type": "code",
   "execution_count": 23,
   "metadata": {},
   "outputs": [],
   "source": [
    "## calculate total deaths\n",
    "total_deaths = pd.DataFrame(byState.iloc[:,byState.shape[1]-1])"
   ]
  },
  {
   "cell_type": "code",
   "execution_count": 24,
   "metadata": {},
   "outputs": [],
   "source": [
    "## calculate max_new_daily_deaths\n",
    "\n",
    "location_set = byState.iloc[:,0:5]\n",
    "case_set = byState.iloc[:,5:]\n",
    "t_case_set = case_set.transpose()"
   ]
  },
  {
   "cell_type": "code",
   "execution_count": 25,
   "metadata": {},
   "outputs": [],
   "source": [
    "state_index=[]\n",
    "max_deaths=[]\n",
    "for case in t_case_set:\n",
    "    state_index.append(case)\n",
    "    max_deaths.append(t_case_set[case].diff().max())\n",
    "#print(state_index)"
   ]
  },
  {
   "cell_type": "code",
   "execution_count": 26,
   "metadata": {},
   "outputs": [],
   "source": [
    "max_new_deaths = pd.DataFrame(index=state_index, data=max_deaths)"
   ]
  },
  {
   "cell_type": "code",
   "execution_count": 27,
   "metadata": {},
   "outputs": [
    {
     "output_type": "stream",
     "name": "stdout",
     "text": [
      "                       index       0\n0                    Alabama   309.0\n1                     Alaska    23.0\n2             American Samoa     0.0\n3                    Arizona   335.0\n4                   Arkansas   158.0\n5                 California  1086.0\n6                   Colorado   267.0\n7                Connecticut   204.0\n8                   Delaware    23.0\n9           Diamond Princess     0.0\n10      District of Columbia    19.0\n11                   Florida   276.0\n12                   Georgia   480.0\n13            Grand Princess     3.0\n14                      Guam     4.0\n15                    Hawaii    59.0\n16                     Idaho    35.0\n17                  Illinois   266.0\n18                   Indiana   189.0\n19                      Iowa   469.0\n20                    Kansas   203.0\n21                  Kentucky   448.0\n22                 Louisiana   129.0\n23                     Maine    41.0\n24                  Maryland   171.0\n25             Massachusetts   302.0\n26                  Michigan   288.0\n27                 Minnesota   140.0\n28               Mississippi    98.0\n29                  Missouri   266.0\n30                   Montana    54.0\n31                  Nebraska    62.0\n32                    Nevada    71.0\n33             New Hampshire    24.0\n34                New Jersey   483.0\n35                New Mexico    67.0\n36                  New York  1273.0\n37            North Carolina   169.0\n38              North Dakota    58.0\n39  Northern Mariana Islands     1.0\n40                      Ohio   210.0\n41                  Oklahoma  1716.0\n42                    Oregon    54.0\n43              Pennsylvania   388.0\n44               Puerto Rico    29.0\n45              Rhode Island    30.0\n46            South Carolina   241.0\n47              South Dakota    54.0\n48                 Tennessee   203.0\n49                     Texas   700.0\n50                      Utah    35.0\n51                   Vermont     6.0\n52            Virgin Islands     2.0\n53                  Virginia   383.0\n54                Washington   174.0\n55             West Virginia   173.0\n56                 Wisconsin   135.0\n57                   Wyoming    33.0\n"
     ]
    }
   ],
   "source": [
    "print(max_new_deaths.reset_index())"
   ]
  },
  {
   "cell_type": "code",
   "execution_count": 28,
   "metadata": {},
   "outputs": [],
   "source": [
    "deaths_stats=pd.merge(max_new_deaths.reset_index(), total_deaths, right_on=\"Province_State\", left_on=\"index\")\n",
    "deaths_stats=deaths_stats.rename(columns={\"index\": \"State\", 0:\"Max_new_deaths\", \"5/2/21\":\"Total_deaths\"})"
   ]
  },
  {
   "cell_type": "code",
   "execution_count": 29,
   "metadata": {},
   "outputs": [],
   "source": [
    "non_states = [\"American Samoa\", \"Guam\", \"District of Columbia\", \"Grand Princess\", \"Puerto Rico\", \"Virgin Islands\", \"Northern Mariana Islands\", \"Diamond Princess\"]\n",
    "for state in non_states:\n",
    "    deaths_stats = deaths_stats[deaths_stats[\"State\"]!=state]"
   ]
  },
  {
   "cell_type": "code",
   "execution_count": 30,
   "metadata": {},
   "outputs": [],
   "source": [
    "deaths_stats.to_csv(\"../Datasets/Refined_Datasets/death_stats.csv\")"
   ]
  },
  {
   "cell_type": "code",
   "execution_count": null,
   "metadata": {},
   "outputs": [],
   "source": []
  }
 ],
 "metadata": {
  "kernelspec": {
   "name": "python3",
   "display_name": "Python 3.9.1 64-bit"
  },
  "language_info": {
   "codemirror_mode": {
    "name": "ipython",
    "version": 3
   },
   "file_extension": ".py",
   "mimetype": "text/x-python",
   "name": "python",
   "nbconvert_exporter": "python",
   "pygments_lexer": "ipython3",
   "version": "3.9.1"
  },
  "interpreter": {
   "hash": "aee8b7b246df8f9039afb4144a1f6fd8d2ca17a180786b69acc140d282b71a49"
  }
 },
 "nbformat": 4,
 "nbformat_minor": 4
}