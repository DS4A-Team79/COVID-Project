{
 "cells": [
  {
   "cell_type": "code",
   "execution_count": 163,
   "metadata": {},
   "outputs": [],
   "source": [
    "import pandas as pd\n",
    "import re\n",
    "import os\n",
    "import us"
   ]
  },
  {
   "cell_type": "code",
   "execution_count": 164,
   "metadata": {},
   "outputs": [],
   "source": [
    "directory=\"Datasets/Refined_Datasets\"\n",
    "state_files=[]\n",
    "refined_state_files=[]\n",
    "\n",
    "for filename in os.listdir(directory):\n",
    "    state_files.append(pd.read_csv(f\"{directory}/{filename}\"))"
   ]
  },
  {
   "cell_type": "code",
   "execution_count": 165,
   "metadata": {},
   "outputs": [],
   "source": [
    "for filename in state_files:\n",
    "    filename = filename.rename(columns={\"NAME\":\"State\"})\n",
    "    filename[\"Abbr\"] = [us.states.lookup(state).abbr for state in filename[\"State\"]]\n",
    "    refined_state_files.append(filename)"
   ]
  },
  {
   "cell_type": "code",
   "execution_count": 166,
   "metadata": {},
   "outputs": [
    {
     "output_type": "execute_result",
     "data": {
      "text/plain": [
       "   Unnamed: 0       State  Max_new_deaths  Total_deaths Abbr\n",
       "0           0     Alabama           309.0         10913   AL\n",
       "1           1      Alaska            23.0           347   AK\n",
       "2           3     Arizona           335.0         17344   AZ\n",
       "3           4    Arkansas           158.0          5743   AR\n",
       "4           5  California          1086.0         61939   CA"
      ],
      "text/html": "<div>\n<style scoped>\n    .dataframe tbody tr th:only-of-type {\n        vertical-align: middle;\n    }\n\n    .dataframe tbody tr th {\n        vertical-align: top;\n    }\n\n    .dataframe thead th {\n        text-align: right;\n    }\n</style>\n<table border=\"1\" class=\"dataframe\">\n  <thead>\n    <tr style=\"text-align: right;\">\n      <th></th>\n      <th>Unnamed: 0</th>\n      <th>State</th>\n      <th>Max_new_deaths</th>\n      <th>Total_deaths</th>\n      <th>Abbr</th>\n    </tr>\n  </thead>\n  <tbody>\n    <tr>\n      <th>0</th>\n      <td>0</td>\n      <td>Alabama</td>\n      <td>309.0</td>\n      <td>10913</td>\n      <td>AL</td>\n    </tr>\n    <tr>\n      <th>1</th>\n      <td>1</td>\n      <td>Alaska</td>\n      <td>23.0</td>\n      <td>347</td>\n      <td>AK</td>\n    </tr>\n    <tr>\n      <th>2</th>\n      <td>3</td>\n      <td>Arizona</td>\n      <td>335.0</td>\n      <td>17344</td>\n      <td>AZ</td>\n    </tr>\n    <tr>\n      <th>3</th>\n      <td>4</td>\n      <td>Arkansas</td>\n      <td>158.0</td>\n      <td>5743</td>\n      <td>AR</td>\n    </tr>\n    <tr>\n      <th>4</th>\n      <td>5</td>\n      <td>California</td>\n      <td>1086.0</td>\n      <td>61939</td>\n      <td>CA</td>\n    </tr>\n  </tbody>\n</table>\n</div>"
     },
     "metadata": {},
     "execution_count": 166
    }
   ],
   "source": [
    "refined_state_files[3].head()"
   ]
  },
  {
   "cell_type": "code",
   "execution_count": 167,
   "metadata": {
    "tags": []
   },
   "outputs": [],
   "source": [
    "df_x = pd.merge(refined_state_files[0], refined_state_files[1], on=\"Abbr\", how=\"outer\")\n",
    "df_y = pd.merge(df_x, refined_state_files[2], on=\"Abbr\", how=\"outer\")\n",
    "df_z = pd.merge(df_y, refined_state_files[3], on=\"Abbr\", how=\"outer\")\n",
    "df_a = pd.merge(df_z, refined_state_files[4], on=\"Abbr\", how=\"outer\")\n",
    "df_a.set_index(\"Abbr\")\n",
    "df_a = df_a.drop([\"State_x\", \"State_y\",\"State\" ,  'Unnamed: 0_x',  'Unnamed: 0_y'], axis=1)"
   ]
  },
  {
   "cell_type": "code",
   "execution_count": 168,
   "metadata": {},
   "outputs": [],
   "source": [
    "df_a.to_csv(\"./Datasets/Analytical.csv\")"
   ]
  }
 ],
 "metadata": {
  "kernelspec": {
   "name": "python3",
   "display_name": "Python 3.9.1 64-bit"
  },
  "language_info": {
   "codemirror_mode": {
    "name": "ipython",
    "version": 3
   },
   "file_extension": ".py",
   "mimetype": "text/x-python",
   "name": "python",
   "nbconvert_exporter": "python",
   "pygments_lexer": "ipython3",
   "version": "3.9.1"
  },
  "interpreter": {
   "hash": "aee8b7b246df8f9039afb4144a1f6fd8d2ca17a180786b69acc140d282b71a49"
  }
 },
 "nbformat": 4,
 "nbformat_minor": 4
}