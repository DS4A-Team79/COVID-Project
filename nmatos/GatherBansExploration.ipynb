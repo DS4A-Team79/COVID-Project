{
 "cells": [
  {
   "cell_type": "code",
   "execution_count": 109,
   "metadata": {},
   "outputs": [],
   "source": [
    "import pandas as pd\n",
    "import numpy as np"
   ]
  },
  {
   "cell_type": "code",
   "execution_count": 111,
   "metadata": {},
   "outputs": [],
   "source": [
    "bans = pd.read_csv(r\"data/U.S._State_Gathering_Bans__2020.csv\")\n",
    "bans.head()"
   ]
  },
  {
   "cell_type": "code",
   "execution_count": 113,
   "metadata": {},
   "outputs": [
    {
     "output_type": "stream",
     "name": "stdout",
     "text": [
      "Index(['State_Tribe_Territory', 'County_Name', 'FIPS_State', 'FIPS_County',\n       'date', 'General_GB_order_group', 'General_GB_order_code',\n       'General_or_Under_6ft_Bans_Gatherings_Over', 'With_SD_order_group',\n       'With_SD_order_code', 'Over_6ft_Bans_Gatherings_Over',\n       'outdoor_order_group', 'outdoor_order_code',\n       'General_Or_Under_6ft_Bans_Outdoor_Gatherings_Over',\n       'With_SD_outdoor_order_group', 'With_SD_outdoor_order_code',\n       'Over_6ft_Bans_Outdoor_Gatherings_Over', 'Current_order_status',\n       'Jurisdiction_Type', 'Issuing_Jurisdiction', 'Effective_date',\n       'Expiration_date', 'Effective_NA_Reason', 'Expiration_NA_Reason',\n       'General_Household_Order_Group', 'General_Household_order_code',\n       'Bans_Households_Not_Individuals_Generally',\n       'Outdoor_Household_Order_Group', 'Outdoor_Household_Order_Code',\n       'Bans_Households_Not_Individuals_Outdoor_Only', 'Date_Signed',\n       'Express_Preemption', 'origin_dataset', 'Indoor_Outdoor',\n       'Source_of_Action', 'URL', 'Citation'],\n      dtype='object')\n"
     ]
    }
   ],
   "source": [
    "bans_columns = bans.columns\n",
    "print(bans_columns)"
   ]
  },
  {
   "cell_type": "code",
   "execution_count": 115,
   "metadata": {},
   "outputs": [
    {
     "output_type": "stream",
     "name": "stdout",
     "text": [
      "[nan 'AL' 'AK' 'AZ' 'AR' 'CA' 'CO' 'CT' 'DE' 'DC' 'FL' 'GA' 'HI' 'ID' 'IL'\n 'IN' 'IA' 'KS' 'KY' 'LA' 'ME' 'MD' 'MA' 'MI' 'MN' 'MS' 'MO' 'MT' 'NE'\n 'NV' 'NH' 'NJ' 'NM' 'NY' 'NC' 'OH' 'OK' 'OR' 'PA' 'RI' 'SC' 'TN' 'TX'\n 'UT' 'VT' 'VA' 'WA' 'WV' 'WI' 'WY' 'AS' 'GU' 'CNMI' 'PR' 'USVI']\n"
     ]
    }
   ],
   "source": [
    "print(bans['Issuing_Jurisdiction'].unique())"
   ]
  },
  {
   "cell_type": "code",
   "execution_count": 116,
   "metadata": {},
   "outputs": [],
   "source": [
    "#x-axis time period\n",
    "#y-axis whether a ban was in effect (gatherings,)\n",
    "\n",
    "#look into the issuing jurisdiction (is it at the state level)\n",
    "#Use a bar graph to "
   ]
  },
  {
   "cell_type": "code",
   "execution_count": 184,
   "metadata": {
    "tags": []
   },
   "outputs": [
    {
     "output_type": "stream",
     "name": "stdout",
     "text": [
      "~~~~~~~~~State_Tribe_Territory\n",
      "['AL' 'AK' 'AZ' 'AR' 'CA' 'CO' 'CT' 'DE' 'DC' 'FL' 'GA' 'HI' 'ID' 'IL'\n",
      " 'IN' 'IA' 'KS' 'KY' 'LA' 'ME' 'MD' 'MA' 'MI' 'MN' 'MS' 'MO' 'MT' 'NE'\n",
      " 'NV' 'NH' 'NJ' 'NM' 'NY' 'NC' 'ND' 'OH' 'OK' 'OR' 'PA' 'RI' 'SC' 'SD'\n",
      " 'TN' 'TX' 'UT' 'VT' 'VA' 'WA' 'WV' 'WI' 'WY' 'AS' 'GU' 'MP' 'PR' 'VI']\n",
      "~~~~~~~~~County_Name\n",
      "['Autauga County' 'Baldwin County' 'Barbour County' ... 'St. Croix Island'\n",
      " 'St. John Island' 'St. Thomas Island']\n",
      "~~~~~~~~~FIPS_State\n",
      "[ 1  2  4  5  6  8  9 10 11 12 13 15 16 17 18 19 20 21 22 23 24 25 26 27\n",
      " 28 29 30 31 32 33 34 35 36 37 38 39 40 41 42 44 45 46 47 48 49 50 51 53\n",
      " 54 55 56 60 66 69 72 78]\n",
      "~~~~~~~~~FIPS_County\n",
      "[  1   3   5   7   9  11  13  15  17  19  21  23  25  27  29  31  33  35\n",
      "  37  39  41  43  45  47  49  51  53  55  57  59  61  63  65  67  69  71\n",
      "  73  75  77  79  81  83  85  87  89  91  93  95  97  99 101 103 105 107\n",
      " 109 111 113 115 117 119 121 123 125 127 129 131 133  16  20  50  60  68\n",
      "  70  90 100 110 122 130 150 158 164 170 180 185 188 195 198 220 230 240\n",
      " 261 275 282 290  12 135 137 139 141 143 145 147 149  14  86 151 153 155\n",
      " 157 159 161 163 165 167 169 171 173 175 177 179 181 183 187 189 191 193\n",
      " 197 199 201 205 207 209 211 213 215 217 219 221 223 225 227 229 231 233\n",
      " 235 237 239 241 243 245 247 249 251 253 255 257 259 263 265 267 269 271\n",
      " 273 277 279 281 283 285 287 289 291 293 295 297 299 301 303 305 307 309\n",
      " 311 313 315 317 319 321 203 510 186   6  28 102 323 325 327 329 331 333\n",
      " 335 337 339 341 343 345 347 349 351 353 355 357 359 361 363 365 367 369\n",
      " 371 373 375 377 379 381 383 385 387 389 391 393 395 397 399 401 403 405\n",
      " 407 409 411 413 415 417 419 421 423 425 427 429 431 433 435 437 439 441\n",
      " 443 445 447 449 451 453 455 457 459 461 463 465 467 469 471 473 475 477\n",
      " 479 481 483 485 487 489 491 493 495 497 499 501 503 505 507  36 520 530\n",
      " 540 550 570 580 590 595 600 610 620 630 640 650 660 670 678 680 683 685\n",
      " 690 700 710 720 730 735 740 750 760 770 775 790 800 810 820 830 840  78\n",
      "  10  30  40 120  54]\n",
      "~~~~~~~~~date\n",
      "['2020-03-11' '2020-03-12' '2020-03-13' '2020-03-14' '2020-03-15'\n",
      " '2020-03-16' '2020-03-17' '2020-03-18' '2020-03-19' '2020-03-20'\n",
      " '2020-03-21' '2020-03-22' '2020-03-23' '2020-03-24' '2020-03-25'\n",
      " '2020-03-26' '2020-03-27' '2020-03-28' '2020-03-29' '2020-03-30'\n",
      " '2020-03-31' '2020-04-01' '2020-04-02' '2020-04-03' '2020-04-04'\n",
      " '2020-04-05' '2020-04-06' '2020-04-07' '2020-04-08' '2020-04-09'\n",
      " '2020-04-10' '2020-04-11' '2020-04-12' '2020-04-13' '2020-04-14'\n",
      " '2020-04-15' '2020-04-16' '2020-04-17' '2020-04-18' '2020-04-19'\n",
      " '2020-04-20' '2020-04-21' '2020-04-22' '2020-04-23' '2020-04-24'\n",
      " '2020-04-25' '2020-04-26' '2020-04-27' '2020-04-28' '2020-04-29'\n",
      " '2020-04-30' '2020-05-01' '2020-05-02' '2020-05-03' '2020-05-04'\n",
      " '2020-05-05' '2020-05-06' '2020-05-07' '2020-05-08' '2020-05-09'\n",
      " '2020-05-10' '2020-05-11' '2020-05-12' '2020-05-13' '2020-05-14'\n",
      " '2020-05-15' '2020-05-16' '2020-05-17' '2020-05-18' '2020-05-19'\n",
      " '2020-05-20' '2020-05-21' '2020-05-22' '2020-05-23' '2020-05-24'\n",
      " '2020-05-25' '2020-05-26' '2020-05-27' '2020-05-28' '2020-05-29'\n",
      " '2020-05-30' '2020-05-31' '2020-06-01' '2020-06-02' '2020-06-03'\n",
      " '2020-06-04' '2020-06-05' '2020-06-06' '2020-06-07' '2020-06-08'\n",
      " '2020-06-09' '2020-06-10' '2020-06-11' '2020-06-12' '2020-06-13'\n",
      " '2020-06-14' '2020-06-15' '2020-06-16' '2020-06-17' '2020-06-18'\n",
      " '2020-06-19' '2020-06-20' '2020-06-21' '2020-06-22' '2020-06-23'\n",
      " '2020-06-24' '2020-06-25' '2020-06-26' '2020-06-27' '2020-06-28'\n",
      " '2020-06-29' '2020-06-30' '2020-07-01' '2020-07-02' '2020-07-03'\n",
      " '2020-07-04' '2020-07-05' '2020-07-06' '2020-07-07' '2020-07-08'\n",
      " '2020-07-09' '2020-07-10' '2020-07-11' '2020-07-12' '2020-07-13'\n",
      " '2020-07-14' '2020-07-15' '2020-07-16' '2020-07-17' '2020-07-18'\n",
      " '2020-07-19' '2020-07-20' '2020-07-21' '2020-07-22' '2020-07-23'\n",
      " '2020-07-24' '2020-07-25' '2020-07-26' '2020-07-27' '2020-07-28'\n",
      " '2020-07-29' '2020-07-30' '2020-07-31' '2020-08-01' '2020-08-02'\n",
      " '2020-08-03' '2020-08-04' '2020-08-05' '2020-08-06' '2020-08-07'\n",
      " '2020-08-08' '2020-08-09' '2020-08-10' '2020-08-11' '2020-08-12'\n",
      " '2020-08-13' '2020-08-14' '2020-08-15' '2020-08-16' '2020-08-17'\n",
      " '2020-08-18' '2020-08-19' '2020-08-20' '2020-08-21' '2020-08-22'\n",
      " '2020-08-23' '2020-08-24' '2020-08-25' '2020-08-26' '2020-08-27'\n",
      " '2020-08-28' '2020-08-29' '2020-08-30' '2020-08-31' '2020-09-01'\n",
      " '2020-09-02' '2020-09-03' '2020-09-04' '2020-09-05' '2020-09-06'\n",
      " '2020-09-07' '2020-09-08' '2020-09-09' '2020-09-10' '2020-09-11'\n",
      " '2020-09-12' '2020-09-13' '2020-09-14' '2020-09-15' '2020-09-16'\n",
      " '2020-09-17' '2020-09-18' '2020-09-19' '2020-09-20' '2020-09-21'\n",
      " '2020-09-22' '2020-09-23' '2020-09-24' '2020-09-25' '2020-09-26'\n",
      " '2020-09-27' '2020-09-28' '2020-09-29' '2020-09-30' '2020-10-01'\n",
      " '2020-10-02' '2020-10-03' '2020-10-04' '2020-10-05' '2020-10-06'\n",
      " '2020-10-07' '2020-10-08' '2020-10-09' '2020-10-10' '2020-10-11'\n",
      " '2020-10-12' '2020-10-13' '2020-10-14' '2020-10-15' '2020-10-16'\n",
      " '2020-10-17' '2020-10-18' '2020-10-19' '2020-10-20' '2020-10-21'\n",
      " '2020-10-22' '2020-10-23' '2020-10-24' '2020-10-25' '2020-10-26'\n",
      " '2020-10-27' '2020-10-28' '2020-10-29' '2020-10-30' '2020-10-31'\n",
      " '2020-11-01' '2020-11-02' '2020-11-03' '2020-11-04' '2020-11-05'\n",
      " '2020-11-06' '2020-11-07' '2020-11-08' '2020-11-09' '2020-11-10'\n",
      " '2020-11-11' '2020-11-12' '2020-11-13' '2020-11-14' '2020-11-15'\n",
      " '2020-11-16' '2020-11-17' '2020-11-18' '2020-11-19' '2020-11-20'\n",
      " '2020-11-21' '2020-11-22' '2020-11-23' '2020-11-24' '2020-11-25'\n",
      " '2020-11-26' '2020-11-27' '2020-11-28' '2020-11-29' '2020-11-30'\n",
      " '2020-12-01' '2020-12-02' '2020-12-03' '2020-12-04' '2020-12-05'\n",
      " '2020-12-06' '2020-12-07' '2020-12-08' '2020-12-09' '2020-12-10'\n",
      " '2020-12-11' '2020-12-12' '2020-12-13' '2020-12-14' '2020-12-15'\n",
      " '2020-12-16' '2020-12-17' '2020-12-18' '2020-12-19' '2020-12-20'\n",
      " '2020-12-21' '2020-12-22' '2020-12-23' '2020-12-24' '2020-12-25'\n",
      " '2020-12-26' '2020-12-27' '2020-12-28' '2020-12-29' '2020-12-30'\n",
      " '2020-12-31']\n",
      "~~~~~~~~~General_GB_order_group\n",
      "['No order found' 'Ban of gatherings over 1-10 people'\n",
      " 'Bans gatherings of any size' 'Ban of gatherings over 11-25 people'\n",
      " 'Ban of gatherings over 101 or more people'\n",
      " 'Ban of gatherings over 26-50 people'\n",
      " 'Ban of gatherings over 51-100 people']\n",
      "~~~~~~~~~General_GB_order_code\n",
      "[1 6 7 5 2 4 3]\n",
      "~~~~~~~~~General_or_Under_6ft_Bans_Gatherings_Over\n",
      "[nan 'No ban' '9' '0' '10' '25' '249' '49' '5' '100' '50' 50.0 10.0 '999'\n",
      " 0.0 999.0 49.0 25.0 '8' '15' '250' '75' 20.0 '6' '10000' '99' '4' 5.0\n",
      " 99.0 9.0 4.0 500.0 100.0 '24' 6.0 249.0 24.0 8.0 250.0 15.0 '20' '150']\n",
      "~~~~~~~~~With_SD_order_group\n",
      "['No order found' 'Ban of gatherings over 1-10 people'\n",
      " 'Ban of gatherings over 11-25 people'\n",
      " 'Ban of gatherings over 51-100 people'\n",
      " 'Ban of gatherings over 26-50 people'\n",
      " 'Ban of gatherings over 101 or more people' 'Bans gatherings of any size']\n",
      "~~~~~~~~~With_SD_order_code\n",
      "[1 6 5 3 4 2 7]\n",
      "~~~~~~~~~Over_6ft_Bans_Gatherings_Over\n",
      "[nan 'No ban' '10' '20' '100' '50' '25' '250' '0' 10.0 0.0 '3000' '10000'\n",
      " '6' '9' '5']\n",
      "~~~~~~~~~outdoor_order_group\n",
      "['No order found' 'Bans gatherings of any size'\n",
      " 'Ban of gatherings over 1-10 people'\n",
      " 'Ban of gatherings over 51-100 people'\n",
      " 'Ban of gatherings over 101 or more people'\n",
      " 'Ban of gatherings over 26-50 people'\n",
      " 'Ban of gatherings over 11-25 people']\n",
      "~~~~~~~~~outdoor_order_code\n",
      "[1 7 6 3 2 4 5]\n",
      "~~~~~~~~~General_Or_Under_6ft_Bans_Outdoor_Gatherings_Over\n",
      "[nan 0.0 '10' 'No ban' '0' '100' '500' '250' '50' '25' 10.0 30.0 50.0\n",
      " 250.0 150.0 100.0 25.0 6.0 8.0 12.0 15.0 5.0 1000.0]\n",
      "~~~~~~~~~With_SD_outdoor_order_group\n",
      "['No order found' 'Ban of gatherings over 11-25 people'\n",
      " 'Ban of gatherings over 101 or more people'\n",
      " 'Ban of gatherings over 51-100 people'\n",
      " 'Ban of gatherings over 1-10 people'\n",
      " 'Ban of gatherings over 26-50 people']\n",
      "~~~~~~~~~With_SD_outdoor_order_code\n",
      "[1 5 2 3 6 4]\n",
      "~~~~~~~~~Over_6ft_Bans_Outdoor_Gatherings_Over\n",
      "[nan 20.0 'No ban' '175' '25' '100' '10' '50' '250' 100.0 25.0 250.0 15.0\n",
      " '15' '20' 500.0 150.0 'No Ban' '5']\n",
      "~~~~~~~~~Current_order_status\n",
      "[nan 'In effect']\n",
      "~~~~~~~~~Jurisdiction_Type\n",
      "['State' 'District (state)' 'Territory']\n",
      "~~~~~~~~~Issuing_Jurisdiction\n",
      "[nan 'AL' 'AK' 'AZ' 'AR' 'CA' 'CO' 'CT' 'DE' 'DC' 'FL' 'GA' 'HI' 'ID' 'IL'\n",
      " 'IN' 'IA' 'KS' 'KY' 'LA' 'ME' 'MD' 'MA' 'MI' 'MN' 'MS' 'MO' 'MT' 'NE'\n",
      " 'NV' 'NH' 'NJ' 'NM' 'NY' 'NC' 'OH' 'OK' 'OR' 'PA' 'RI' 'SC' 'TN' 'TX'\n",
      " 'UT' 'VT' 'VA' 'WA' 'WV' 'WI' 'WY' 'AS' 'GU' 'CNMI' 'PR' 'USVI']\n",
      "~~~~~~~~~Effective_date\n",
      "[nan '2020-03-19' '2020-03-20' '2020-03-28' '2020-05-11' '2020-12-09'\n",
      " '2020-03-17' '2020-03-24' '2020-04-24' '2020-05-22' '2020-03-21'\n",
      " '2020-06-29' '2020-07-23' '2020-12-03' '2020-03-26' '2020-03-27'\n",
      " '2020-04-06' '2020-05-04' '2020-05-18' '2020-06-15' '2020-11-03'\n",
      " '2020-03-16' '2020-09-12' '2020-10-09' '2020-11-13' '2020-11-18'\n",
      " '2020-11-25' '2020-11-29' '2020-12-02' '2020-12-16' '2020-12-17'\n",
      " '2020-12-11' '2020-12-06' '2020-12-23' '2020-12-30' '2020-04-02'\n",
      " '2020-04-10' '2020-04-27' '2020-05-08' '2020-05-14' '2020-05-26'\n",
      " '2020-06-01' '2020-06-18' '2020-06-30' '2020-07-30' '2020-08-21'\n",
      " '2020-09-20' '2020-09-22' '2020-09-28' '2020-09-29' '2020-10-02'\n",
      " '2020-10-05' '2020-10-08' '2020-10-17' '2020-10-24' '2020-10-29'\n",
      " '2020-10-31' '2020-11-02' '2020-11-07' '2020-11-11' '2020-11-20'\n",
      " '2020-11-23' '2020-12-01' '2020-12-05' '2020-12-07' '2020-12-10'\n",
      " '2020-12-15' '2020-12-29' '2020-09-08' '2020-09-15' '2020-03-12'\n",
      " '2020-05-29' '2020-06-16' '2020-06-17' '2020-07-03' '2020-11-06'\n",
      " '2020-06-19' '2020-07-24' '2020-08-26' '2020-09-01' '2020-09-04'\n",
      " '2020-12-14' '2020-04-15' '2020-05-16' '2020-06-22' '2020-07-22'\n",
      " '2020-10-07' '2020-03-25' '2020-06-05' '2020-06-20' '2020-07-07'\n",
      " '2020-07-20' '2020-08-05' '2020-09-25' '2020-11-24' '2020-04-03'\n",
      " '2020-04-08' '2020-04-20' '2020-05-01' '2020-05-28' '2020-07-01'\n",
      " '2020-07-16' '2020-08-01' '2020-08-16' '2020-09-16' '2020-10-01'\n",
      " '2020-10-16' '2020-11-01' '2020-04-26' '2020-05-05' '2020-06-26'\n",
      " '2020-07-21' '2020-10-21' '2020-08-03' '2020-08-08' '2020-08-20'\n",
      " '2020-08-27' '2020-09-10' '2020-09-24' '2020-10-22' '2020-06-10'\n",
      " '2020-07-17' '2020-05-03' '2020-05-09' '2020-08-11' '2020-10-23'\n",
      " '2020-04-30' '2020-07-06' '2020-07-31' '2020-08-06' '2020-10-06'\n",
      " '2020-10-15' '2020-10-27' '2020-11-12' '2020-12-12' '2020-11-14'\n",
      " '2020-03-13' '2020-03-18' '2020-04-01' '2020-09-18' '2020-08-18'\n",
      " '2020-09-02' '2020-10-28' '2020-10-03' '2020-10-25' '2020-11-04'\n",
      " '2020-06-12' '2020-09-26' '2020-10-18' '2020-11-15' '2020-12-13'\n",
      " '2020-12-21' '2020-12-28' '2020-05-21' '2020-05-13' '2020-06-25'\n",
      " '2020-11-17' '2020-04-16' '2020-04-18' '2020-03-23' '2020-05-15'\n",
      " '2020-07-13' '2020-08-07' '2020-08-28' '2020-09-11' '2020-04-07'\n",
      " '2020-04-29' '2020-10-13' '2020-03-30' '2020-05-06' '2020-05-27'\n",
      " '2020-06-03' '2020-03-31' '2020-04-28' '2020-06-08' '2020-12-26'\n",
      " '2020-04-09' '2020-05-07' '2020-05-31' '2020-06-09' '2020-12-18'\n",
      " '2020-04-17' '2020-07-02' '2020-08-17' '2020-08-31' '2020-09-14'\n",
      " '2020-09-30' '2020-05-12' '2020-04-22' '2020-09-21' '2020-11-16'\n",
      " '2020-12-24' '2020-03-29' '2020-11-05' '2020-04-04' '2020-08-04'\n",
      " '2020-04-11' '2020-08-29' '2020-11-30' '2020-06-13' '2020-06-23'\n",
      " '2020-06-24' '2020-07-09' '2020-10-14' '2020-11-09' '2020-11-19'\n",
      " '2020-03-14' '2020-04-23' '2020-04-13' '2020-05-30' '2020-07-10'\n",
      " '2020-05-23' '2020-06-06' '2020-07-14' '2020-07-15' '2020-09-19'\n",
      " '2020-03-22' '2020-07-29' '2020-10-30' '2020-08-10' '2020-08-25'\n",
      " '2020-09-09' '2020-11-08' '2020-12-08' '2020-12-20' '2020-07-27'\n",
      " '2020-08-14' '2020-09-23' '2020-11-10' '2020-03-15' '2020-09-03'\n",
      " '2020-06-11' '2020-07-04' '2020-03-11' '2020-10-10' '2020-11-21'\n",
      " '2020-11-27' '2020-11-28' '2020-12-19' '2020-12-27' '2020-10-19'\n",
      " '2020-04-05' '2020-05-10' '2020-08-24' '2020-09-07' '2020-08-02'\n",
      " '2020-08-09' '2020-08-15' '2020-08-22' '2020-08-23' '2020-08-30'\n",
      " '2020-09-06' '2020-08-13']\n",
      "~~~~~~~~~Expiration_date\n",
      "[nan '2020-05-15' '2020-12-11' '2021-01-22' '2020-04-18' '2020-04-11'\n",
      " '2020-04-26' '2020-05-26' '2020-06-01' '2020-07-01' '2020-07-30'\n",
      " '2020-08-20' '2020-09-20' '2020-10-19' '2020-11-05' '2020-11-29'\n",
      " '2020-12-20' '2021-01-06' '2020-10-05' '2020-11-04' '2020-04-30'\n",
      " '2020-05-20' '2020-06-20' '2020-07-03' '2020-05-31' '2020-06-15'\n",
      " '2020-03-31' '2020-04-24' '2020-06-08' '2020-07-24' '2020-10-09'\n",
      " '2020-12-31' '2020-04-06' '2020-04-13' '2020-05-13' '2020-06-28'\n",
      " '2020-06-30' '2020-07-15' '2020-07-31' '2020-08-15' '2020-08-31'\n",
      " '2020-09-15' '2020-09-30' '2020-10-15' '2020-10-31' '2020-11-15'\n",
      " '2020-11-30' '2020-12-15' '2021-02-14' '2020-06-05' '2020-09-04'\n",
      " '2020-09-16' '2020-09-09' '2020-09-23' '2020-08-27' '2020-08-29'\n",
      " '2020-10-29' '2020-04-15' '2020-09-19' '2020-10-17' '2020-11-14'\n",
      " '2020-12-12' '2021-01-09' '2020-04-20' '2020-05-01' '2020-05-04'\n",
      " '2020-05-23' '2020-06-13' '2020-07-17' '2020-09-25' '2021-01-03'\n",
      " '2020-05-11' '2020-05-18' '2020-05-27' '2020-06-17' '2020-06-25'\n",
      " '2020-07-25' '2020-08-23' '2020-10-18' '2020-12-10' '2020-12-16'\n",
      " '2021-01-08' '2020-12-13' '2020-08-07' '2020-08-28' '2020-09-11'\n",
      " '2020-11-06' '2020-12-04' '2020-12-23' '2021-01-13' '2020-04-08'\n",
      " '2020-04-05' '2020-04-07' '2020-05-19' '2021-01-10' '2020-05-28'\n",
      " '2020-06-12' '2020-10-30' '2020-12-08' '2021-01-15' '2020-12-18'\n",
      " '2020-04-14' '2020-04-27' '2020-05-25' '2020-06-29' '2020-07-06'\n",
      " '2020-07-20' '2020-08-03' '2020-08-17' '2020-09-14' '2020-11-11'\n",
      " '2020-05-03' '2020-04-10' '2020-09-13' '2021-01-31' '2020-05-10'\n",
      " '2020-05-06' '2020-04-16' '2020-05-30' '2020-09-01' '2020-10-01'\n",
      " '2020-09-18' '2020-10-02' '2020-10-16' '2020-11-13' '2020-11-16'\n",
      " '2020-12-02' '2020-12-30' '2021-01-29' '2020-04-22' '2020-04-29'\n",
      " '2020-06-06' '2020-06-21' '2020-07-13' '2020-07-26' '2020-08-12'\n",
      " '2021-01-01' '2020-05-08' '2020-05-22' '2020-06-26' '2020-10-23'\n",
      " '2020-05-29' '2020-04-28' '2020-05-02' '2020-05-16' '2020-05-24'\n",
      " '2020-06-11' '2020-07-12' '2020-08-09' '2020-09-27' '2020-10-25'\n",
      " '2020-11-23' '2020-12-17' '2020-06-04' '2021-01-04' '2020-03-30'\n",
      " '2020-07-29' '2020-09-28' '2020-10-28' '2020-11-27' '2020-11-22'\n",
      " '2021-01-19' '2020-10-24' '2020-11-08' '2020-12-29' '2020-04-01'\n",
      " '2020-07-10' '2020-11-12' '2021-01-21' '2020-06-10' '2020-09-10'\n",
      " '2020-12-14' '2021-01-11' '2020-04-03' '2020-04-17' '2020-05-05'\n",
      " '2020-06-14' '2020-09-06' '2020-04-12' '2020-08-08' '2020-08-10'\n",
      " '2020-08-21' '2020-08-24' '2020-09-05' '2020-09-07' '2020-12-19'\n",
      " '2020-12-21' '2020-12-26' '2020-12-28' '2021-01-02']\n",
      "~~~~~~~~~Effective_NA_Reason\n",
      "[nan]\n",
      "~~~~~~~~~Expiration_NA_Reason\n",
      "[nan 'Until rescinded' 'Duration of emergency' 'Not listed'\n",
      " 'Upon further order' 'Undetermined' 'Indefinite' 'Until Rescineded']\n",
      "~~~~~~~~~General_Household_Order_Group\n",
      "['No order found' 'Bans gatherings of any size'\n",
      " 'Ban of gatherings over 1-10 households']\n",
      "~~~~~~~~~General_Household_order_code\n",
      "[1 7 6]\n",
      "~~~~~~~~~Bans_Households_Not_Individuals_Generally\n",
      "[nan  0.  3.]\n",
      "~~~~~~~~~Outdoor_Household_Order_Group\n",
      "['No order found' 'Ban of gatherings over 1-10 households']\n",
      "~~~~~~~~~Outdoor_Household_Order_Code\n",
      "[1 7 6]\n",
      "~~~~~~~~~Bans_Households_Not_Individuals_Outdoor_Only\n",
      "[nan  3.]\n",
      "~~~~~~~~~Date_Signed\n",
      "[nan '2020-03-19' '2020-03-20' '2020-04-28' '2020-11-05' '2020-12-09'\n",
      " '2020-03-17' '2020-03-23' '2020-04-21' '2020-04-24' '2020-05-19'\n",
      " '2020-06-29' '2020-07-23' '2020-12-02' '2020-03-26' '2020-04-04'\n",
      " '2020-05-04' '2020-05-18' '2020-06-15' '2020-11-03' '2020-03-16'\n",
      " '2020-09-12' '2020-10-09' '2020-11-13' '2020-11-17' '2020-11-24'\n",
      " '2020-11-28' '2020-12-01' '2020-12-08' '2020-12-15' '2020-12-16'\n",
      " '2020-12-10' '2020-12-05' '2020-12-22' '2020-12-29' '2020-03-18'\n",
      " '2020-03-27' '2020-04-01' '2020-04-09' '2020-04-26' '2020-05-08'\n",
      " '2020-05-14' '2020-05-26' '2020-06-05' '2020-06-18' '2020-06-30'\n",
      " '2020-07-30' '2020-08-21' '2020-09-20' '2020-09-22' '2020-09-28'\n",
      " '2020-09-29' '2020-10-02' '2020-10-05' '2020-10-08' '2020-10-17'\n",
      " '2020-10-24' '2020-10-29' '2020-10-31' '2020-11-02' '2020-11-07'\n",
      " '2020-11-11' '2020-11-18' '2020-11-20' '2020-11-23' '2020-11-25'\n",
      " '2020-12-03' '2020-12-07' '2020-09-08' '2020-09-15' '2020-03-12'\n",
      " '2020-04-10' '2020-05-29' '2020-06-16' '2020-06-17' '2020-07-03'\n",
      " '2020-11-06' '2020-05-31' '2020-06-14' '2020-06-19' '2020-07-24'\n",
      " '2020-08-26' '2020-09-01' '2020-09-03' '2020-09-25' '2020-03-24'\n",
      " '2020-04-15' '2020-05-13' '2020-05-27' '2020-07-22' '2020-10-07'\n",
      " '2020-03-25' '2020-04-29' '2020-05-09' '2020-06-03' '2020-06-20'\n",
      " '2020-07-07' '2020-07-20' '2020-08-05' '2020-04-02' '2020-04-08'\n",
      " '2020-04-20' '2020-04-23' '2020-05-12' '2020-05-28' '2020-06-11'\n",
      " '2020-07-15' '2020-07-31' '2020-08-15' '2020-08-31' '2020-09-30'\n",
      " '2020-10-15' '2020-10-30' '2020-11-30' '2020-04-25' '2020-05-05'\n",
      " '2020-06-10' '2020-06-26' '2020-10-18' '2020-12-17' '2020-08-03'\n",
      " '2020-08-06' '2020-08-19' '2020-08-25' '2020-09-23' '2020-10-20'\n",
      " '2020-07-17' '2020-08-20' '2020-05-03' '2020-08-11' '2020-10-23'\n",
      " '2020-04-27' '2020-05-07' '2020-06-09' '2020-07-08' '2020-08-07'\n",
      " '2020-08-28' '2020-10-01' '2020-10-14' '2020-10-26' '2020-11-10'\n",
      " '2020-12-24' '2020-04-30' '2020-12-30' '2020-03-13' '2020-09-18'\n",
      " '2020-10-16' '2020-12-11' '2020-10-21' '2020-08-18' '2020-09-02'\n",
      " '2020-10-27' '2020-04-06' '2020-05-01' '2020-05-21' '2020-07-01'\n",
      " '2020-07-16' '2020-09-24' '2020-12-06' '2020-12-14' '2020-12-21'\n",
      " '2020-12-28' '2020-06-25' '2020-11-16' '2020-04-16' '2020-04-07'\n",
      " '2020-04-17' '2020-05-20' '2020-03-22' '2020-07-11' '2020-09-11'\n",
      " '2020-03-31' '2020-08-01' '2020-10-06' '2020-11-04' '2020-03-30'\n",
      " '2020-05-06' '2020-03-15' '2020-05-15' '2020-06-06' '2020-07-02'\n",
      " '2020-05-22' '2020-06-01' '2020-07-29' '2020-11-15' '2020-12-18'\n",
      " '2020-07-19' '2020-08-14' '2020-09-13' '2020-10-19' '2020-07-10'\n",
      " '2020-03-21' '2020-04-03' '2020-04-22' '2020-05-11' '2020-07-28'\n",
      " '2020-08-10' '2020-11-09' '2020-03-29' '2020-12-13' '2020-11-14'\n",
      " '2020-06-22' '2020-04-11' '2020-06-12' '2020-07-13' '2020-10-22'\n",
      " '2020-06-13' '2020-06-23' '2020-06-24' '2020-07-06' '2020-07-09'\n",
      " '2020-07-21' '2020-10-28' '2020-11-19' '2020-03-14' '2020-09-04'\n",
      " '2020-04-13' '2020-05-30' '2020-05-23' '2020-06-08' '2020-07-14'\n",
      " '2020-08-13' '2020-08-17' '2020-09-19' '2020-03-28' '2020-06-04'\n",
      " '2020-08-02' '2020-09-09' '2020-11-08' '2020-12-23' '2020-08-29'\n",
      " '2020-12-20' '2020-09-17' '2020-07-27' '2020-08-08' '2020-11-12'\n",
      " '2020-06-02' '2020-09-10' '2020-10-13' '2020-03-11' '2020-09-26'\n",
      " '2020-10-03' '2020-10-10' '2020-11-21' '2020-11-27' '2020-11-29'\n",
      " '2020-12-12' '2020-12-19' '2020-12-27' '2020-08-12' '2020-11-01'\n",
      " '2020-04-05' '2020-08-27' '2020-05-25' '2020-09-07' '2020-04-12']\n",
      "~~~~~~~~~Express_Preemption\n",
      "[nan 'Expressly Preempts w/ Process for Approval' 'Expressly Preempts'\n",
      " 'Expressly Preempts Less Restrictive Measures' 'Unknown'\n",
      " 'Expressly Does Not Preempt' 'Expressly Does Not Preempt Generally']\n",
      "~~~~~~~~~origin_dataset\n",
      "[nan 'state.terr']\n",
      "~~~~~~~~~Indoor_Outdoor\n",
      "[nan 'Outdoor only' 'Indoor only' 'Indoor/Outdoor' 'indoor only' 'Outdoor'\n",
      " 'Indoor']\n",
      "~~~~~~~~~Source_of_Action\n",
      "[nan 'Official' 'News' 'Offcial' 'Official�' 'Oficial' '�' 'Press Release'\n",
      " 'official' 'Official Announcement' 'News Media']\n"
     ]
    }
   ],
   "source": [
    "for col in bans_columns[:35]:\n",
    "    print(\"~~~~~~~~~\"+col)\n",
    "    print(bans[col].unique())"
   ]
  },
  {
   "cell_type": "code",
   "execution_count": 190,
   "metadata": {},
   "outputs": [],
   "source": [
    "#drop US territories and DC\n",
    "bans_us = bans.copy()\n",
    "bans_us = bans_us[~bans_us['State_Tribe_Territory'].isin(['AS','GU','MP','PR','VI','DC'])]\n",
    "bans_us.rename(columns={'State_Tribe_Territory':'State'},inplace=True)\n",
    "bans_us['State'].unique()\n"
   ]
  },
  {
   "cell_type": "code",
   "execution_count": 231,
   "metadata": {},
   "outputs": [
    {
     "output_type": "error",
     "ename": "SyntaxError",
     "evalue": "unexpected EOF while parsing (<ipython-input-231-0269048b5e70>, line 6)",
     "traceback": [
      "\u001b[0;36m  File \u001b[0;32m\"<ipython-input-231-0269048b5e70>\"\u001b[0;36m, line \u001b[0;32m6\u001b[0m\n\u001b[0;31m    bans_us[bans_us[\"State\"]==\"AK\"].groupby([\"General_GB_order_code\", \"date\"]).count()\u001b[0m\n\u001b[0m                                                                                      ^\u001b[0m\n\u001b[0;31mSyntaxError\u001b[0m\u001b[0;31m:\u001b[0m unexpected EOF while parsing\n"
     ]
    }
   ],
   "source": [
    "## General Ban Groupings\n",
    "## Proportion of Counties with ban type k; ban type proportions\n",
    "\n",
    "bans_us.groupby([\"State\", \"General_GB_order_group\"]).count()\n",
    "pd.set_option('display.max_rows',\n",
    "bans_us[bans_us[\"State\"]==\"AK\"].groupby([\"General_GB_order_code\", \"date\"]).count()"
   ]
  },
  {
   "cell_type": "code",
   "execution_count": 218,
   "metadata": {},
   "outputs": [
    {
     "output_type": "execute_result",
     "data": {
      "text/plain": [
       "       General_or_Under_6ft_Bans_Gatherings_Over\n",
       "State                                           \n",
       "AL                                      9.000000\n",
       "AR                                     10.000000\n",
       "CO                                     10.966081\n",
       "CT                                     30.918644\n",
       "DE                                     16.472527\n",
       "FL                                     10.000000\n",
       "GA                                     38.127208\n",
       "HI                                      9.455446\n",
       "IA                                     11.023141\n",
       "IL                                     50.719693\n",
       "IN                                     10.000000\n",
       "KS                                     14.917241\n",
       "KY                                     13.873171\n",
       "LA                                    125.960317\n",
       "MA                                     20.629139\n",
       "MD                                     19.438202\n",
       "ME                                     43.425606\n",
       "MI                                     29.529412\n",
       "MN                                     10.000000\n",
       "MO                                     10.000000\n",
       "MS                                     14.842222\n",
       "MT                                     12.490119\n",
       "NC                                     18.498294\n",
       "NE                                    973.919648\n",
       "NH                                      9.000000\n",
       "NJ                                     12.985075\n",
       "NM                                      6.429241\n",
       "NV                                     42.717105\n",
       "NY                                     51.632121\n",
       "OH                                     12.318644\n",
       "OK                                     10.000000\n",
       "OR                                     39.536111\n",
       "PA                                     63.996674\n",
       "RI                                     12.975207\n",
       "SC                                    250.000000\n",
       "TN                                      9.166667\n",
       "TX                                     10.000000\n",
       "UT                                     40.603865\n",
       "VA                                    128.754506\n",
       "VT                                     25.300000\n",
       "WA                                     15.959792\n",
       "WI                                     10.000000\n",
       "WV                                     30.691616\n",
       "WY                                     35.222997"
      ],
      "text/html": "<div>\n<style scoped>\n    .dataframe tbody tr th:only-of-type {\n        vertical-align: middle;\n    }\n\n    .dataframe tbody tr th {\n        vertical-align: top;\n    }\n\n    .dataframe thead th {\n        text-align: right;\n    }\n</style>\n<table border=\"1\" class=\"dataframe\">\n  <thead>\n    <tr style=\"text-align: right;\">\n      <th></th>\n      <th>General_or_Under_6ft_Bans_Gatherings_Over</th>\n    </tr>\n    <tr>\n      <th>State</th>\n      <th></th>\n    </tr>\n  </thead>\n  <tbody>\n    <tr>\n      <th>AL</th>\n      <td>9.000000</td>\n    </tr>\n    <tr>\n      <th>AR</th>\n      <td>10.000000</td>\n    </tr>\n    <tr>\n      <th>CO</th>\n      <td>10.966081</td>\n    </tr>\n    <tr>\n      <th>CT</th>\n      <td>30.918644</td>\n    </tr>\n    <tr>\n      <th>DE</th>\n      <td>16.472527</td>\n    </tr>\n    <tr>\n      <th>FL</th>\n      <td>10.000000</td>\n    </tr>\n    <tr>\n      <th>GA</th>\n      <td>38.127208</td>\n    </tr>\n    <tr>\n      <th>HI</th>\n      <td>9.455446</td>\n    </tr>\n    <tr>\n      <th>IA</th>\n      <td>11.023141</td>\n    </tr>\n    <tr>\n      <th>IL</th>\n      <td>50.719693</td>\n    </tr>\n    <tr>\n      <th>IN</th>\n      <td>10.000000</td>\n    </tr>\n    <tr>\n      <th>KS</th>\n      <td>14.917241</td>\n    </tr>\n    <tr>\n      <th>KY</th>\n      <td>13.873171</td>\n    </tr>\n    <tr>\n      <th>LA</th>\n      <td>125.960317</td>\n    </tr>\n    <tr>\n      <th>MA</th>\n      <td>20.629139</td>\n    </tr>\n    <tr>\n      <th>MD</th>\n      <td>19.438202</td>\n    </tr>\n    <tr>\n      <th>ME</th>\n      <td>43.425606</td>\n    </tr>\n    <tr>\n      <th>MI</th>\n      <td>29.529412</td>\n    </tr>\n    <tr>\n      <th>MN</th>\n      <td>10.000000</td>\n    </tr>\n    <tr>\n      <th>MO</th>\n      <td>10.000000</td>\n    </tr>\n    <tr>\n      <th>MS</th>\n      <td>14.842222</td>\n    </tr>\n    <tr>\n      <th>MT</th>\n      <td>12.490119</td>\n    </tr>\n    <tr>\n      <th>NC</th>\n      <td>18.498294</td>\n    </tr>\n    <tr>\n      <th>NE</th>\n      <td>973.919648</td>\n    </tr>\n    <tr>\n      <th>NH</th>\n      <td>9.000000</td>\n    </tr>\n    <tr>\n      <th>NJ</th>\n      <td>12.985075</td>\n    </tr>\n    <tr>\n      <th>NM</th>\n      <td>6.429241</td>\n    </tr>\n    <tr>\n      <th>NV</th>\n      <td>42.717105</td>\n    </tr>\n    <tr>\n      <th>NY</th>\n      <td>51.632121</td>\n    </tr>\n    <tr>\n      <th>OH</th>\n      <td>12.318644</td>\n    </tr>\n    <tr>\n      <th>OK</th>\n      <td>10.000000</td>\n    </tr>\n    <tr>\n      <th>OR</th>\n      <td>39.536111</td>\n    </tr>\n    <tr>\n      <th>PA</th>\n      <td>63.996674</td>\n    </tr>\n    <tr>\n      <th>RI</th>\n      <td>12.975207</td>\n    </tr>\n    <tr>\n      <th>SC</th>\n      <td>250.000000</td>\n    </tr>\n    <tr>\n      <th>TN</th>\n      <td>9.166667</td>\n    </tr>\n    <tr>\n      <th>TX</th>\n      <td>10.000000</td>\n    </tr>\n    <tr>\n      <th>UT</th>\n      <td>40.603865</td>\n    </tr>\n    <tr>\n      <th>VA</th>\n      <td>128.754506</td>\n    </tr>\n    <tr>\n      <th>VT</th>\n      <td>25.300000</td>\n    </tr>\n    <tr>\n      <th>WA</th>\n      <td>15.959792</td>\n    </tr>\n    <tr>\n      <th>WI</th>\n      <td>10.000000</td>\n    </tr>\n    <tr>\n      <th>WV</th>\n      <td>30.691616</td>\n    </tr>\n    <tr>\n      <th>WY</th>\n      <td>35.222997</td>\n    </tr>\n  </tbody>\n</table>\n</div>"
     },
     "metadata": {},
     "execution_count": 218
    }
   ],
   "source": [
    "## Bans of Gatherings > x\n",
    "# convert to int for calculations\n",
    "bans_us.loc[bans_us[\"General_or_Under_6ft_Bans_Gatherings_Over\"].isna(),\"General_or_Under_6ft_Bans_Gatherings_Over\"] = 0\n",
    "\n",
    "bans_us.loc[bans_us[\"General_or_Under_6ft_Bans_Gatherings_Over\"] == \"No ban\",\"General_or_Under_6ft_Bans_Gatherings_Over\"] = 0\n",
    "\n",
    "bans_us[\"General_or_Under_6ft_Bans_Gatherings_Over\"] = bans_us[\"General_or_Under_6ft_Bans_Gatherings_Over\"].astype(int) \n",
    "\n",
    "avg_ban_over = bans_us[bans_us[\"General_or_Under_6ft_Bans_Gatherings_Over\"] != 0].groupby(\"State\").mean(\"General_or_Under_6ft_Bans_Gatherings_Over\")\n",
    "\n",
    "avg_ban_over[\"General_or_Under_6ft_Bans_Gatherings_Over\"].to_frame() # State has bans for gatherings of, on average across counties and time, more than {x}."
   ]
  },
  {
   "cell_type": "code",
   "execution_count": 118,
   "metadata": {},
   "outputs": [
    {
     "output_type": "execute_result",
     "data": {
      "text/plain": [
       "   State     County_Name        date Effective_date Expiration_date  \\\n",
       "17    AL  Autauga County  2020-03-28     2020-03-28      2020-05-15   \n",
       "18    AL  Autauga County  2020-03-29     2020-03-28      2020-05-15   \n",
       "19    AL  Autauga County  2020-03-30     2020-03-28      2020-05-15   \n",
       "20    AL  Autauga County  2020-03-31     2020-03-28      2020-05-15   \n",
       "21    AL  Autauga County  2020-04-01     2020-03-28      2020-05-15   \n",
       "\n",
       "    Order_type                         Order_group  Order_code  \\\n",
       "17  General_GB  Ban of gatherings over 1-10 people           6   \n",
       "18  General_GB  Ban of gatherings over 1-10 people           6   \n",
       "19  General_GB  Ban of gatherings over 1-10 people           6   \n",
       "20  General_GB  Ban of gatherings over 1-10 people           6   \n",
       "21  General_GB  Ban of gatherings over 1-10 people           6   \n",
       "\n",
       "   Current_order_status  \n",
       "17            In effect  \n",
       "18            In effect  \n",
       "19            In effect  \n",
       "20            In effect  \n",
       "21            In effect  "
      ],
      "text/html": "<div>\n<style scoped>\n    .dataframe tbody tr th:only-of-type {\n        vertical-align: middle;\n    }\n\n    .dataframe tbody tr th {\n        vertical-align: top;\n    }\n\n    .dataframe thead th {\n        text-align: right;\n    }\n</style>\n<table border=\"1\" class=\"dataframe\">\n  <thead>\n    <tr style=\"text-align: right;\">\n      <th></th>\n      <th>State</th>\n      <th>County_Name</th>\n      <th>date</th>\n      <th>Effective_date</th>\n      <th>Expiration_date</th>\n      <th>Order_type</th>\n      <th>Order_group</th>\n      <th>Order_code</th>\n      <th>Current_order_status</th>\n    </tr>\n  </thead>\n  <tbody>\n    <tr>\n      <th>17</th>\n      <td>AL</td>\n      <td>Autauga County</td>\n      <td>2020-03-28</td>\n      <td>2020-03-28</td>\n      <td>2020-05-15</td>\n      <td>General_GB</td>\n      <td>Ban of gatherings over 1-10 people</td>\n      <td>6</td>\n      <td>In effect</td>\n    </tr>\n    <tr>\n      <th>18</th>\n      <td>AL</td>\n      <td>Autauga County</td>\n      <td>2020-03-29</td>\n      <td>2020-03-28</td>\n      <td>2020-05-15</td>\n      <td>General_GB</td>\n      <td>Ban of gatherings over 1-10 people</td>\n      <td>6</td>\n      <td>In effect</td>\n    </tr>\n    <tr>\n      <th>19</th>\n      <td>AL</td>\n      <td>Autauga County</td>\n      <td>2020-03-30</td>\n      <td>2020-03-28</td>\n      <td>2020-05-15</td>\n      <td>General_GB</td>\n      <td>Ban of gatherings over 1-10 people</td>\n      <td>6</td>\n      <td>In effect</td>\n    </tr>\n    <tr>\n      <th>20</th>\n      <td>AL</td>\n      <td>Autauga County</td>\n      <td>2020-03-31</td>\n      <td>2020-03-28</td>\n      <td>2020-05-15</td>\n      <td>General_GB</td>\n      <td>Ban of gatherings over 1-10 people</td>\n      <td>6</td>\n      <td>In effect</td>\n    </tr>\n    <tr>\n      <th>21</th>\n      <td>AL</td>\n      <td>Autauga County</td>\n      <td>2020-04-01</td>\n      <td>2020-03-28</td>\n      <td>2020-05-15</td>\n      <td>General_GB</td>\n      <td>Ban of gatherings over 1-10 people</td>\n      <td>6</td>\n      <td>In effect</td>\n    </tr>\n  </tbody>\n</table>\n</div>"
     },
     "metadata": {},
     "execution_count": 118
    }
   ],
   "source": [
    "#Decide on what columns to keep\n",
    "\n",
    "#Separate the different order types into different data frames\n",
    "\n",
    "#Get General ban orders into a dataframe\n",
    "GB_cols = [\n",
    "    'State',\n",
    "    'County_Name',\n",
    "    'date',\n",
    "    'Effective_date',\n",
    "    'Expiration_date',\n",
    "    'General_GB_order_group',\n",
    "    'General_GB_order_code',\n",
    "    'Current_order_status'\n",
    "]\n",
    "\n",
    "bans_us_GB = bans_us.copy()\n",
    "bans_us_GB = bans_us_GB[GB_cols]\n",
    "\n",
    "#Remove observations of 'No ban'\n",
    "bans_us_GB = bans_us_GB[bans_us_GB['General_GB_order_code']!=1]\n",
    "\n",
    "#Add order type to the df\n",
    "bans_us_GB.insert(5,'Order_type','General_GB')\n",
    "\n",
    "bans_us_GB.rename(columns={'General_GB_order_group':'Order_group','General_GB_order_code':'Order_code'},inplace=True)\n",
    "bans_us_GB.head()\n",
    "\n"
   ]
  },
  {
   "cell_type": "code",
   "execution_count": 91,
   "metadata": {},
   "outputs": [
    {
     "output_type": "execute_result",
     "data": {
      "text/plain": [
       "      State             County_Name        date Effective_date  \\\n",
       "19876    AK  Aleutians East Borough  2020-04-24     2020-04-24   \n",
       "19877    AK  Aleutians East Borough  2020-04-25     2020-04-24   \n",
       "19878    AK  Aleutians East Borough  2020-04-26     2020-04-24   \n",
       "19879    AK  Aleutians East Borough  2020-04-27     2020-04-24   \n",
       "19880    AK  Aleutians East Borough  2020-04-28     2020-04-24   \n",
       "\n",
       "      Expiration_date Order_type                  Order_group  Order_code  \\\n",
       "19876             NaN    Outdoor  Bans gatherings of any size           7   \n",
       "19877             NaN    Outdoor  Bans gatherings of any size           7   \n",
       "19878             NaN    Outdoor  Bans gatherings of any size           7   \n",
       "19879             NaN    Outdoor  Bans gatherings of any size           7   \n",
       "19880             NaN    Outdoor  Bans gatherings of any size           7   \n",
       "\n",
       "      Current_order_status  \n",
       "19876            In effect  \n",
       "19877            In effect  \n",
       "19878            In effect  \n",
       "19879            In effect  \n",
       "19880            In effect  "
      ],
      "text/html": "<div>\n<style scoped>\n    .dataframe tbody tr th:only-of-type {\n        vertical-align: middle;\n    }\n\n    .dataframe tbody tr th {\n        vertical-align: top;\n    }\n\n    .dataframe thead th {\n        text-align: right;\n    }\n</style>\n<table border=\"1\" class=\"dataframe\">\n  <thead>\n    <tr style=\"text-align: right;\">\n      <th></th>\n      <th>State</th>\n      <th>County_Name</th>\n      <th>date</th>\n      <th>Effective_date</th>\n      <th>Expiration_date</th>\n      <th>Order_type</th>\n      <th>Order_group</th>\n      <th>Order_code</th>\n      <th>Current_order_status</th>\n    </tr>\n  </thead>\n  <tbody>\n    <tr>\n      <th>19876</th>\n      <td>AK</td>\n      <td>Aleutians East Borough</td>\n      <td>2020-04-24</td>\n      <td>2020-04-24</td>\n      <td>NaN</td>\n      <td>Outdoor</td>\n      <td>Bans gatherings of any size</td>\n      <td>7</td>\n      <td>In effect</td>\n    </tr>\n    <tr>\n      <th>19877</th>\n      <td>AK</td>\n      <td>Aleutians East Borough</td>\n      <td>2020-04-25</td>\n      <td>2020-04-24</td>\n      <td>NaN</td>\n      <td>Outdoor</td>\n      <td>Bans gatherings of any size</td>\n      <td>7</td>\n      <td>In effect</td>\n    </tr>\n    <tr>\n      <th>19878</th>\n      <td>AK</td>\n      <td>Aleutians East Borough</td>\n      <td>2020-04-26</td>\n      <td>2020-04-24</td>\n      <td>NaN</td>\n      <td>Outdoor</td>\n      <td>Bans gatherings of any size</td>\n      <td>7</td>\n      <td>In effect</td>\n    </tr>\n    <tr>\n      <th>19879</th>\n      <td>AK</td>\n      <td>Aleutians East Borough</td>\n      <td>2020-04-27</td>\n      <td>2020-04-24</td>\n      <td>NaN</td>\n      <td>Outdoor</td>\n      <td>Bans gatherings of any size</td>\n      <td>7</td>\n      <td>In effect</td>\n    </tr>\n    <tr>\n      <th>19880</th>\n      <td>AK</td>\n      <td>Aleutians East Borough</td>\n      <td>2020-04-28</td>\n      <td>2020-04-24</td>\n      <td>NaN</td>\n      <td>Outdoor</td>\n      <td>Bans gatherings of any size</td>\n      <td>7</td>\n      <td>In effect</td>\n    </tr>\n  </tbody>\n</table>\n</div>"
     },
     "metadata": {},
     "execution_count": 91
    }
   ],
   "source": [
    "#Get outdoor ban orders into a dataframe\n",
    "Outdoor_cols = [\n",
    "    'State',\n",
    "    'County_Name',\n",
    "    'date',\n",
    "    'Effective_date',\n",
    "    'Expiration_date',\n",
    "    'outdoor_order_group',\n",
    "    'outdoor_order_code',\n",
    "    'Current_order_status'\n",
    "]\n",
    "\n",
    "bans_us_Outdoor = bans_us.copy()\n",
    "bans_us_Outdoor = bans_us_Outdoor[Outdoor_cols]\n",
    "\n",
    "#Remove observations of 'No ban'\n",
    "bans_us_Outdoor = bans_us_Outdoor[bans_us_Outdoor['outdoor_order_code']!=1]\n",
    "\n",
    "#Add order type to the df\n",
    "bans_us_Outdoor.insert(5,'Order_type','Outdoor')\n",
    "\n",
    "bans_us_Outdoor.rename(columns={'outdoor_order_group':'Order_group','outdoor_order_code':'Order_code'},inplace=True)\n",
    "bans_us_Outdoor.head()"
   ]
  },
  {
   "cell_type": "code",
   "execution_count": 92,
   "metadata": {},
   "outputs": [
    {
     "output_type": "execute_result",
     "data": {
      "text/plain": [
       "  State     County_Name        date Effective_date Expiration_date  \\\n",
       "0    AL  Autauga County  2020-03-11            NaN             NaN   \n",
       "1    AL  Autauga County  2020-03-12            NaN             NaN   \n",
       "2    AL  Autauga County  2020-03-13            NaN             NaN   \n",
       "3    AL  Autauga County  2020-03-14            NaN             NaN   \n",
       "4    AL  Autauga County  2020-03-15            NaN             NaN   \n",
       "\n",
       "        Order_type     Order_group  Order_code Current_order_status  \n",
       "0  With_SD_outdoor  No order found           1                  NaN  \n",
       "1  With_SD_outdoor  No order found           1                  NaN  \n",
       "2  With_SD_outdoor  No order found           1                  NaN  \n",
       "3  With_SD_outdoor  No order found           1                  NaN  \n",
       "4  With_SD_outdoor  No order found           1                  NaN  "
      ],
      "text/html": "<div>\n<style scoped>\n    .dataframe tbody tr th:only-of-type {\n        vertical-align: middle;\n    }\n\n    .dataframe tbody tr th {\n        vertical-align: top;\n    }\n\n    .dataframe thead th {\n        text-align: right;\n    }\n</style>\n<table border=\"1\" class=\"dataframe\">\n  <thead>\n    <tr style=\"text-align: right;\">\n      <th></th>\n      <th>State</th>\n      <th>County_Name</th>\n      <th>date</th>\n      <th>Effective_date</th>\n      <th>Expiration_date</th>\n      <th>Order_type</th>\n      <th>Order_group</th>\n      <th>Order_code</th>\n      <th>Current_order_status</th>\n    </tr>\n  </thead>\n  <tbody>\n    <tr>\n      <th>0</th>\n      <td>AL</td>\n      <td>Autauga County</td>\n      <td>2020-03-11</td>\n      <td>NaN</td>\n      <td>NaN</td>\n      <td>With_SD_outdoor</td>\n      <td>No order found</td>\n      <td>1</td>\n      <td>NaN</td>\n    </tr>\n    <tr>\n      <th>1</th>\n      <td>AL</td>\n      <td>Autauga County</td>\n      <td>2020-03-12</td>\n      <td>NaN</td>\n      <td>NaN</td>\n      <td>With_SD_outdoor</td>\n      <td>No order found</td>\n      <td>1</td>\n      <td>NaN</td>\n    </tr>\n    <tr>\n      <th>2</th>\n      <td>AL</td>\n      <td>Autauga County</td>\n      <td>2020-03-13</td>\n      <td>NaN</td>\n      <td>NaN</td>\n      <td>With_SD_outdoor</td>\n      <td>No order found</td>\n      <td>1</td>\n      <td>NaN</td>\n    </tr>\n    <tr>\n      <th>3</th>\n      <td>AL</td>\n      <td>Autauga County</td>\n      <td>2020-03-14</td>\n      <td>NaN</td>\n      <td>NaN</td>\n      <td>With_SD_outdoor</td>\n      <td>No order found</td>\n      <td>1</td>\n      <td>NaN</td>\n    </tr>\n    <tr>\n      <th>4</th>\n      <td>AL</td>\n      <td>Autauga County</td>\n      <td>2020-03-15</td>\n      <td>NaN</td>\n      <td>NaN</td>\n      <td>With_SD_outdoor</td>\n      <td>No order found</td>\n      <td>1</td>\n      <td>NaN</td>\n    </tr>\n  </tbody>\n</table>\n</div>"
     },
     "metadata": {},
     "execution_count": 92
    }
   ],
   "source": [
    "#Get Outdoor ban orders with Social Distancing into a dataframe\n",
    "SD_outdoor_cols = [\n",
    "    'State',\n",
    "    'County_Name',\n",
    "    'date',\n",
    "    'Effective_date',\n",
    "    'Expiration_date',\n",
    "    'With_SD_outdoor_order_group',\n",
    "    'With_SD_outdoor_order_code',\n",
    "    'Current_order_status'\n",
    "]\n",
    "\n",
    "bans_us_SD_outdoor = bans_us.copy()\n",
    "bans_us_SD_outdoor = bans_us_SD_outdoor[SD_outdoor_cols]\n",
    "\n",
    "#Remove observations of 'No ban'\n",
    "#bans_us_SD_outdoor = bans_us_SD_outdoor[bans_us_SD_outdoor['With_SD_outdoor_order_code']!=1]\n",
    "\n",
    "#Add order type to the df\n",
    "bans_us_SD_outdoor.insert(5,'Order_type','With_SD_outdoor')\n",
    "\n",
    "bans_us_SD_outdoor.rename(columns={'With_SD_outdoor_order_group':'Order_group','With_SD_outdoor_order_code':'Order_code'},inplace=True)\n",
    "bans_us_SD_outdoor.head()"
   ]
  },
  {
   "cell_type": "code",
   "execution_count": 93,
   "metadata": {},
   "outputs": [
    {
     "output_type": "execute_result",
     "data": {
      "text/plain": [
       "      State     County_Name        date Effective_date Expiration_date  \\\n",
       "55268    CA  Alameda County  2020-10-09     2020-10-09             NaN   \n",
       "55269    CA  Alameda County  2020-10-10     2020-10-09             NaN   \n",
       "55270    CA  Alameda County  2020-10-11     2020-10-09             NaN   \n",
       "55271    CA  Alameda County  2020-10-12     2020-10-09             NaN   \n",
       "55272    CA  Alameda County  2020-10-13     2020-10-09             NaN   \n",
       "\n",
       "              Order_type                  Order_group  Order_code  \\\n",
       "55268  General_household  Bans gatherings of any size           7   \n",
       "55269  General_household  Bans gatherings of any size           7   \n",
       "55270  General_household  Bans gatherings of any size           7   \n",
       "55271  General_household  Bans gatherings of any size           7   \n",
       "55272  General_household  Bans gatherings of any size           7   \n",
       "\n",
       "      Current_order_status  \n",
       "55268            In effect  \n",
       "55269            In effect  \n",
       "55270            In effect  \n",
       "55271            In effect  \n",
       "55272            In effect  "
      ],
      "text/html": "<div>\n<style scoped>\n    .dataframe tbody tr th:only-of-type {\n        vertical-align: middle;\n    }\n\n    .dataframe tbody tr th {\n        vertical-align: top;\n    }\n\n    .dataframe thead th {\n        text-align: right;\n    }\n</style>\n<table border=\"1\" class=\"dataframe\">\n  <thead>\n    <tr style=\"text-align: right;\">\n      <th></th>\n      <th>State</th>\n      <th>County_Name</th>\n      <th>date</th>\n      <th>Effective_date</th>\n      <th>Expiration_date</th>\n      <th>Order_type</th>\n      <th>Order_group</th>\n      <th>Order_code</th>\n      <th>Current_order_status</th>\n    </tr>\n  </thead>\n  <tbody>\n    <tr>\n      <th>55268</th>\n      <td>CA</td>\n      <td>Alameda County</td>\n      <td>2020-10-09</td>\n      <td>2020-10-09</td>\n      <td>NaN</td>\n      <td>General_household</td>\n      <td>Bans gatherings of any size</td>\n      <td>7</td>\n      <td>In effect</td>\n    </tr>\n    <tr>\n      <th>55269</th>\n      <td>CA</td>\n      <td>Alameda County</td>\n      <td>2020-10-10</td>\n      <td>2020-10-09</td>\n      <td>NaN</td>\n      <td>General_household</td>\n      <td>Bans gatherings of any size</td>\n      <td>7</td>\n      <td>In effect</td>\n    </tr>\n    <tr>\n      <th>55270</th>\n      <td>CA</td>\n      <td>Alameda County</td>\n      <td>2020-10-11</td>\n      <td>2020-10-09</td>\n      <td>NaN</td>\n      <td>General_household</td>\n      <td>Bans gatherings of any size</td>\n      <td>7</td>\n      <td>In effect</td>\n    </tr>\n    <tr>\n      <th>55271</th>\n      <td>CA</td>\n      <td>Alameda County</td>\n      <td>2020-10-12</td>\n      <td>2020-10-09</td>\n      <td>NaN</td>\n      <td>General_household</td>\n      <td>Bans gatherings of any size</td>\n      <td>7</td>\n      <td>In effect</td>\n    </tr>\n    <tr>\n      <th>55272</th>\n      <td>CA</td>\n      <td>Alameda County</td>\n      <td>2020-10-13</td>\n      <td>2020-10-09</td>\n      <td>NaN</td>\n      <td>General_household</td>\n      <td>Bans gatherings of any size</td>\n      <td>7</td>\n      <td>In effect</td>\n    </tr>\n  </tbody>\n</table>\n</div>"
     },
     "metadata": {},
     "execution_count": 93
    }
   ],
   "source": [
    "HH_cols = [\n",
    "    'State',\n",
    "    'County_Name',\n",
    "    'date',\n",
    "    'Effective_date',\n",
    "    'Expiration_date',\n",
    "    'General_Household_Order_Group',\n",
    "    'General_Household_order_code',\n",
    "    'Current_order_status'\n",
    "]\n",
    "\n",
    "bans_us_HH = bans_us.copy()\n",
    "bans_us_HH = bans_us_HH[HH_cols]\n",
    "bans_us_HH = bans_us_HH[bans_us_HH['General_Household_order_code']!=1]\n",
    "bans_us_HH.insert(5,'Order_type','General_household')\n",
    "bans_us_HH.rename(columns={'General_Household_Order_Group':'Order_group','General_Household_order_code':'Order_code'},inplace=True)\n",
    "bans_us_HH.head()"
   ]
  },
  {
   "cell_type": "code",
   "execution_count": 94,
   "metadata": {},
   "outputs": [
    {
     "output_type": "execute_result",
     "data": {
      "text/plain": [
       "      State     County_Name        date Effective_date Expiration_date  \\\n",
       "55268    CA  Alameda County  2020-10-09     2020-10-09             NaN   \n",
       "55269    CA  Alameda County  2020-10-10     2020-10-09             NaN   \n",
       "55270    CA  Alameda County  2020-10-11     2020-10-09             NaN   \n",
       "55271    CA  Alameda County  2020-10-12     2020-10-09             NaN   \n",
       "55272    CA  Alameda County  2020-10-13     2020-10-09             NaN   \n",
       "\n",
       "              Order_type                             Order_group  Order_code  \\\n",
       "55268  Outdoor_household  Ban of gatherings over 1-10 households           7   \n",
       "55269  Outdoor_household  Ban of gatherings over 1-10 households           7   \n",
       "55270  Outdoor_household  Ban of gatherings over 1-10 households           7   \n",
       "55271  Outdoor_household  Ban of gatherings over 1-10 households           7   \n",
       "55272  Outdoor_household  Ban of gatherings over 1-10 households           7   \n",
       "\n",
       "      Current_order_status  \n",
       "55268            In effect  \n",
       "55269            In effect  \n",
       "55270            In effect  \n",
       "55271            In effect  \n",
       "55272            In effect  "
      ],
      "text/html": "<div>\n<style scoped>\n    .dataframe tbody tr th:only-of-type {\n        vertical-align: middle;\n    }\n\n    .dataframe tbody tr th {\n        vertical-align: top;\n    }\n\n    .dataframe thead th {\n        text-align: right;\n    }\n</style>\n<table border=\"1\" class=\"dataframe\">\n  <thead>\n    <tr style=\"text-align: right;\">\n      <th></th>\n      <th>State</th>\n      <th>County_Name</th>\n      <th>date</th>\n      <th>Effective_date</th>\n      <th>Expiration_date</th>\n      <th>Order_type</th>\n      <th>Order_group</th>\n      <th>Order_code</th>\n      <th>Current_order_status</th>\n    </tr>\n  </thead>\n  <tbody>\n    <tr>\n      <th>55268</th>\n      <td>CA</td>\n      <td>Alameda County</td>\n      <td>2020-10-09</td>\n      <td>2020-10-09</td>\n      <td>NaN</td>\n      <td>Outdoor_household</td>\n      <td>Ban of gatherings over 1-10 households</td>\n      <td>7</td>\n      <td>In effect</td>\n    </tr>\n    <tr>\n      <th>55269</th>\n      <td>CA</td>\n      <td>Alameda County</td>\n      <td>2020-10-10</td>\n      <td>2020-10-09</td>\n      <td>NaN</td>\n      <td>Outdoor_household</td>\n      <td>Ban of gatherings over 1-10 households</td>\n      <td>7</td>\n      <td>In effect</td>\n    </tr>\n    <tr>\n      <th>55270</th>\n      <td>CA</td>\n      <td>Alameda County</td>\n      <td>2020-10-11</td>\n      <td>2020-10-09</td>\n      <td>NaN</td>\n      <td>Outdoor_household</td>\n      <td>Ban of gatherings over 1-10 households</td>\n      <td>7</td>\n      <td>In effect</td>\n    </tr>\n    <tr>\n      <th>55271</th>\n      <td>CA</td>\n      <td>Alameda County</td>\n      <td>2020-10-12</td>\n      <td>2020-10-09</td>\n      <td>NaN</td>\n      <td>Outdoor_household</td>\n      <td>Ban of gatherings over 1-10 households</td>\n      <td>7</td>\n      <td>In effect</td>\n    </tr>\n    <tr>\n      <th>55272</th>\n      <td>CA</td>\n      <td>Alameda County</td>\n      <td>2020-10-13</td>\n      <td>2020-10-09</td>\n      <td>NaN</td>\n      <td>Outdoor_household</td>\n      <td>Ban of gatherings over 1-10 households</td>\n      <td>7</td>\n      <td>In effect</td>\n    </tr>\n  </tbody>\n</table>\n</div>"
     },
     "metadata": {},
     "execution_count": 94
    }
   ],
   "source": [
    "Outdoor_HH_cols = [\n",
    "    'State',\n",
    "    'County_Name',\n",
    "    'date',\n",
    "    'Effective_date',\n",
    "    'Expiration_date',\n",
    "    'Outdoor_Household_Order_Group',\n",
    "    'Outdoor_Household_Order_Code',\n",
    "    'Current_order_status'\n",
    "]\n",
    "\n",
    "bans_us_outdoor_HH = bans_us.copy()\n",
    "bans_us_outdoor_HH = bans_us_outdoor_HH[Outdoor_HH_cols]\n",
    "bans_us_outdoor_HH = bans_us_outdoor_HH[bans_us_outdoor_HH['Outdoor_Household_Order_Code']!=1]\n",
    "bans_us_outdoor_HH.insert(5,'Order_type','Outdoor_household')\n",
    "bans_us_outdoor_HH.rename(columns={'Outdoor_Household_Order_Group':'Order_group','Outdoor_Household_Order_Code':'Order_code'},inplace=True)\n",
    "bans_us_outdoor_HH.head()"
   ]
  },
  {
   "cell_type": "code",
   "execution_count": 95,
   "metadata": {},
   "outputs": [
    {
     "output_type": "stream",
     "name": "stdout",
     "text": [
      "(642428, 9)\n(130655, 9)\n(930032, 9)\n(3836, 9)\n(3836, 9)\n"
     ]
    }
   ],
   "source": [
    "order_frames = [bans_us_GB,bans_us_Outdoor,bans_us_SD_outdoor,bans_us_HH,bans_us_outdoor_HH]\n",
    "\n",
    "#Get the number of bans observed for each ban type\n",
    "for frame in order_frames:\n",
    "    print(frame.shape)"
   ]
  },
  {
   "cell_type": "code",
   "execution_count": 96,
   "metadata": {},
   "outputs": [
    {
     "output_type": "stream",
     "name": "stdout",
     "text": [
      "{'Outdoor_household', 'General_household', 'With_SD_outdoor', 'General_GB', 'Outdoor'}\n"
     ]
    }
   ],
   "source": [
    "#Merge the dataframes to record the states, counties, and dates of all order types\n",
    "ban_orders = pd.concat(order_frames)\n",
    "ban_orders.head()\n",
    "print(set(ban_orders_unique[\"Order_type\"]))"
   ]
  },
  {
   "cell_type": "code",
   "execution_count": 97,
   "metadata": {},
   "outputs": [
    {
     "output_type": "stream",
     "name": "stdout",
     "text": [
      "(1710787, 9)\n"
     ]
    }
   ],
   "source": [
    "#Get the number of ban order rows observed\n",
    "print(ban_orders.shape)"
   ]
  },
  {
   "cell_type": "code",
   "execution_count": 98,
   "metadata": {},
   "outputs": [
    {
     "output_type": "execute_result",
     "data": {
      "text/plain": [
       "    State     County_Name Effective_date Expiration_date  Order_type  \\\n",
       "17     AL  Autauga County     2020-03-28      2020-05-15  General_GB   \n",
       "61     AL  Autauga County     2020-05-11      2020-12-11  General_GB   \n",
       "273    AL  Autauga County     2020-12-09      2021-01-22  General_GB   \n",
       "313    AL  Baldwin County     2020-03-28      2020-05-15  General_GB   \n",
       "357    AL  Baldwin County     2020-05-11      2020-12-11  General_GB   \n",
       "\n",
       "                            Order_group  Order_code Current_order_status  \n",
       "17   Ban of gatherings over 1-10 people           6            In effect  \n",
       "61          Bans gatherings of any size           7            In effect  \n",
       "273         Bans gatherings of any size           7            In effect  \n",
       "313  Ban of gatherings over 1-10 people           6            In effect  \n",
       "357         Bans gatherings of any size           7            In effect  "
      ],
      "text/html": "<div>\n<style scoped>\n    .dataframe tbody tr th:only-of-type {\n        vertical-align: middle;\n    }\n\n    .dataframe tbody tr th {\n        vertical-align: top;\n    }\n\n    .dataframe thead th {\n        text-align: right;\n    }\n</style>\n<table border=\"1\" class=\"dataframe\">\n  <thead>\n    <tr style=\"text-align: right;\">\n      <th></th>\n      <th>State</th>\n      <th>County_Name</th>\n      <th>Effective_date</th>\n      <th>Expiration_date</th>\n      <th>Order_type</th>\n      <th>Order_group</th>\n      <th>Order_code</th>\n      <th>Current_order_status</th>\n    </tr>\n  </thead>\n  <tbody>\n    <tr>\n      <th>17</th>\n      <td>AL</td>\n      <td>Autauga County</td>\n      <td>2020-03-28</td>\n      <td>2020-05-15</td>\n      <td>General_GB</td>\n      <td>Ban of gatherings over 1-10 people</td>\n      <td>6</td>\n      <td>In effect</td>\n    </tr>\n    <tr>\n      <th>61</th>\n      <td>AL</td>\n      <td>Autauga County</td>\n      <td>2020-05-11</td>\n      <td>2020-12-11</td>\n      <td>General_GB</td>\n      <td>Bans gatherings of any size</td>\n      <td>7</td>\n      <td>In effect</td>\n    </tr>\n    <tr>\n      <th>273</th>\n      <td>AL</td>\n      <td>Autauga County</td>\n      <td>2020-12-09</td>\n      <td>2021-01-22</td>\n      <td>General_GB</td>\n      <td>Bans gatherings of any size</td>\n      <td>7</td>\n      <td>In effect</td>\n    </tr>\n    <tr>\n      <th>313</th>\n      <td>AL</td>\n      <td>Baldwin County</td>\n      <td>2020-03-28</td>\n      <td>2020-05-15</td>\n      <td>General_GB</td>\n      <td>Ban of gatherings over 1-10 people</td>\n      <td>6</td>\n      <td>In effect</td>\n    </tr>\n    <tr>\n      <th>357</th>\n      <td>AL</td>\n      <td>Baldwin County</td>\n      <td>2020-05-11</td>\n      <td>2020-12-11</td>\n      <td>General_GB</td>\n      <td>Bans gatherings of any size</td>\n      <td>7</td>\n      <td>In effect</td>\n    </tr>\n  </tbody>\n</table>\n</div>"
     },
     "metadata": {},
     "execution_count": 98
    }
   ],
   "source": [
    "#Create dataframe that isn't tied to the 'date' column\n",
    "#This changes level of data from 'date' to 'county_name'\n",
    "ban_orders_unique = ban_orders.copy()\n",
    "ban_orders_unique.drop(columns=['date'],inplace=True)\n",
    "ban_orders_unique.drop_duplicates(inplace=True)\n",
    "ban_orders_unique.head()"
   ]
  },
  {
   "cell_type": "code",
   "execution_count": 99,
   "metadata": {},
   "outputs": [
    {
     "output_type": "execute_result",
     "data": {
      "text/plain": [
       "(88767, 8)"
      ]
     },
     "metadata": {},
     "execution_count": 99
    }
   ],
   "source": [
    "#Check that the number unique ban order rows are less than the number of ban order rows observed\n",
    "ban_orders_unique.shape"
   ]
  },
  {
   "cell_type": "code",
   "execution_count": 100,
   "metadata": {},
   "outputs": [
    {
     "output_type": "stream",
     "name": "stdout",
     "text": [
      "['AL' 'AK' 'AR' 'CA' 'CO' 'CT' 'DE' 'DC' 'FL' 'GA' 'HI' 'ID' 'IL' 'IN'\n 'IA' 'KS' 'KY' 'LA' 'ME' 'MD' 'MA' 'MI' 'MN' 'MS' 'MO' 'MT' 'NE' 'NV'\n 'NH' 'NJ' 'NM' 'NY' 'NC' 'OH' 'OK' 'OR' 'PA' 'RI' 'SC' 'TN' 'TX' 'UT'\n 'VT' 'VA' 'WA' 'WV' 'WI' 'WY' 'AZ' 'ND' 'SD']\n"
     ]
    }
   ],
   "source": [
    "#Check what states are included in the unique bans dataset\n",
    "print(ban_orders_unique['State'].unique())"
   ]
  },
  {
   "source": [
    "Comparing the unique list of states before and after data wrangling, 'AZ', 'ND', and 'SD' and missing from the data after wrangling. This suggests that the two states were filtered out due to all their order codes being equal to 1, implying that the date of their gathering bans was either not recorded or not observed."
   ],
   "cell_type": "markdown",
   "metadata": {}
  },
  {
   "cell_type": "code",
   "execution_count": 101,
   "metadata": {},
   "outputs": [
    {
     "output_type": "execute_result",
     "data": {
      "text/plain": [
       "       County_Name\n",
       "State             \n",
       "AK             265\n",
       "AL             608\n",
       "AR            1125\n",
       "AZ              60\n",
       "CA            1725\n",
       "CO            5115\n",
       "CT             224\n",
       "DC              22\n",
       "DE              69\n",
       "FL            1005\n",
       "GA            6519\n",
       "HI             152\n",
       "IA            3196\n",
       "ID             572\n",
       "IL            3464\n",
       "IN            3778\n",
       "KS            1785\n",
       "KY            1440\n",
       "LA            2496\n",
       "MA             504\n",
       "MD             480\n",
       "ME             384\n",
       "MI            4412\n",
       "MN            1305\n",
       "MO             805\n",
       "MS            4770\n",
       "MT             616\n",
       "NC            3900\n",
       "ND              53\n",
       "NE            3487\n",
       "NH             140\n",
       "NJ             609\n",
       "NM            1863\n",
       "NV             360\n",
       "NY            5032\n",
       "OH            1496\n",
       "OK            2387\n",
       "OR            2389\n",
       "PA            1545\n",
       "RI             230\n",
       "SC            1242\n",
       "SD              66\n",
       "TN            1520\n",
       "TX            1778\n",
       "UT            1731\n",
       "VA            3633\n",
       "VT             434\n",
       "WA            2661\n",
       "WI            1296\n",
       "WV            2915\n",
       "WY            1104"
      ],
      "text/html": "<div>\n<style scoped>\n    .dataframe tbody tr th:only-of-type {\n        vertical-align: middle;\n    }\n\n    .dataframe tbody tr th {\n        vertical-align: top;\n    }\n\n    .dataframe thead th {\n        text-align: right;\n    }\n</style>\n<table border=\"1\" class=\"dataframe\">\n  <thead>\n    <tr style=\"text-align: right;\">\n      <th></th>\n      <th>County_Name</th>\n    </tr>\n    <tr>\n      <th>State</th>\n      <th></th>\n    </tr>\n  </thead>\n  <tbody>\n    <tr>\n      <th>AK</th>\n      <td>265</td>\n    </tr>\n    <tr>\n      <th>AL</th>\n      <td>608</td>\n    </tr>\n    <tr>\n      <th>AR</th>\n      <td>1125</td>\n    </tr>\n    <tr>\n      <th>AZ</th>\n      <td>60</td>\n    </tr>\n    <tr>\n      <th>CA</th>\n      <td>1725</td>\n    </tr>\n    <tr>\n      <th>CO</th>\n      <td>5115</td>\n    </tr>\n    <tr>\n      <th>CT</th>\n      <td>224</td>\n    </tr>\n    <tr>\n      <th>DC</th>\n      <td>22</td>\n    </tr>\n    <tr>\n      <th>DE</th>\n      <td>69</td>\n    </tr>\n    <tr>\n      <th>FL</th>\n      <td>1005</td>\n    </tr>\n    <tr>\n      <th>GA</th>\n      <td>6519</td>\n    </tr>\n    <tr>\n      <th>HI</th>\n      <td>152</td>\n    </tr>\n    <tr>\n      <th>IA</th>\n      <td>3196</td>\n    </tr>\n    <tr>\n      <th>ID</th>\n      <td>572</td>\n    </tr>\n    <tr>\n      <th>IL</th>\n      <td>3464</td>\n    </tr>\n    <tr>\n      <th>IN</th>\n      <td>3778</td>\n    </tr>\n    <tr>\n      <th>KS</th>\n      <td>1785</td>\n    </tr>\n    <tr>\n      <th>KY</th>\n      <td>1440</td>\n    </tr>\n    <tr>\n      <th>LA</th>\n      <td>2496</td>\n    </tr>\n    <tr>\n      <th>MA</th>\n      <td>504</td>\n    </tr>\n    <tr>\n      <th>MD</th>\n      <td>480</td>\n    </tr>\n    <tr>\n      <th>ME</th>\n      <td>384</td>\n    </tr>\n    <tr>\n      <th>MI</th>\n      <td>4412</td>\n    </tr>\n    <tr>\n      <th>MN</th>\n      <td>1305</td>\n    </tr>\n    <tr>\n      <th>MO</th>\n      <td>805</td>\n    </tr>\n    <tr>\n      <th>MS</th>\n      <td>4770</td>\n    </tr>\n    <tr>\n      <th>MT</th>\n      <td>616</td>\n    </tr>\n    <tr>\n      <th>NC</th>\n      <td>3900</td>\n    </tr>\n    <tr>\n      <th>ND</th>\n      <td>53</td>\n    </tr>\n    <tr>\n      <th>NE</th>\n      <td>3487</td>\n    </tr>\n    <tr>\n      <th>NH</th>\n      <td>140</td>\n    </tr>\n    <tr>\n      <th>NJ</th>\n      <td>609</td>\n    </tr>\n    <tr>\n      <th>NM</th>\n      <td>1863</td>\n    </tr>\n    <tr>\n      <th>NV</th>\n      <td>360</td>\n    </tr>\n    <tr>\n      <th>NY</th>\n      <td>5032</td>\n    </tr>\n    <tr>\n      <th>OH</th>\n      <td>1496</td>\n    </tr>\n    <tr>\n      <th>OK</th>\n      <td>2387</td>\n    </tr>\n    <tr>\n      <th>OR</th>\n      <td>2389</td>\n    </tr>\n    <tr>\n      <th>PA</th>\n      <td>1545</td>\n    </tr>\n    <tr>\n      <th>RI</th>\n      <td>230</td>\n    </tr>\n    <tr>\n      <th>SC</th>\n      <td>1242</td>\n    </tr>\n    <tr>\n      <th>SD</th>\n      <td>66</td>\n    </tr>\n    <tr>\n      <th>TN</th>\n      <td>1520</td>\n    </tr>\n    <tr>\n      <th>TX</th>\n      <td>1778</td>\n    </tr>\n    <tr>\n      <th>UT</th>\n      <td>1731</td>\n    </tr>\n    <tr>\n      <th>VA</th>\n      <td>3633</td>\n    </tr>\n    <tr>\n      <th>VT</th>\n      <td>434</td>\n    </tr>\n    <tr>\n      <th>WA</th>\n      <td>2661</td>\n    </tr>\n    <tr>\n      <th>WI</th>\n      <td>1296</td>\n    </tr>\n    <tr>\n      <th>WV</th>\n      <td>2915</td>\n    </tr>\n    <tr>\n      <th>WY</th>\n      <td>1104</td>\n    </tr>\n  </tbody>\n</table>\n</div>"
     },
     "metadata": {},
     "execution_count": 101
    }
   ],
   "source": [
    "#Get counts of unique county bans observed for each state\n",
    "ban_order_states = ban_orders_unique.groupby(['State'])['County_Name'].count().to_frame()\n",
    "ban_order_states"
   ]
  },
  {
   "cell_type": "code",
   "execution_count": 102,
   "metadata": {},
   "outputs": [
    {
     "output_type": "execute_result",
     "data": {
      "text/plain": [
       "       Count\n",
       "State       \n",
       "AK        29\n",
       "AL        67\n",
       "AR        75\n",
       "AZ        15\n",
       "CA        58\n",
       "CO        64\n",
       "CT         8\n",
       "DC         1\n",
       "DE         3\n",
       "FL        67\n",
       "GA       159\n",
       "HI         5\n",
       "IA        99\n",
       "ID        44\n",
       "IL       102\n",
       "IN        92\n",
       "KS       105\n",
       "KY       120\n",
       "LA        64\n",
       "MA        14\n",
       "MD        24\n",
       "ME        16\n",
       "MI        83\n",
       "MN        87\n",
       "MO       115\n",
       "MS        82\n",
       "MT        56\n",
       "NC       100\n",
       "ND        53\n",
       "NE        93\n",
       "NH        10\n",
       "NJ        21\n",
       "NM        33\n",
       "NV        17\n",
       "NY        62\n",
       "OH        88\n",
       "OK        77\n",
       "OR        36\n",
       "PA        67\n",
       "RI         5\n",
       "SC        46\n",
       "SD        66\n",
       "TN        95\n",
       "TX       254\n",
       "UT        29\n",
       "VA       133\n",
       "VT        14\n",
       "WA        39\n",
       "WI        72\n",
       "WV        55\n",
       "WY        23"
      ],
      "text/html": "<div>\n<style scoped>\n    .dataframe tbody tr th:only-of-type {\n        vertical-align: middle;\n    }\n\n    .dataframe tbody tr th {\n        vertical-align: top;\n    }\n\n    .dataframe thead th {\n        text-align: right;\n    }\n</style>\n<table border=\"1\" class=\"dataframe\">\n  <thead>\n    <tr style=\"text-align: right;\">\n      <th></th>\n      <th>Count</th>\n    </tr>\n    <tr>\n      <th>State</th>\n      <th></th>\n    </tr>\n  </thead>\n  <tbody>\n    <tr>\n      <th>AK</th>\n      <td>29</td>\n    </tr>\n    <tr>\n      <th>AL</th>\n      <td>67</td>\n    </tr>\n    <tr>\n      <th>AR</th>\n      <td>75</td>\n    </tr>\n    <tr>\n      <th>AZ</th>\n      <td>15</td>\n    </tr>\n    <tr>\n      <th>CA</th>\n      <td>58</td>\n    </tr>\n    <tr>\n      <th>CO</th>\n      <td>64</td>\n    </tr>\n    <tr>\n      <th>CT</th>\n      <td>8</td>\n    </tr>\n    <tr>\n      <th>DC</th>\n      <td>1</td>\n    </tr>\n    <tr>\n      <th>DE</th>\n      <td>3</td>\n    </tr>\n    <tr>\n      <th>FL</th>\n      <td>67</td>\n    </tr>\n    <tr>\n      <th>GA</th>\n      <td>159</td>\n    </tr>\n    <tr>\n      <th>HI</th>\n      <td>5</td>\n    </tr>\n    <tr>\n      <th>IA</th>\n      <td>99</td>\n    </tr>\n    <tr>\n      <th>ID</th>\n      <td>44</td>\n    </tr>\n    <tr>\n      <th>IL</th>\n      <td>102</td>\n    </tr>\n    <tr>\n      <th>IN</th>\n      <td>92</td>\n    </tr>\n    <tr>\n      <th>KS</th>\n      <td>105</td>\n    </tr>\n    <tr>\n      <th>KY</th>\n      <td>120</td>\n    </tr>\n    <tr>\n      <th>LA</th>\n      <td>64</td>\n    </tr>\n    <tr>\n      <th>MA</th>\n      <td>14</td>\n    </tr>\n    <tr>\n      <th>MD</th>\n      <td>24</td>\n    </tr>\n    <tr>\n      <th>ME</th>\n      <td>16</td>\n    </tr>\n    <tr>\n      <th>MI</th>\n      <td>83</td>\n    </tr>\n    <tr>\n      <th>MN</th>\n      <td>87</td>\n    </tr>\n    <tr>\n      <th>MO</th>\n      <td>115</td>\n    </tr>\n    <tr>\n      <th>MS</th>\n      <td>82</td>\n    </tr>\n    <tr>\n      <th>MT</th>\n      <td>56</td>\n    </tr>\n    <tr>\n      <th>NC</th>\n      <td>100</td>\n    </tr>\n    <tr>\n      <th>ND</th>\n      <td>53</td>\n    </tr>\n    <tr>\n      <th>NE</th>\n      <td>93</td>\n    </tr>\n    <tr>\n      <th>NH</th>\n      <td>10</td>\n    </tr>\n    <tr>\n      <th>NJ</th>\n      <td>21</td>\n    </tr>\n    <tr>\n      <th>NM</th>\n      <td>33</td>\n    </tr>\n    <tr>\n      <th>NV</th>\n      <td>17</td>\n    </tr>\n    <tr>\n      <th>NY</th>\n      <td>62</td>\n    </tr>\n    <tr>\n      <th>OH</th>\n      <td>88</td>\n    </tr>\n    <tr>\n      <th>OK</th>\n      <td>77</td>\n    </tr>\n    <tr>\n      <th>OR</th>\n      <td>36</td>\n    </tr>\n    <tr>\n      <th>PA</th>\n      <td>67</td>\n    </tr>\n    <tr>\n      <th>RI</th>\n      <td>5</td>\n    </tr>\n    <tr>\n      <th>SC</th>\n      <td>46</td>\n    </tr>\n    <tr>\n      <th>SD</th>\n      <td>66</td>\n    </tr>\n    <tr>\n      <th>TN</th>\n      <td>95</td>\n    </tr>\n    <tr>\n      <th>TX</th>\n      <td>254</td>\n    </tr>\n    <tr>\n      <th>UT</th>\n      <td>29</td>\n    </tr>\n    <tr>\n      <th>VA</th>\n      <td>133</td>\n    </tr>\n    <tr>\n      <th>VT</th>\n      <td>14</td>\n    </tr>\n    <tr>\n      <th>WA</th>\n      <td>39</td>\n    </tr>\n    <tr>\n      <th>WI</th>\n      <td>72</td>\n    </tr>\n    <tr>\n      <th>WV</th>\n      <td>55</td>\n    </tr>\n    <tr>\n      <th>WY</th>\n      <td>23</td>\n    </tr>\n  </tbody>\n</table>\n</div>"
     },
     "metadata": {},
     "execution_count": 102
    }
   ],
   "source": [
    "count_counties_with_bans = bans_us.groupby([\"County_Name\", \"State\"]).count().groupby(\"State\").count()\n",
    "count_counties_with_bans = count_counties_with_bans.iloc[:,1].to_frame()\n",
    "count_counties_with_bans.rename(columns={\"FIPS_County\": \"Count\"})"
   ]
  },
  {
   "cell_type": "code",
   "execution_count": 103,
   "metadata": {
    "tags": [
     "outputPrepend"
    ]
   },
   "outputs": [
    {
     "output_type": "stream",
     "name": "stdout",
     "text": [
      " Maui County     2020-10-06      2020-10-29       General_GB   \n163018    HI      Maui County     2020-10-15             NaN       General_GB   \n163030    HI      Maui County     2020-10-27             NaN       General_GB   \n163046    HI      Maui County     2020-11-12             NaN       General_GB   \n163071    HI      Maui County     2020-12-07             NaN       General_GB   \n163076    HI      Maui County     2020-12-12             NaN       General_GB   \n163093    HI      Maui County     2020-12-29             NaN       General_GB   \n161712    HI    Hawaii County     2020-06-15      2020-07-31          Outdoor   \n161723    HI    Hawaii County     2020-06-26      2020-07-31          Outdoor   \n161748    HI    Hawaii County     2020-07-21      2020-08-31          Outdoor   \n161990    HI  Honolulu County     2020-05-28      2020-06-05          Outdoor   \n161998    HI  Honolulu County     2020-06-05      2020-06-30          Outdoor   \n162023    HI  Honolulu County     2020-06-30      2020-07-31          Outdoor   \n162053    HI  Honolulu County     2020-07-30      2020-08-31          Outdoor   \n162057    HI  Honolulu County     2020-08-03      2020-08-31          Outdoor   \n162062    HI  Honolulu County     2020-08-08      2020-09-04          Outdoor   \n162602    HI     Kauai County     2020-06-17             NaN          Outdoor   \n162638    HI     Kauai County     2020-07-23             NaN          Outdoor   \n162657    HI     Kauai County     2020-08-11             NaN          Outdoor   \n162730    HI     Kauai County     2020-10-23             NaN          Outdoor   \n162896    HI      Maui County     2020-06-15      2020-06-30          Outdoor   \n162911    HI      Maui County     2020-06-30      2020-08-27          Outdoor   \n162917    HI      Maui County     2020-07-06      2020-08-27          Outdoor   \n162934    HI      Maui County     2020-07-23      2020-08-27          Outdoor   \n161616    HI    Hawaii County            NaN             NaN  With_SD_outdoor   \n161630    HI    Hawaii County     2020-03-25             NaN  With_SD_outdoor   \n161662    HI    Hawaii County     2020-04-26      2020-05-31  With_SD_outdoor   \n161671    HI    Hawaii County     2020-05-05             NaN  With_SD_outdoor   \n161684    HI    Hawaii County     2020-05-18             NaN  With_SD_outdoor   \n161712    HI    Hawaii County     2020-06-15      2020-07-31  With_SD_outdoor   \n161723    HI    Hawaii County     2020-06-26      2020-07-31  With_SD_outdoor   \n161748    HI    Hawaii County     2020-07-21      2020-08-31  With_SD_outdoor   \n161779    HI    Hawaii County     2020-08-21      2020-09-30  With_SD_outdoor   \n161817    HI    Hawaii County     2020-09-28      2020-10-31  With_SD_outdoor   \n161840    HI    Hawaii County     2020-10-21      2020-11-30  With_SD_outdoor   \n161875    HI    Hawaii County     2020-11-25      2020-12-31  With_SD_outdoor   \n161897    HI    Hawaii County     2020-12-17      2021-02-14  With_SD_outdoor   \n161912    HI  Honolulu County            NaN             NaN  With_SD_outdoor   \n161926    HI  Honolulu County     2020-03-25             NaN  With_SD_outdoor   \n161958    HI  Honolulu County     2020-04-26      2020-05-31  With_SD_outdoor   \n161967    HI  Honolulu County     2020-05-05             NaN  With_SD_outdoor   \n161980    HI  Honolulu County     2020-05-18             NaN  With_SD_outdoor   \n161990    HI  Honolulu County     2020-05-28      2020-06-05  With_SD_outdoor   \n161998    HI  Honolulu County     2020-06-05      2020-06-30  With_SD_outdoor   \n162023    HI  Honolulu County     2020-06-30      2020-07-31  With_SD_outdoor   \n162053    HI  Honolulu County     2020-07-30      2020-08-31  With_SD_outdoor   \n162057    HI  Honolulu County     2020-08-03      2020-08-31  With_SD_outdoor   \n162062    HI  Honolulu County     2020-08-08      2020-09-04  With_SD_outdoor   \n162074    HI  Honolulu County     2020-08-20      2020-09-16  With_SD_outdoor   \n162081    HI  Honolulu County     2020-08-27      2020-09-09  With_SD_outdoor   \n162095    HI  Honolulu County     2020-09-10      2020-09-23  With_SD_outdoor   \n162109    HI  Honolulu County     2020-09-24      2020-10-31  With_SD_outdoor   \n162137    HI  Honolulu County     2020-10-22      2020-11-30  With_SD_outdoor   \n162166    HI  Honolulu County     2020-11-20      2020-12-31  With_SD_outdoor   \n162205    HI  Honolulu County     2020-12-29      2021-02-14  With_SD_outdoor   \n162208    HI   Kalawao County            NaN             NaN  With_SD_outdoor   \n162222    HI   Kalawao County     2020-03-25             NaN  With_SD_outdoor   \n162254    HI   Kalawao County     2020-04-26      2020-05-31  With_SD_outdoor   \n162263    HI   Kalawao County     2020-05-05             NaN  With_SD_outdoor   \n162276    HI   Kalawao County     2020-05-18             NaN  With_SD_outdoor   \n162299    HI   Kalawao County     2020-06-10             NaN  With_SD_outdoor   \n162336    HI   Kalawao County     2020-07-17             NaN  With_SD_outdoor   \n162370    HI   Kalawao County     2020-08-20             NaN  With_SD_outdoor   \n162403    HI   Kalawao County     2020-09-22             NaN  With_SD_outdoor   \n162504    HI     Kauai County            NaN             NaN  With_SD_outdoor   \n162518    HI     Kauai County     2020-03-25             NaN  With_SD_outdoor   \n162550    HI     Kauai County     2020-04-26      2020-05-31  With_SD_outdoor   \n162557    HI     Kauai County     2020-05-03      2020-05-31  With_SD_outdoor   \n162559    HI     Kauai County     2020-05-05             NaN  With_SD_outdoor   \n162563    HI     Kauai County     2020-05-09      2020-05-31  With_SD_outdoor   \n162572    HI     Kauai County     2020-05-18             NaN  With_SD_outdoor   \n162602    HI     Kauai County     2020-06-17             NaN  With_SD_outdoor   \n162638    HI     Kauai County     2020-07-23             NaN  With_SD_outdoor   \n162657    HI     Kauai County     2020-08-11             NaN  With_SD_outdoor   \n162730    HI     Kauai County     2020-10-23             NaN  With_SD_outdoor   \n162800    HI      Maui County            NaN             NaN  With_SD_outdoor   \n162814    HI      Maui County     2020-03-25             NaN  With_SD_outdoor   \n162846    HI      Maui County     2020-04-26      2020-05-31  With_SD_outdoor   \n162850    HI      Maui County     2020-04-30      2020-05-31  With_SD_outdoor   \n162861    HI      Maui County     2020-05-11      2020-05-31  With_SD_outdoor   \n162868    HI      Maui County     2020-05-18             NaN  With_SD_outdoor   \n162879    HI      Maui County     2020-05-29      2020-06-30  With_SD_outdoor   \n162896    HI      Maui County     2020-06-15      2020-06-30  With_SD_outdoor   \n162911    HI      Maui County     2020-06-30      2020-08-27  With_SD_outdoor   \n162917    HI      Maui County     2020-07-06      2020-08-27  With_SD_outdoor   \n162934    HI      Maui County     2020-07-23      2020-08-27  With_SD_outdoor   \n162942    HI      Maui County     2020-07-31      2020-08-29  With_SD_outdoor   \n162948    HI      Maui County     2020-08-06      2020-08-29  With_SD_outdoor   \n162969    HI      Maui County     2020-08-27      2020-10-29  With_SD_outdoor   \n163009    HI      Maui County     2020-10-06      2020-10-29  With_SD_outdoor   \n163018    HI      Maui County     2020-10-15             NaN  With_SD_outdoor   \n163030    HI      Maui County     2020-10-27             NaN  With_SD_outdoor   \n163046    HI      Maui County     2020-11-12             NaN  With_SD_outdoor   \n163071    HI      Maui County     2020-12-07             NaN  With_SD_outdoor   \n163076    HI      Maui County     2020-12-12             NaN  With_SD_outdoor   \n163093    HI      Maui County     2020-12-29             NaN  With_SD_outdoor   \n\n                                 Order_group  Order_code Current_order_status  \n161630    Ban of gatherings over 1-10 people           6            In effect  \n161662    Ban of gatherings over 1-10 people           6            In effect  \n161671    Ban of gatherings over 1-10 people           6            In effect  \n161684    Ban of gatherings over 1-10 people           6            In effect  \n161712    Ban of gatherings over 1-10 people           6            In effect  \n161723    Ban of gatherings over 1-10 people           6            In effect  \n161748           Bans gatherings of any size           7            In effect  \n161779    Ban of gatherings over 1-10 people           6            In effect  \n161817    Ban of gatherings over 1-10 people           6            In effect  \n161840    Ban of gatherings over 1-10 people           6            In effect  \n161875    Ban of gatherings over 1-10 people           6            In effect  \n161897    Ban of gatherings over 1-10 people           6            In effect  \n161926    Ban of gatherings over 1-10 people           6            In effect  \n161958    Ban of gatherings over 1-10 people           6            In effect  \n161967    Ban of gatherings over 1-10 people           6            In effect  \n161980    Ban of gatherings over 1-10 people           6            In effect  \n161990    Ban of gatherings over 1-10 people           6            In effect  \n161998    Ban of gatherings over 1-10 people           6            In effect  \n162023    Ban of gatherings over 1-10 people           6            In effect  \n162053           Bans gatherings of any size           7            In effect  \n162057           Bans gatherings of any size           7            In effect  \n162062           Bans gatherings of any size           7            In effect  \n162074           Bans gatherings of any size           7            In effect  \n162081           Bans gatherings of any size           7            In effect  \n162095           Bans gatherings of any size           7            In effect  \n162109    Ban of gatherings over 1-10 people           6            In effect  \n162137    Ban of gatherings over 1-10 people           6            In effect  \n162166    Ban of gatherings over 1-10 people           6            In effect  \n162205    Ban of gatherings over 1-10 people           6            In effect  \n162222    Ban of gatherings over 1-10 people           6            In effect  \n162254    Ban of gatherings over 1-10 people           6            In effect  \n162263    Ban of gatherings over 1-10 people           6            In effect  \n162276    Ban of gatherings over 1-10 people           6            In effect  \n162518    Ban of gatherings over 1-10 people           6            In effect  \n162550    Ban of gatherings over 1-10 people           6            In effect  \n162557    Ban of gatherings over 1-10 people           6            In effect  \n162559    Ban of gatherings over 1-10 people           6            In effect  \n162563    Ban of gatherings over 1-10 people           6            In effect  \n162572    Ban of gatherings over 1-10 people           6            In effect  \n162602           Bans gatherings of any size           7            In effect  \n162638           Bans gatherings of any size           7            In effect  \n162657           Bans gatherings of any size           7            In effect  \n162730           Bans gatherings of any size           7            In effect  \n162814    Ban of gatherings over 1-10 people           6            In effect  \n162846    Ban of gatherings over 1-10 people           6            In effect  \n162850           Bans gatherings of any size           7            In effect  \n162861    Ban of gatherings over 1-10 people           6            In effect  \n162868    Ban of gatherings over 1-10 people           6            In effect  \n162879    Ban of gatherings over 1-10 people           6            In effect  \n162896    Ban of gatherings over 1-10 people           6            In effect  \n162911    Ban of gatherings over 1-10 people           6            In effect  \n162917    Ban of gatherings over 1-10 people           6            In effect  \n162934    Ban of gatherings over 1-10 people           6            In effect  \n162942    Ban of gatherings over 1-10 people           6            In effect  \n162948    Ban of gatherings over 1-10 people           6            In effect  \n162969    Ban of gatherings over 1-10 people           6            In effect  \n163009    Ban of gatherings over 1-10 people           6            In effect  \n163018    Ban of gatherings over 1-10 people           6            In effect  \n163030    Ban of gatherings over 1-10 people           6            In effect  \n163046    Ban of gatherings over 1-10 people           6            In effect  \n163071    Ban of gatherings over 1-10 people           6            In effect  \n163076    Ban of gatherings over 1-10 people           6            In effect  \n163093    Ban of gatherings over 1-10 people           6            In effect  \n161712    Ban of gatherings over 1-10 people           6            In effect  \n161723    Ban of gatherings over 1-10 people           6            In effect  \n161748           Bans gatherings of any size           7            In effect  \n161990    Ban of gatherings over 1-10 people           6            In effect  \n161998    Ban of gatherings over 1-10 people           6            In effect  \n162023    Ban of gatherings over 1-10 people           6            In effect  \n162053           Bans gatherings of any size           7            In effect  \n162057           Bans gatherings of any size           7            In effect  \n162062           Bans gatherings of any size           7            In effect  \n162602           Bans gatherings of any size           7            In effect  \n162638           Bans gatherings of any size           7            In effect  \n162657           Bans gatherings of any size           7            In effect  \n162730           Bans gatherings of any size           7            In effect  \n162896    Ban of gatherings over 1-10 people           6            In effect  \n162911    Ban of gatherings over 1-10 people           6            In effect  \n162917    Ban of gatherings over 1-10 people           6            In effect  \n162934    Ban of gatherings over 1-10 people           6            In effect  \n161616                        No order found           1                  NaN  \n161630                        No order found           1            In effect  \n161662                        No order found           1            In effect  \n161671                        No order found           1            In effect  \n161684                        No order found           1            In effect  \n161712  Ban of gatherings over 51-100 people           3            In effect  \n161723  Ban of gatherings over 51-100 people           3            In effect  \n161748  Ban of gatherings over 51-100 people           3            In effect  \n161779                        No order found           1            In effect  \n161817                        No order found           1            In effect  \n161840                        No order found           1            In effect  \n161875                        No order found           1            In effect  \n161897                        No order found           1            In effect  \n161912                        No order found           1                  NaN  \n161926                        No order found           1            In effect  \n161958                        No order found           1            In effect  \n161967                        No order found           1            In effect  \n161980                        No order found           1            In effect  \n161990                        No order found           1            In effect  \n161998  Ban of gatherings over 51-100 people           3            In effect  \n162023  Ban of gatherings over 51-100 people           3            In effect  \n162053  Ban of gatherings over 51-100 people           3            In effect  \n162057    Ban of gatherings over 1-10 people           6            In effect  \n162062    Ban of gatherings over 1-10 people           6            In effect  \n162074                        No order found           1            In effect  \n162081                        No order found           1            In effect  \n162095                        No order found           1            In effect  \n162109                        No order found           1            In effect  \n162137                        No order found           1            In effect  \n162166                        No order found           1            In effect  \n162205                        No order found           1            In effect  \n162208                        No order found           1                  NaN  \n162222                        No order found           1            In effect  \n162254                        No order found           1            In effect  \n162263                        No order found           1            In effect  \n162276                        No order found           1            In effect  \n162299                        No order found           1            In effect  \n162336                        No order found           1            In effect  \n162370                        No order found           1            In effect  \n162403                        No order found           1            In effect  \n162504                        No order found           1                  NaN  \n162518                        No order found           1            In effect  \n162550                        No order found           1            In effect  \n162557                        No order found           1            In effect  \n162559                        No order found           1            In effect  \n162563                        No order found           1            In effect  \n162572                        No order found           1            In effect  \n162602  Ban of gatherings over 51-100 people           3            In effect  \n162638  Ban of gatherings over 51-100 people           3            In effect  \n162657   Ban of gatherings over 11-25 people           5            In effect  \n162730   Ban of gatherings over 11-25 people           5            In effect  \n162800                        No order found           1                  NaN  \n162814                        No order found           1            In effect  \n162846                        No order found           1            In effect  \n162850                        No order found           1            In effect  \n162861                        No order found           1            In effect  \n162868                        No order found           1            In effect  \n162879                        No order found           1            In effect  \n162896  Ban of gatherings over 51-100 people           3            In effect  \n162911  Ban of gatherings over 51-100 people           3            In effect  \n162917  Ban of gatherings over 51-100 people           3            In effect  \n162934  Ban of gatherings over 51-100 people           3            In effect  \n162942                        No order found           1            In effect  \n162948                        No order found           1            In effect  \n162969                        No order found           1            In effect  \n163009                        No order found           1            In effect  \n163018                        No order found           1            In effect  \n163030                        No order found           1            In effect  \n163046                        No order found           1            In effect  \n163071                        No order found           1            In effect  \n163076                        No order found           1            In effect  \n163093                        No order found           1            In effect  \n"
     ]
    }
   ],
   "source": [
    "#Use example state to see if any ban rows are out of the ordinary\n",
    "pd.set_option('display.max_rows', ban_orders_unique[(ban_orders_unique['State']=='HI')].shape[0]+1)\n",
    "print(ban_orders_unique[(ban_orders_unique['State']=='HI')])"
   ]
  },
  {
   "cell_type": "code",
   "execution_count": 104,
   "metadata": {},
   "outputs": [
    {
     "output_type": "stream",
     "name": "stdout",
     "text": [
      "Requirement already satisfied: openpyxl in /usr/local/lib/python3.9/site-packages (3.0.7)\nRequirement already satisfied: et-xmlfile in /usr/local/lib/python3.9/site-packages (from openpyxl) (1.1.0)\n"
     ]
    }
   ],
   "source": [
    "! pip install openpyxl"
   ]
  },
  {
   "cell_type": "code",
   "execution_count": 105,
   "metadata": {},
   "outputs": [
    {
     "output_type": "execute_result",
     "data": {
      "text/plain": [
       "   State  # Counties\n",
       "0     AK          20\n",
       "1     AL          67\n",
       "2     AR          75\n",
       "3     AZ          15\n",
       "4     CA          58\n",
       "5     CO          64\n",
       "6     CT           8\n",
       "7     DC           1\n",
       "8     DE           3\n",
       "9     FL          67\n",
       "10    GA         159\n",
       "11    HI           5\n",
       "12    IA          99\n",
       "13    ID          44\n",
       "14    IL         102\n",
       "15    IN          92\n",
       "16    KS         105\n",
       "17    KY         120\n",
       "18    LA          64\n",
       "19    MA          14\n",
       "20    MD          24\n",
       "21    ME          16\n",
       "22    MI          83\n",
       "23    MN          87\n",
       "24    MO         115\n",
       "25    MS          82\n",
       "26    MT          56\n",
       "27    NC         100\n",
       "28    ND          53\n",
       "29    NE          93\n",
       "30    NH          10\n",
       "31    NJ          21\n",
       "32    NM          33\n",
       "33    NV          17\n",
       "34    NY          62\n",
       "35    OH          88\n",
       "36    OK          77\n",
       "37    OR          36\n",
       "38    PA          67\n",
       "39    RI           5\n",
       "40    SC          46\n",
       "41    SD          66\n",
       "42    TN          95\n",
       "43    TX         254\n",
       "44    UT          29\n",
       "45    VA         133\n",
       "46    VT          14\n",
       "47    WA          39\n",
       "48    WI          72\n",
       "49    WV          55\n",
       "50    WY          23"
      ],
      "text/html": "<div>\n<style scoped>\n    .dataframe tbody tr th:only-of-type {\n        vertical-align: middle;\n    }\n\n    .dataframe tbody tr th {\n        vertical-align: top;\n    }\n\n    .dataframe thead th {\n        text-align: right;\n    }\n</style>\n<table border=\"1\" class=\"dataframe\">\n  <thead>\n    <tr style=\"text-align: right;\">\n      <th></th>\n      <th>State</th>\n      <th># Counties</th>\n    </tr>\n  </thead>\n  <tbody>\n    <tr>\n      <th>0</th>\n      <td>AK</td>\n      <td>20</td>\n    </tr>\n    <tr>\n      <th>1</th>\n      <td>AL</td>\n      <td>67</td>\n    </tr>\n    <tr>\n      <th>2</th>\n      <td>AR</td>\n      <td>75</td>\n    </tr>\n    <tr>\n      <th>3</th>\n      <td>AZ</td>\n      <td>15</td>\n    </tr>\n    <tr>\n      <th>4</th>\n      <td>CA</td>\n      <td>58</td>\n    </tr>\n    <tr>\n      <th>5</th>\n      <td>CO</td>\n      <td>64</td>\n    </tr>\n    <tr>\n      <th>6</th>\n      <td>CT</td>\n      <td>8</td>\n    </tr>\n    <tr>\n      <th>7</th>\n      <td>DC</td>\n      <td>1</td>\n    </tr>\n    <tr>\n      <th>8</th>\n      <td>DE</td>\n      <td>3</td>\n    </tr>\n    <tr>\n      <th>9</th>\n      <td>FL</td>\n      <td>67</td>\n    </tr>\n    <tr>\n      <th>10</th>\n      <td>GA</td>\n      <td>159</td>\n    </tr>\n    <tr>\n      <th>11</th>\n      <td>HI</td>\n      <td>5</td>\n    </tr>\n    <tr>\n      <th>12</th>\n      <td>IA</td>\n      <td>99</td>\n    </tr>\n    <tr>\n      <th>13</th>\n      <td>ID</td>\n      <td>44</td>\n    </tr>\n    <tr>\n      <th>14</th>\n      <td>IL</td>\n      <td>102</td>\n    </tr>\n    <tr>\n      <th>15</th>\n      <td>IN</td>\n      <td>92</td>\n    </tr>\n    <tr>\n      <th>16</th>\n      <td>KS</td>\n      <td>105</td>\n    </tr>\n    <tr>\n      <th>17</th>\n      <td>KY</td>\n      <td>120</td>\n    </tr>\n    <tr>\n      <th>18</th>\n      <td>LA</td>\n      <td>64</td>\n    </tr>\n    <tr>\n      <th>19</th>\n      <td>MA</td>\n      <td>14</td>\n    </tr>\n    <tr>\n      <th>20</th>\n      <td>MD</td>\n      <td>24</td>\n    </tr>\n    <tr>\n      <th>21</th>\n      <td>ME</td>\n      <td>16</td>\n    </tr>\n    <tr>\n      <th>22</th>\n      <td>MI</td>\n      <td>83</td>\n    </tr>\n    <tr>\n      <th>23</th>\n      <td>MN</td>\n      <td>87</td>\n    </tr>\n    <tr>\n      <th>24</th>\n      <td>MO</td>\n      <td>115</td>\n    </tr>\n    <tr>\n      <th>25</th>\n      <td>MS</td>\n      <td>82</td>\n    </tr>\n    <tr>\n      <th>26</th>\n      <td>MT</td>\n      <td>56</td>\n    </tr>\n    <tr>\n      <th>27</th>\n      <td>NC</td>\n      <td>100</td>\n    </tr>\n    <tr>\n      <th>28</th>\n      <td>ND</td>\n      <td>53</td>\n    </tr>\n    <tr>\n      <th>29</th>\n      <td>NE</td>\n      <td>93</td>\n    </tr>\n    <tr>\n      <th>30</th>\n      <td>NH</td>\n      <td>10</td>\n    </tr>\n    <tr>\n      <th>31</th>\n      <td>NJ</td>\n      <td>21</td>\n    </tr>\n    <tr>\n      <th>32</th>\n      <td>NM</td>\n      <td>33</td>\n    </tr>\n    <tr>\n      <th>33</th>\n      <td>NV</td>\n      <td>17</td>\n    </tr>\n    <tr>\n      <th>34</th>\n      <td>NY</td>\n      <td>62</td>\n    </tr>\n    <tr>\n      <th>35</th>\n      <td>OH</td>\n      <td>88</td>\n    </tr>\n    <tr>\n      <th>36</th>\n      <td>OK</td>\n      <td>77</td>\n    </tr>\n    <tr>\n      <th>37</th>\n      <td>OR</td>\n      <td>36</td>\n    </tr>\n    <tr>\n      <th>38</th>\n      <td>PA</td>\n      <td>67</td>\n    </tr>\n    <tr>\n      <th>39</th>\n      <td>RI</td>\n      <td>5</td>\n    </tr>\n    <tr>\n      <th>40</th>\n      <td>SC</td>\n      <td>46</td>\n    </tr>\n    <tr>\n      <th>41</th>\n      <td>SD</td>\n      <td>66</td>\n    </tr>\n    <tr>\n      <th>42</th>\n      <td>TN</td>\n      <td>95</td>\n    </tr>\n    <tr>\n      <th>43</th>\n      <td>TX</td>\n      <td>254</td>\n    </tr>\n    <tr>\n      <th>44</th>\n      <td>UT</td>\n      <td>29</td>\n    </tr>\n    <tr>\n      <th>45</th>\n      <td>VA</td>\n      <td>133</td>\n    </tr>\n    <tr>\n      <th>46</th>\n      <td>VT</td>\n      <td>14</td>\n    </tr>\n    <tr>\n      <th>47</th>\n      <td>WA</td>\n      <td>39</td>\n    </tr>\n    <tr>\n      <th>48</th>\n      <td>WI</td>\n      <td>72</td>\n    </tr>\n    <tr>\n      <th>49</th>\n      <td>WV</td>\n      <td>55</td>\n    </tr>\n    <tr>\n      <th>50</th>\n      <td>WY</td>\n      <td>23</td>\n    </tr>\n  </tbody>\n</table>\n</div>"
     },
     "metadata": {},
     "execution_count": 105
    }
   ],
   "source": [
    "#Use data with number of counties\n",
    "#obtained from thefactfile.org/us-states-counties/\n",
    "state_counties = pd.read_excel('data/State_Counties.xlsx')\n",
    "state_counties"
   ]
  },
  {
   "cell_type": "code",
   "execution_count": 106,
   "metadata": {},
   "outputs": [
    {
     "output_type": "execute_result",
     "data": {
      "text/plain": [
       "   State  FIPS_County  # Counties\n",
       "0     AK           29          20\n",
       "1     AL           67          67\n",
       "2     AR           75          75\n",
       "3     AZ           15          15\n",
       "4     CA           58          58\n",
       "5     CO           64          64\n",
       "6     CT            8           8\n",
       "7     DC            1           1\n",
       "8     DE            3           3\n",
       "9     FL           67          67\n",
       "10    GA          159         159\n",
       "11    HI            5           5\n",
       "12    IA           99          99\n",
       "13    ID           44          44\n",
       "14    IL          102         102\n",
       "15    IN           92          92\n",
       "16    KS          105         105\n",
       "17    KY          120         120\n",
       "18    LA           64          64\n",
       "19    MA           14          14\n",
       "20    MD           24          24\n",
       "21    ME           16          16\n",
       "22    MI           83          83\n",
       "23    MN           87          87\n",
       "24    MO          115         115\n",
       "25    MS           82          82\n",
       "26    MT           56          56\n",
       "27    NC          100         100\n",
       "28    ND           53          53\n",
       "29    NE           93          93\n",
       "30    NH           10          10\n",
       "31    NJ           21          21\n",
       "32    NM           33          33\n",
       "33    NV           17          17\n",
       "34    NY           62          62\n",
       "35    OH           88          88\n",
       "36    OK           77          77\n",
       "37    OR           36          36\n",
       "38    PA           67          67\n",
       "39    RI            5           5\n",
       "40    SC           46          46\n",
       "41    SD           66          66\n",
       "42    TN           95          95\n",
       "43    TX          254         254\n",
       "44    UT           29          29\n",
       "45    VA          133         133\n",
       "46    VT           14          14\n",
       "47    WA           39          39\n",
       "48    WI           72          72\n",
       "49    WV           55          55\n",
       "50    WY           23          23"
      ],
      "text/html": "<div>\n<style scoped>\n    .dataframe tbody tr th:only-of-type {\n        vertical-align: middle;\n    }\n\n    .dataframe tbody tr th {\n        vertical-align: top;\n    }\n\n    .dataframe thead th {\n        text-align: right;\n    }\n</style>\n<table border=\"1\" class=\"dataframe\">\n  <thead>\n    <tr style=\"text-align: right;\">\n      <th></th>\n      <th>State</th>\n      <th>FIPS_County</th>\n      <th># Counties</th>\n    </tr>\n  </thead>\n  <tbody>\n    <tr>\n      <th>0</th>\n      <td>AK</td>\n      <td>29</td>\n      <td>20</td>\n    </tr>\n    <tr>\n      <th>1</th>\n      <td>AL</td>\n      <td>67</td>\n      <td>67</td>\n    </tr>\n    <tr>\n      <th>2</th>\n      <td>AR</td>\n      <td>75</td>\n      <td>75</td>\n    </tr>\n    <tr>\n      <th>3</th>\n      <td>AZ</td>\n      <td>15</td>\n      <td>15</td>\n    </tr>\n    <tr>\n      <th>4</th>\n      <td>CA</td>\n      <td>58</td>\n      <td>58</td>\n    </tr>\n    <tr>\n      <th>5</th>\n      <td>CO</td>\n      <td>64</td>\n      <td>64</td>\n    </tr>\n    <tr>\n      <th>6</th>\n      <td>CT</td>\n      <td>8</td>\n      <td>8</td>\n    </tr>\n    <tr>\n      <th>7</th>\n      <td>DC</td>\n      <td>1</td>\n      <td>1</td>\n    </tr>\n    <tr>\n      <th>8</th>\n      <td>DE</td>\n      <td>3</td>\n      <td>3</td>\n    </tr>\n    <tr>\n      <th>9</th>\n      <td>FL</td>\n      <td>67</td>\n      <td>67</td>\n    </tr>\n    <tr>\n      <th>10</th>\n      <td>GA</td>\n      <td>159</td>\n      <td>159</td>\n    </tr>\n    <tr>\n      <th>11</th>\n      <td>HI</td>\n      <td>5</td>\n      <td>5</td>\n    </tr>\n    <tr>\n      <th>12</th>\n      <td>IA</td>\n      <td>99</td>\n      <td>99</td>\n    </tr>\n    <tr>\n      <th>13</th>\n      <td>ID</td>\n      <td>44</td>\n      <td>44</td>\n    </tr>\n    <tr>\n      <th>14</th>\n      <td>IL</td>\n      <td>102</td>\n      <td>102</td>\n    </tr>\n    <tr>\n      <th>15</th>\n      <td>IN</td>\n      <td>92</td>\n      <td>92</td>\n    </tr>\n    <tr>\n      <th>16</th>\n      <td>KS</td>\n      <td>105</td>\n      <td>105</td>\n    </tr>\n    <tr>\n      <th>17</th>\n      <td>KY</td>\n      <td>120</td>\n      <td>120</td>\n    </tr>\n    <tr>\n      <th>18</th>\n      <td>LA</td>\n      <td>64</td>\n      <td>64</td>\n    </tr>\n    <tr>\n      <th>19</th>\n      <td>MA</td>\n      <td>14</td>\n      <td>14</td>\n    </tr>\n    <tr>\n      <th>20</th>\n      <td>MD</td>\n      <td>24</td>\n      <td>24</td>\n    </tr>\n    <tr>\n      <th>21</th>\n      <td>ME</td>\n      <td>16</td>\n      <td>16</td>\n    </tr>\n    <tr>\n      <th>22</th>\n      <td>MI</td>\n      <td>83</td>\n      <td>83</td>\n    </tr>\n    <tr>\n      <th>23</th>\n      <td>MN</td>\n      <td>87</td>\n      <td>87</td>\n    </tr>\n    <tr>\n      <th>24</th>\n      <td>MO</td>\n      <td>115</td>\n      <td>115</td>\n    </tr>\n    <tr>\n      <th>25</th>\n      <td>MS</td>\n      <td>82</td>\n      <td>82</td>\n    </tr>\n    <tr>\n      <th>26</th>\n      <td>MT</td>\n      <td>56</td>\n      <td>56</td>\n    </tr>\n    <tr>\n      <th>27</th>\n      <td>NC</td>\n      <td>100</td>\n      <td>100</td>\n    </tr>\n    <tr>\n      <th>28</th>\n      <td>ND</td>\n      <td>53</td>\n      <td>53</td>\n    </tr>\n    <tr>\n      <th>29</th>\n      <td>NE</td>\n      <td>93</td>\n      <td>93</td>\n    </tr>\n    <tr>\n      <th>30</th>\n      <td>NH</td>\n      <td>10</td>\n      <td>10</td>\n    </tr>\n    <tr>\n      <th>31</th>\n      <td>NJ</td>\n      <td>21</td>\n      <td>21</td>\n    </tr>\n    <tr>\n      <th>32</th>\n      <td>NM</td>\n      <td>33</td>\n      <td>33</td>\n    </tr>\n    <tr>\n      <th>33</th>\n      <td>NV</td>\n      <td>17</td>\n      <td>17</td>\n    </tr>\n    <tr>\n      <th>34</th>\n      <td>NY</td>\n      <td>62</td>\n      <td>62</td>\n    </tr>\n    <tr>\n      <th>35</th>\n      <td>OH</td>\n      <td>88</td>\n      <td>88</td>\n    </tr>\n    <tr>\n      <th>36</th>\n      <td>OK</td>\n      <td>77</td>\n      <td>77</td>\n    </tr>\n    <tr>\n      <th>37</th>\n      <td>OR</td>\n      <td>36</td>\n      <td>36</td>\n    </tr>\n    <tr>\n      <th>38</th>\n      <td>PA</td>\n      <td>67</td>\n      <td>67</td>\n    </tr>\n    <tr>\n      <th>39</th>\n      <td>RI</td>\n      <td>5</td>\n      <td>5</td>\n    </tr>\n    <tr>\n      <th>40</th>\n      <td>SC</td>\n      <td>46</td>\n      <td>46</td>\n    </tr>\n    <tr>\n      <th>41</th>\n      <td>SD</td>\n      <td>66</td>\n      <td>66</td>\n    </tr>\n    <tr>\n      <th>42</th>\n      <td>TN</td>\n      <td>95</td>\n      <td>95</td>\n    </tr>\n    <tr>\n      <th>43</th>\n      <td>TX</td>\n      <td>254</td>\n      <td>254</td>\n    </tr>\n    <tr>\n      <th>44</th>\n      <td>UT</td>\n      <td>29</td>\n      <td>29</td>\n    </tr>\n    <tr>\n      <th>45</th>\n      <td>VA</td>\n      <td>133</td>\n      <td>133</td>\n    </tr>\n    <tr>\n      <th>46</th>\n      <td>VT</td>\n      <td>14</td>\n      <td>14</td>\n    </tr>\n    <tr>\n      <th>47</th>\n      <td>WA</td>\n      <td>39</td>\n      <td>39</td>\n    </tr>\n    <tr>\n      <th>48</th>\n      <td>WI</td>\n      <td>72</td>\n      <td>72</td>\n    </tr>\n    <tr>\n      <th>49</th>\n      <td>WV</td>\n      <td>55</td>\n      <td>55</td>\n    </tr>\n    <tr>\n      <th>50</th>\n      <td>WY</td>\n      <td>23</td>\n      <td>23</td>\n    </tr>\n  </tbody>\n</table>\n</div>"
     },
     "metadata": {},
     "execution_count": 106
    }
   ],
   "source": [
    "#add number of counties to table with number of orders made for counties in each state\n",
    "state_county_bans = ban_order_states.merge(state_counties, on='State', how='left')\n",
    "state_county_bans\n",
    "\n",
    "state_county_bans = count_counties_with_bans.merge(state_counties, on='State', how='left')\n",
    "state_county_bans\n"
   ]
  },
  {
   "cell_type": "code",
   "execution_count": 107,
   "metadata": {},
   "outputs": [
    {
     "output_type": "error",
     "ename": "KeyError",
     "evalue": "'Order_group'",
     "traceback": [
      "\u001b[0;31m---------------------------------------------------------------------------\u001b[0m",
      "\u001b[0;31mKeyError\u001b[0m                                  Traceback (most recent call last)",
      "\u001b[0;32m/usr/local/lib/python3.9/site-packages/pandas/core/indexes/base.py\u001b[0m in \u001b[0;36mget_loc\u001b[0;34m(self, key, method, tolerance)\u001b[0m\n\u001b[1;32m   3079\u001b[0m             \u001b[0;32mtry\u001b[0m\u001b[0;34m:\u001b[0m\u001b[0;34m\u001b[0m\u001b[0;34m\u001b[0m\u001b[0m\n\u001b[0;32m-> 3080\u001b[0;31m                 \u001b[0;32mreturn\u001b[0m \u001b[0mself\u001b[0m\u001b[0;34m.\u001b[0m\u001b[0m_engine\u001b[0m\u001b[0;34m.\u001b[0m\u001b[0mget_loc\u001b[0m\u001b[0;34m(\u001b[0m\u001b[0mcasted_key\u001b[0m\u001b[0;34m)\u001b[0m\u001b[0;34m\u001b[0m\u001b[0;34m\u001b[0m\u001b[0m\n\u001b[0m\u001b[1;32m   3081\u001b[0m             \u001b[0;32mexcept\u001b[0m \u001b[0mKeyError\u001b[0m \u001b[0;32mas\u001b[0m \u001b[0merr\u001b[0m\u001b[0;34m:\u001b[0m\u001b[0;34m\u001b[0m\u001b[0;34m\u001b[0m\u001b[0m\n",
      "\u001b[0;32mpandas/_libs/index.pyx\u001b[0m in \u001b[0;36mpandas._libs.index.IndexEngine.get_loc\u001b[0;34m()\u001b[0m\n",
      "\u001b[0;32mpandas/_libs/index.pyx\u001b[0m in \u001b[0;36mpandas._libs.index.IndexEngine.get_loc\u001b[0;34m()\u001b[0m\n",
      "\u001b[0;32mpandas/_libs/hashtable_class_helper.pxi\u001b[0m in \u001b[0;36mpandas._libs.hashtable.PyObjectHashTable.get_item\u001b[0;34m()\u001b[0m\n",
      "\u001b[0;32mpandas/_libs/hashtable_class_helper.pxi\u001b[0m in \u001b[0;36mpandas._libs.hashtable.PyObjectHashTable.get_item\u001b[0;34m()\u001b[0m\n",
      "\u001b[0;31mKeyError\u001b[0m: 'Order_group'",
      "\nThe above exception was the direct cause of the following exception:\n",
      "\u001b[0;31mKeyError\u001b[0m                                  Traceback (most recent call last)",
      "\u001b[0;32m<ipython-input-107-22568eda682b>\u001b[0m in \u001b[0;36m<module>\u001b[0;34m\u001b[0m\n\u001b[1;32m      1\u001b[0m \u001b[0;31m#Find states that don't have county numbers.\u001b[0m\u001b[0;34m\u001b[0m\u001b[0;34m\u001b[0m\u001b[0;34m\u001b[0m\u001b[0m\n\u001b[1;32m      2\u001b[0m \u001b[0mstates_missing\u001b[0m \u001b[0;34m=\u001b[0m \u001b[0mstate_counties\u001b[0m\u001b[0;34m.\u001b[0m\u001b[0mmerge\u001b[0m\u001b[0;34m(\u001b[0m\u001b[0mban_order_states\u001b[0m\u001b[0;34m,\u001b[0m\u001b[0mon\u001b[0m\u001b[0;34m=\u001b[0m\u001b[0;34m'State'\u001b[0m\u001b[0;34m,\u001b[0m\u001b[0mhow\u001b[0m\u001b[0;34m=\u001b[0m\u001b[0;34m'left'\u001b[0m\u001b[0;34m)\u001b[0m\u001b[0;34m\u001b[0m\u001b[0;34m\u001b[0m\u001b[0m\n\u001b[0;32m----> 3\u001b[0;31m \u001b[0mstates_missing\u001b[0m \u001b[0;34m=\u001b[0m \u001b[0mstates_missing\u001b[0m\u001b[0;34m[\u001b[0m\u001b[0mstates_missing\u001b[0m\u001b[0;34m[\u001b[0m\u001b[0;34m'Order_group'\u001b[0m\u001b[0;34m]\u001b[0m\u001b[0;34m.\u001b[0m\u001b[0misnull\u001b[0m\u001b[0;34m(\u001b[0m\u001b[0;34m)\u001b[0m\u001b[0;34m]\u001b[0m\u001b[0;34m\u001b[0m\u001b[0;34m\u001b[0m\u001b[0m\n\u001b[0m\u001b[1;32m      4\u001b[0m \u001b[0mstates\u001b[0m \u001b[0;34m=\u001b[0m \u001b[0mstates_missing\u001b[0m\u001b[0;34m[\u001b[0m\u001b[0;34m'State'\u001b[0m\u001b[0;34m]\u001b[0m\u001b[0;34m.\u001b[0m\u001b[0mto_frame\u001b[0m\u001b[0;34m(\u001b[0m\u001b[0;34m)\u001b[0m\u001b[0;34m\u001b[0m\u001b[0;34m\u001b[0m\u001b[0m\n\u001b[1;32m      5\u001b[0m \u001b[0;34m\u001b[0m\u001b[0m\n",
      "\u001b[0;32m/usr/local/lib/python3.9/site-packages/pandas/core/frame.py\u001b[0m in \u001b[0;36m__getitem__\u001b[0;34m(self, key)\u001b[0m\n\u001b[1;32m   3022\u001b[0m             \u001b[0;32mif\u001b[0m \u001b[0mself\u001b[0m\u001b[0;34m.\u001b[0m\u001b[0mcolumns\u001b[0m\u001b[0;34m.\u001b[0m\u001b[0mnlevels\u001b[0m \u001b[0;34m>\u001b[0m \u001b[0;36m1\u001b[0m\u001b[0;34m:\u001b[0m\u001b[0;34m\u001b[0m\u001b[0;34m\u001b[0m\u001b[0m\n\u001b[1;32m   3023\u001b[0m                 \u001b[0;32mreturn\u001b[0m \u001b[0mself\u001b[0m\u001b[0;34m.\u001b[0m\u001b[0m_getitem_multilevel\u001b[0m\u001b[0;34m(\u001b[0m\u001b[0mkey\u001b[0m\u001b[0;34m)\u001b[0m\u001b[0;34m\u001b[0m\u001b[0;34m\u001b[0m\u001b[0m\n\u001b[0;32m-> 3024\u001b[0;31m             \u001b[0mindexer\u001b[0m \u001b[0;34m=\u001b[0m \u001b[0mself\u001b[0m\u001b[0;34m.\u001b[0m\u001b[0mcolumns\u001b[0m\u001b[0;34m.\u001b[0m\u001b[0mget_loc\u001b[0m\u001b[0;34m(\u001b[0m\u001b[0mkey\u001b[0m\u001b[0;34m)\u001b[0m\u001b[0;34m\u001b[0m\u001b[0;34m\u001b[0m\u001b[0m\n\u001b[0m\u001b[1;32m   3025\u001b[0m             \u001b[0;32mif\u001b[0m \u001b[0mis_integer\u001b[0m\u001b[0;34m(\u001b[0m\u001b[0mindexer\u001b[0m\u001b[0;34m)\u001b[0m\u001b[0;34m:\u001b[0m\u001b[0;34m\u001b[0m\u001b[0;34m\u001b[0m\u001b[0m\n\u001b[1;32m   3026\u001b[0m                 \u001b[0mindexer\u001b[0m \u001b[0;34m=\u001b[0m \u001b[0;34m[\u001b[0m\u001b[0mindexer\u001b[0m\u001b[0;34m]\u001b[0m\u001b[0;34m\u001b[0m\u001b[0;34m\u001b[0m\u001b[0m\n",
      "\u001b[0;32m/usr/local/lib/python3.9/site-packages/pandas/core/indexes/base.py\u001b[0m in \u001b[0;36mget_loc\u001b[0;34m(self, key, method, tolerance)\u001b[0m\n\u001b[1;32m   3080\u001b[0m                 \u001b[0;32mreturn\u001b[0m \u001b[0mself\u001b[0m\u001b[0;34m.\u001b[0m\u001b[0m_engine\u001b[0m\u001b[0;34m.\u001b[0m\u001b[0mget_loc\u001b[0m\u001b[0;34m(\u001b[0m\u001b[0mcasted_key\u001b[0m\u001b[0;34m)\u001b[0m\u001b[0;34m\u001b[0m\u001b[0;34m\u001b[0m\u001b[0m\n\u001b[1;32m   3081\u001b[0m             \u001b[0;32mexcept\u001b[0m \u001b[0mKeyError\u001b[0m \u001b[0;32mas\u001b[0m \u001b[0merr\u001b[0m\u001b[0;34m:\u001b[0m\u001b[0;34m\u001b[0m\u001b[0;34m\u001b[0m\u001b[0m\n\u001b[0;32m-> 3082\u001b[0;31m                 \u001b[0;32mraise\u001b[0m \u001b[0mKeyError\u001b[0m\u001b[0;34m(\u001b[0m\u001b[0mkey\u001b[0m\u001b[0;34m)\u001b[0m \u001b[0;32mfrom\u001b[0m \u001b[0merr\u001b[0m\u001b[0;34m\u001b[0m\u001b[0;34m\u001b[0m\u001b[0m\n\u001b[0m\u001b[1;32m   3083\u001b[0m \u001b[0;34m\u001b[0m\u001b[0m\n\u001b[1;32m   3084\u001b[0m         \u001b[0;32mif\u001b[0m \u001b[0mtolerance\u001b[0m \u001b[0;32mis\u001b[0m \u001b[0;32mnot\u001b[0m \u001b[0;32mNone\u001b[0m\u001b[0;34m:\u001b[0m\u001b[0;34m\u001b[0m\u001b[0;34m\u001b[0m\u001b[0m\n",
      "\u001b[0;31mKeyError\u001b[0m: 'Order_group'"
     ]
    }
   ],
   "source": [
    "#Find states that don't have county numbers. \n",
    "states_missing = state_counties.merge(ban_order_states,on='State',how='left')\n",
    "states_missing = states_missing[states_missing['Order_group'].isnull()]\n",
    "states = states_missing['State'].to_frame()\n",
    "\n",
    "#Add a column to account for missing states in final bans per county data\n",
    "states['Bans per county'] = 0\n",
    "states"
   ]
  },
  {
   "cell_type": "code",
   "execution_count": 26,
   "metadata": {},
   "outputs": [
    {
     "output_type": "execute_result",
     "data": {
      "text/plain": [
       "   State  Bans per county\n",
       "0     AK                7\n",
       "1     AL                3\n",
       "2     AR                7\n",
       "3     CA               17\n",
       "4     CO               42\n",
       "5     CT               17\n",
       "6     DC               11\n",
       "7     DE                8\n",
       "8     FL                3\n",
       "9     GA               20\n",
       "10    HI               19\n",
       "11    IA               14\n",
       "12    ID                7\n",
       "13    IL               17\n",
       "14    IN               20\n",
       "15    KS                8\n",
       "16    KY                5\n",
       "17    LA               23\n",
       "18    MA               26\n",
       "19    MD                9\n",
       "20    ME               13\n",
       "21    MI               41\n",
       "22    MN               10\n",
       "23    MO                3\n",
       "24    MS               46\n",
       "25    MT                5\n",
       "26    NC               24\n",
       "27    NE               16\n",
       "28    NH                4\n",
       "29    NJ               23\n",
       "30    NM               27\n",
       "31    NV               10\n",
       "32    NY               40\n",
       "33    OH                8\n",
       "34    OK                9\n",
       "35    OR               40\n",
       "36    PA               12\n",
       "37    RI               28\n",
       "38    SC               13\n",
       "39    TN                5\n",
       "40    TX                3\n",
       "41    UT               22\n",
       "42    VA               13\n",
       "43    VT               15\n",
       "44    WA               36\n",
       "45    WI                7\n",
       "46    WV               26\n",
       "47    WY               28"
      ],
      "text/html": "<div>\n<style scoped>\n    .dataframe tbody tr th:only-of-type {\n        vertical-align: middle;\n    }\n\n    .dataframe tbody tr th {\n        vertical-align: top;\n    }\n\n    .dataframe thead th {\n        text-align: right;\n    }\n</style>\n<table border=\"1\" class=\"dataframe\">\n  <thead>\n    <tr style=\"text-align: right;\">\n      <th></th>\n      <th>State</th>\n      <th>Bans per county</th>\n    </tr>\n  </thead>\n  <tbody>\n    <tr>\n      <th>0</th>\n      <td>AK</td>\n      <td>7</td>\n    </tr>\n    <tr>\n      <th>1</th>\n      <td>AL</td>\n      <td>3</td>\n    </tr>\n    <tr>\n      <th>2</th>\n      <td>AR</td>\n      <td>7</td>\n    </tr>\n    <tr>\n      <th>3</th>\n      <td>CA</td>\n      <td>17</td>\n    </tr>\n    <tr>\n      <th>4</th>\n      <td>CO</td>\n      <td>42</td>\n    </tr>\n    <tr>\n      <th>5</th>\n      <td>CT</td>\n      <td>17</td>\n    </tr>\n    <tr>\n      <th>6</th>\n      <td>DC</td>\n      <td>11</td>\n    </tr>\n    <tr>\n      <th>7</th>\n      <td>DE</td>\n      <td>8</td>\n    </tr>\n    <tr>\n      <th>8</th>\n      <td>FL</td>\n      <td>3</td>\n    </tr>\n    <tr>\n      <th>9</th>\n      <td>GA</td>\n      <td>20</td>\n    </tr>\n    <tr>\n      <th>10</th>\n      <td>HI</td>\n      <td>19</td>\n    </tr>\n    <tr>\n      <th>11</th>\n      <td>IA</td>\n      <td>14</td>\n    </tr>\n    <tr>\n      <th>12</th>\n      <td>ID</td>\n      <td>7</td>\n    </tr>\n    <tr>\n      <th>13</th>\n      <td>IL</td>\n      <td>17</td>\n    </tr>\n    <tr>\n      <th>14</th>\n      <td>IN</td>\n      <td>20</td>\n    </tr>\n    <tr>\n      <th>15</th>\n      <td>KS</td>\n      <td>8</td>\n    </tr>\n    <tr>\n      <th>16</th>\n      <td>KY</td>\n      <td>5</td>\n    </tr>\n    <tr>\n      <th>17</th>\n      <td>LA</td>\n      <td>23</td>\n    </tr>\n    <tr>\n      <th>18</th>\n      <td>MA</td>\n      <td>26</td>\n    </tr>\n    <tr>\n      <th>19</th>\n      <td>MD</td>\n      <td>9</td>\n    </tr>\n    <tr>\n      <th>20</th>\n      <td>ME</td>\n      <td>13</td>\n    </tr>\n    <tr>\n      <th>21</th>\n      <td>MI</td>\n      <td>41</td>\n    </tr>\n    <tr>\n      <th>22</th>\n      <td>MN</td>\n      <td>10</td>\n    </tr>\n    <tr>\n      <th>23</th>\n      <td>MO</td>\n      <td>3</td>\n    </tr>\n    <tr>\n      <th>24</th>\n      <td>MS</td>\n      <td>46</td>\n    </tr>\n    <tr>\n      <th>25</th>\n      <td>MT</td>\n      <td>5</td>\n    </tr>\n    <tr>\n      <th>26</th>\n      <td>NC</td>\n      <td>24</td>\n    </tr>\n    <tr>\n      <th>27</th>\n      <td>NE</td>\n      <td>16</td>\n    </tr>\n    <tr>\n      <th>28</th>\n      <td>NH</td>\n      <td>4</td>\n    </tr>\n    <tr>\n      <th>29</th>\n      <td>NJ</td>\n      <td>23</td>\n    </tr>\n    <tr>\n      <th>30</th>\n      <td>NM</td>\n      <td>27</td>\n    </tr>\n    <tr>\n      <th>31</th>\n      <td>NV</td>\n      <td>10</td>\n    </tr>\n    <tr>\n      <th>32</th>\n      <td>NY</td>\n      <td>40</td>\n    </tr>\n    <tr>\n      <th>33</th>\n      <td>OH</td>\n      <td>8</td>\n    </tr>\n    <tr>\n      <th>34</th>\n      <td>OK</td>\n      <td>9</td>\n    </tr>\n    <tr>\n      <th>35</th>\n      <td>OR</td>\n      <td>40</td>\n    </tr>\n    <tr>\n      <th>36</th>\n      <td>PA</td>\n      <td>12</td>\n    </tr>\n    <tr>\n      <th>37</th>\n      <td>RI</td>\n      <td>28</td>\n    </tr>\n    <tr>\n      <th>38</th>\n      <td>SC</td>\n      <td>13</td>\n    </tr>\n    <tr>\n      <th>39</th>\n      <td>TN</td>\n      <td>5</td>\n    </tr>\n    <tr>\n      <th>40</th>\n      <td>TX</td>\n      <td>3</td>\n    </tr>\n    <tr>\n      <th>41</th>\n      <td>UT</td>\n      <td>22</td>\n    </tr>\n    <tr>\n      <th>42</th>\n      <td>VA</td>\n      <td>13</td>\n    </tr>\n    <tr>\n      <th>43</th>\n      <td>VT</td>\n      <td>15</td>\n    </tr>\n    <tr>\n      <th>44</th>\n      <td>WA</td>\n      <td>36</td>\n    </tr>\n    <tr>\n      <th>45</th>\n      <td>WI</td>\n      <td>7</td>\n    </tr>\n    <tr>\n      <th>46</th>\n      <td>WV</td>\n      <td>26</td>\n    </tr>\n    <tr>\n      <th>47</th>\n      <td>WY</td>\n      <td>28</td>\n    </tr>\n  </tbody>\n</table>\n</div>"
     },
     "metadata": {},
     "execution_count": 26
    }
   ],
   "source": [
    "#calculate bans per county for states that have county numbers\n",
    "bans_county = state_county_bans.copy()\n",
    "bans_county['Bans per county']= bans_county['Order_group']/bans_county['# Counties']\n",
    "\n",
    "#Make bans per county an integer not a float\n",
    "bans_county['Bans per county'] = bans_county['Bans per county'].apply(np.floor)\n",
    "bans_county['Bans per county'] = bans_county['Bans per county'].astype('int32')\n",
    "\n",
    "#Remove unnecessary columns from final dataset\n",
    "bans_county.drop(columns=['Order_group','# Counties'],inplace=True)\n",
    "bans_county"
   ]
  },
  {
   "cell_type": "code",
   "execution_count": 27,
   "metadata": {},
   "outputs": [
    {
     "output_type": "execute_result",
     "data": {
      "text/plain": [
       "   State  Bans per county\n",
       "0     AK                7\n",
       "1     AL                3\n",
       "2     AR                7\n",
       "3     AZ                0\n",
       "4     CA               17\n",
       "5     CO               42\n",
       "6     CT               17\n",
       "7     DC               11\n",
       "8     DE                8\n",
       "9     FL                3\n",
       "10    GA               20\n",
       "11    HI               19\n",
       "12    IA               14\n",
       "13    ID                7\n",
       "14    IL               17\n",
       "15    IN               20\n",
       "16    KS                8\n",
       "17    KY                5\n",
       "18    LA               23\n",
       "19    MA               26\n",
       "20    MD                9\n",
       "21    ME               13\n",
       "22    MI               41\n",
       "23    MN               10\n",
       "24    MO                3\n",
       "25    MS               46\n",
       "26    MT                5\n",
       "27    NC               24\n",
       "28    ND                0\n",
       "29    NE               16\n",
       "30    NH                4\n",
       "31    NJ               23\n",
       "32    NM               27\n",
       "33    NV               10\n",
       "34    NY               40\n",
       "35    OH                8\n",
       "36    OK                9\n",
       "37    OR               40\n",
       "38    PA               12\n",
       "39    RI               28\n",
       "40    SC               13\n",
       "41    SD                0\n",
       "42    TN                5\n",
       "43    TX                3\n",
       "44    UT               22\n",
       "45    VA               13\n",
       "46    VT               15\n",
       "47    WA               36\n",
       "48    WI                7\n",
       "49    WV               26\n",
       "50    WY               28"
      ],
      "text/html": "<div>\n<style scoped>\n    .dataframe tbody tr th:only-of-type {\n        vertical-align: middle;\n    }\n\n    .dataframe tbody tr th {\n        vertical-align: top;\n    }\n\n    .dataframe thead th {\n        text-align: right;\n    }\n</style>\n<table border=\"1\" class=\"dataframe\">\n  <thead>\n    <tr style=\"text-align: right;\">\n      <th></th>\n      <th>State</th>\n      <th>Bans per county</th>\n    </tr>\n  </thead>\n  <tbody>\n    <tr>\n      <th>0</th>\n      <td>AK</td>\n      <td>7</td>\n    </tr>\n    <tr>\n      <th>1</th>\n      <td>AL</td>\n      <td>3</td>\n    </tr>\n    <tr>\n      <th>2</th>\n      <td>AR</td>\n      <td>7</td>\n    </tr>\n    <tr>\n      <th>3</th>\n      <td>AZ</td>\n      <td>0</td>\n    </tr>\n    <tr>\n      <th>4</th>\n      <td>CA</td>\n      <td>17</td>\n    </tr>\n    <tr>\n      <th>5</th>\n      <td>CO</td>\n      <td>42</td>\n    </tr>\n    <tr>\n      <th>6</th>\n      <td>CT</td>\n      <td>17</td>\n    </tr>\n    <tr>\n      <th>7</th>\n      <td>DC</td>\n      <td>11</td>\n    </tr>\n    <tr>\n      <th>8</th>\n      <td>DE</td>\n      <td>8</td>\n    </tr>\n    <tr>\n      <th>9</th>\n      <td>FL</td>\n      <td>3</td>\n    </tr>\n    <tr>\n      <th>10</th>\n      <td>GA</td>\n      <td>20</td>\n    </tr>\n    <tr>\n      <th>11</th>\n      <td>HI</td>\n      <td>19</td>\n    </tr>\n    <tr>\n      <th>12</th>\n      <td>IA</td>\n      <td>14</td>\n    </tr>\n    <tr>\n      <th>13</th>\n      <td>ID</td>\n      <td>7</td>\n    </tr>\n    <tr>\n      <th>14</th>\n      <td>IL</td>\n      <td>17</td>\n    </tr>\n    <tr>\n      <th>15</th>\n      <td>IN</td>\n      <td>20</td>\n    </tr>\n    <tr>\n      <th>16</th>\n      <td>KS</td>\n      <td>8</td>\n    </tr>\n    <tr>\n      <th>17</th>\n      <td>KY</td>\n      <td>5</td>\n    </tr>\n    <tr>\n      <th>18</th>\n      <td>LA</td>\n      <td>23</td>\n    </tr>\n    <tr>\n      <th>19</th>\n      <td>MA</td>\n      <td>26</td>\n    </tr>\n    <tr>\n      <th>20</th>\n      <td>MD</td>\n      <td>9</td>\n    </tr>\n    <tr>\n      <th>21</th>\n      <td>ME</td>\n      <td>13</td>\n    </tr>\n    <tr>\n      <th>22</th>\n      <td>MI</td>\n      <td>41</td>\n    </tr>\n    <tr>\n      <th>23</th>\n      <td>MN</td>\n      <td>10</td>\n    </tr>\n    <tr>\n      <th>24</th>\n      <td>MO</td>\n      <td>3</td>\n    </tr>\n    <tr>\n      <th>25</th>\n      <td>MS</td>\n      <td>46</td>\n    </tr>\n    <tr>\n      <th>26</th>\n      <td>MT</td>\n      <td>5</td>\n    </tr>\n    <tr>\n      <th>27</th>\n      <td>NC</td>\n      <td>24</td>\n    </tr>\n    <tr>\n      <th>28</th>\n      <td>ND</td>\n      <td>0</td>\n    </tr>\n    <tr>\n      <th>29</th>\n      <td>NE</td>\n      <td>16</td>\n    </tr>\n    <tr>\n      <th>30</th>\n      <td>NH</td>\n      <td>4</td>\n    </tr>\n    <tr>\n      <th>31</th>\n      <td>NJ</td>\n      <td>23</td>\n    </tr>\n    <tr>\n      <th>32</th>\n      <td>NM</td>\n      <td>27</td>\n    </tr>\n    <tr>\n      <th>33</th>\n      <td>NV</td>\n      <td>10</td>\n    </tr>\n    <tr>\n      <th>34</th>\n      <td>NY</td>\n      <td>40</td>\n    </tr>\n    <tr>\n      <th>35</th>\n      <td>OH</td>\n      <td>8</td>\n    </tr>\n    <tr>\n      <th>36</th>\n      <td>OK</td>\n      <td>9</td>\n    </tr>\n    <tr>\n      <th>37</th>\n      <td>OR</td>\n      <td>40</td>\n    </tr>\n    <tr>\n      <th>38</th>\n      <td>PA</td>\n      <td>12</td>\n    </tr>\n    <tr>\n      <th>39</th>\n      <td>RI</td>\n      <td>28</td>\n    </tr>\n    <tr>\n      <th>40</th>\n      <td>SC</td>\n      <td>13</td>\n    </tr>\n    <tr>\n      <th>41</th>\n      <td>SD</td>\n      <td>0</td>\n    </tr>\n    <tr>\n      <th>42</th>\n      <td>TN</td>\n      <td>5</td>\n    </tr>\n    <tr>\n      <th>43</th>\n      <td>TX</td>\n      <td>3</td>\n    </tr>\n    <tr>\n      <th>44</th>\n      <td>UT</td>\n      <td>22</td>\n    </tr>\n    <tr>\n      <th>45</th>\n      <td>VA</td>\n      <td>13</td>\n    </tr>\n    <tr>\n      <th>46</th>\n      <td>VT</td>\n      <td>15</td>\n    </tr>\n    <tr>\n      <th>47</th>\n      <td>WA</td>\n      <td>36</td>\n    </tr>\n    <tr>\n      <th>48</th>\n      <td>WI</td>\n      <td>7</td>\n    </tr>\n    <tr>\n      <th>49</th>\n      <td>WV</td>\n      <td>26</td>\n    </tr>\n    <tr>\n      <th>50</th>\n      <td>WY</td>\n      <td>28</td>\n    </tr>\n  </tbody>\n</table>\n</div>"
     },
     "metadata": {},
     "execution_count": 27
    }
   ],
   "source": [
    "#Create final bans per county dataset with all states and DC\n",
    "#Reset the index for accurate counting\n",
    "bans_per_county = pd.concat([bans_county,states]).sort_values(by=['State']).reset_index(drop=True)\n",
    "bans_per_county\n"
   ]
  },
  {
   "cell_type": "code",
   "execution_count": 28,
   "metadata": {},
   "outputs": [],
   "source": [
    "bans_county.to_csv(r'data/StateBansPerCounty.csv',index=False)"
   ]
  }
 ],
 "metadata": {
  "kernelspec": {
   "name": "python3",
   "display_name": "Python 3.9.1 64-bit"
  },
  "metadata": {
   "interpreter": {
    "hash": "8928c97c33a64ca7a9da5365a92bbaacc7f636b491d853b17363274fcd1c8973"
   }
  },
  "interpreter": {
   "hash": "aee8b7b246df8f9039afb4144a1f6fd8d2ca17a180786b69acc140d282b71a49"
  }
 },
 "nbformat": 4,
 "nbformat_minor": 4
}