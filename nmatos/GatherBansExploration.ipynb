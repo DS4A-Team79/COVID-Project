{
 "cells": [
  {
   "cell_type": "code",
   "execution_count": 1,
   "metadata": {},
   "outputs": [
    {
     "output_type": "stream",
     "name": "stderr",
     "text": [
      "C:\\Users\\nmato\\AppData\\Local\\Programs\\Python\\Python38-32\\lib\\site-packages\\IPython\\core\\interactiveshell.py:3062: DtypeWarning: Columns (7,10,13,16,21,23,33,35) have mixed types.Specify dtype option on import or set low_memory=False.\n  has_raised = await self.run_ast_nodes(code_ast.body, cell_name,\n"
     ]
    }
   ],
   "source": [
    "import pandas as pd\n",
    "bans = pd.read_csv(r\"data\\U.S._State_Gathering_Bans__2020.csv\")"
   ]
  },
  {
   "cell_type": "code",
   "execution_count": 2,
   "metadata": {},
   "outputs": [
    {
     "output_type": "execute_result",
     "data": {
      "text/plain": [
       "  State_Tribe_Territory     County_Name  FIPS_State  FIPS_County        date  \\\n",
       "0                    AL  Autauga County           1            1  2020-03-11   \n",
       "1                    AL  Autauga County           1            1  2020-03-12   \n",
       "2                    AL  Autauga County           1            1  2020-03-13   \n",
       "3                    AL  Autauga County           1            1  2020-03-14   \n",
       "4                    AL  Autauga County           1            1  2020-03-15   \n",
       "\n",
       "  General_GB_order_group  General_GB_order_code  \\\n",
       "0         No order found                      1   \n",
       "1         No order found                      1   \n",
       "2         No order found                      1   \n",
       "3         No order found                      1   \n",
       "4         No order found                      1   \n",
       "\n",
       "  General_or_Under_6ft_Bans_Gatherings_Over With_SD_order_group  \\\n",
       "0                                       NaN      No order found   \n",
       "1                                       NaN      No order found   \n",
       "2                                       NaN      No order found   \n",
       "3                                       NaN      No order found   \n",
       "4                                       NaN      No order found   \n",
       "\n",
       "   With_SD_order_code  ... Outdoor_Household_Order_Group  \\\n",
       "0                   1  ...                No order found   \n",
       "1                   1  ...                No order found   \n",
       "2                   1  ...                No order found   \n",
       "3                   1  ...                No order found   \n",
       "4                   1  ...                No order found   \n",
       "\n",
       "  Outdoor_Household_Order_Code  Bans_Households_Not_Individuals_Outdoor_Only  \\\n",
       "0                            1                                           NaN   \n",
       "1                            1                                           NaN   \n",
       "2                            1                                           NaN   \n",
       "3                            1                                           NaN   \n",
       "4                            1                                           NaN   \n",
       "\n",
       "  Date_Signed Express_Preemption  origin_dataset Indoor_Outdoor  \\\n",
       "0         NaN                NaN             NaN            NaN   \n",
       "1         NaN                NaN             NaN            NaN   \n",
       "2         NaN                NaN             NaN            NaN   \n",
       "3         NaN                NaN             NaN            NaN   \n",
       "4         NaN                NaN             NaN            NaN   \n",
       "\n",
       "  Source_of_Action  URL Citation  \n",
       "0              NaN  NaN      NaN  \n",
       "1              NaN  NaN      NaN  \n",
       "2              NaN  NaN      NaN  \n",
       "3              NaN  NaN      NaN  \n",
       "4              NaN  NaN      NaN  \n",
       "\n",
       "[5 rows x 37 columns]"
      ],
      "text/html": "<div>\n<style scoped>\n    .dataframe tbody tr th:only-of-type {\n        vertical-align: middle;\n    }\n\n    .dataframe tbody tr th {\n        vertical-align: top;\n    }\n\n    .dataframe thead th {\n        text-align: right;\n    }\n</style>\n<table border=\"1\" class=\"dataframe\">\n  <thead>\n    <tr style=\"text-align: right;\">\n      <th></th>\n      <th>State_Tribe_Territory</th>\n      <th>County_Name</th>\n      <th>FIPS_State</th>\n      <th>FIPS_County</th>\n      <th>date</th>\n      <th>General_GB_order_group</th>\n      <th>General_GB_order_code</th>\n      <th>General_or_Under_6ft_Bans_Gatherings_Over</th>\n      <th>With_SD_order_group</th>\n      <th>With_SD_order_code</th>\n      <th>...</th>\n      <th>Outdoor_Household_Order_Group</th>\n      <th>Outdoor_Household_Order_Code</th>\n      <th>Bans_Households_Not_Individuals_Outdoor_Only</th>\n      <th>Date_Signed</th>\n      <th>Express_Preemption</th>\n      <th>origin_dataset</th>\n      <th>Indoor_Outdoor</th>\n      <th>Source_of_Action</th>\n      <th>URL</th>\n      <th>Citation</th>\n    </tr>\n  </thead>\n  <tbody>\n    <tr>\n      <th>0</th>\n      <td>AL</td>\n      <td>Autauga County</td>\n      <td>1</td>\n      <td>1</td>\n      <td>2020-03-11</td>\n      <td>No order found</td>\n      <td>1</td>\n      <td>NaN</td>\n      <td>No order found</td>\n      <td>1</td>\n      <td>...</td>\n      <td>No order found</td>\n      <td>1</td>\n      <td>NaN</td>\n      <td>NaN</td>\n      <td>NaN</td>\n      <td>NaN</td>\n      <td>NaN</td>\n      <td>NaN</td>\n      <td>NaN</td>\n      <td>NaN</td>\n    </tr>\n    <tr>\n      <th>1</th>\n      <td>AL</td>\n      <td>Autauga County</td>\n      <td>1</td>\n      <td>1</td>\n      <td>2020-03-12</td>\n      <td>No order found</td>\n      <td>1</td>\n      <td>NaN</td>\n      <td>No order found</td>\n      <td>1</td>\n      <td>...</td>\n      <td>No order found</td>\n      <td>1</td>\n      <td>NaN</td>\n      <td>NaN</td>\n      <td>NaN</td>\n      <td>NaN</td>\n      <td>NaN</td>\n      <td>NaN</td>\n      <td>NaN</td>\n      <td>NaN</td>\n    </tr>\n    <tr>\n      <th>2</th>\n      <td>AL</td>\n      <td>Autauga County</td>\n      <td>1</td>\n      <td>1</td>\n      <td>2020-03-13</td>\n      <td>No order found</td>\n      <td>1</td>\n      <td>NaN</td>\n      <td>No order found</td>\n      <td>1</td>\n      <td>...</td>\n      <td>No order found</td>\n      <td>1</td>\n      <td>NaN</td>\n      <td>NaN</td>\n      <td>NaN</td>\n      <td>NaN</td>\n      <td>NaN</td>\n      <td>NaN</td>\n      <td>NaN</td>\n      <td>NaN</td>\n    </tr>\n    <tr>\n      <th>3</th>\n      <td>AL</td>\n      <td>Autauga County</td>\n      <td>1</td>\n      <td>1</td>\n      <td>2020-03-14</td>\n      <td>No order found</td>\n      <td>1</td>\n      <td>NaN</td>\n      <td>No order found</td>\n      <td>1</td>\n      <td>...</td>\n      <td>No order found</td>\n      <td>1</td>\n      <td>NaN</td>\n      <td>NaN</td>\n      <td>NaN</td>\n      <td>NaN</td>\n      <td>NaN</td>\n      <td>NaN</td>\n      <td>NaN</td>\n      <td>NaN</td>\n    </tr>\n    <tr>\n      <th>4</th>\n      <td>AL</td>\n      <td>Autauga County</td>\n      <td>1</td>\n      <td>1</td>\n      <td>2020-03-15</td>\n      <td>No order found</td>\n      <td>1</td>\n      <td>NaN</td>\n      <td>No order found</td>\n      <td>1</td>\n      <td>...</td>\n      <td>No order found</td>\n      <td>1</td>\n      <td>NaN</td>\n      <td>NaN</td>\n      <td>NaN</td>\n      <td>NaN</td>\n      <td>NaN</td>\n      <td>NaN</td>\n      <td>NaN</td>\n      <td>NaN</td>\n    </tr>\n  </tbody>\n</table>\n<p>5 rows × 37 columns</p>\n</div>"
     },
     "metadata": {},
     "execution_count": 2
    }
   ],
   "source": [
    "bans.head()"
   ]
  },
  {
   "cell_type": "code",
   "execution_count": 3,
   "metadata": {},
   "outputs": [
    {
     "output_type": "stream",
     "name": "stdout",
     "text": [
      "Index(['State_Tribe_Territory', 'County_Name', 'FIPS_State', 'FIPS_County',\n       'date', 'General_GB_order_group', 'General_GB_order_code',\n       'General_or_Under_6ft_Bans_Gatherings_Over', 'With_SD_order_group',\n       'With_SD_order_code', 'Over_6ft_Bans_Gatherings_Over',\n       'outdoor_order_group', 'outdoor_order_code',\n       'General_Or_Under_6ft_Bans_Outdoor_Gatherings_Over',\n       'With_SD_outdoor_order_group', 'With_SD_outdoor_order_code',\n       'Over_6ft_Bans_Outdoor_Gatherings_Over', 'Current_order_status',\n       'Jurisdiction_Type', 'Issuing_Jurisdiction', 'Effective_date',\n       'Expiration_date', 'Effective_NA_Reason', 'Expiration_NA_Reason',\n       'General_Household_Order_Group', 'General_Household_order_code',\n       'Bans_Households_Not_Individuals_Generally',\n       'Outdoor_Household_Order_Group', 'Outdoor_Household_Order_Code',\n       'Bans_Households_Not_Individuals_Outdoor_Only', 'Date_Signed',\n       'Express_Preemption', 'origin_dataset', 'Indoor_Outdoor',\n       'Source_of_Action', 'URL', 'Citation'],\n      dtype='object')\n"
     ]
    }
   ],
   "source": [
    "bans_columns = bans.columns\n",
    "print(bans_columns)"
   ]
  },
  {
   "cell_type": "code",
   "execution_count": 4,
   "metadata": {},
   "outputs": [
    {
     "output_type": "stream",
     "name": "stdout",
     "text": [
      "[nan 'AL' 'AK' 'AZ' 'AR' 'CA' 'CO' 'CT' 'DE' 'DC' 'FL' 'GA' 'HI' 'ID' 'IL'\n 'IN' 'IA' 'KS' 'KY' 'LA' 'ME' 'MD' 'MA' 'MI' 'MN' 'MS' 'MO' 'MT' 'NE'\n 'NV' 'NH' 'NJ' 'NM' 'NY' 'NC' 'OH' 'OK' 'OR' 'PA' 'RI' 'SC' 'TN' 'TX'\n 'UT' 'VT' 'VA' 'WA' 'WV' 'WI' 'WY' 'AS' 'GU' 'CNMI' 'PR' 'USVI']\n"
     ]
    }
   ],
   "source": [
    "print(bans['Issuing_Jurisdiction'].unique())"
   ]
  },
  {
   "cell_type": "code",
   "execution_count": 5,
   "metadata": {},
   "outputs": [],
   "source": [
    "#x-axis time period\n",
    "#y-axis whether a ban was in effect (gatherings,)\n",
    "\n",
    "#look into the issuing jurisdiction (is it at the state level)\n",
    "#Use a bar graph to "
   ]
  },
  {
   "cell_type": "code",
   "execution_count": 6,
   "metadata": {
    "tags": []
   },
   "outputs": [
    {
     "output_type": "stream",
     "name": "stdout",
     "text": [
      "~~~~~~~~~State_Tribe_Territory\n",
      "['AL' 'AK' 'AZ' 'AR' 'CA' 'CO' 'CT' 'DE' 'DC' 'FL' 'GA' 'HI' 'ID' 'IL'\n",
      " 'IN' 'IA' 'KS' 'KY' 'LA' 'ME' 'MD' 'MA' 'MI' 'MN' 'MS' 'MO' 'MT' 'NE'\n",
      " 'NV' 'NH' 'NJ' 'NM' 'NY' 'NC' 'ND' 'OH' 'OK' 'OR' 'PA' 'RI' 'SC' 'SD'\n",
      " 'TN' 'TX' 'UT' 'VT' 'VA' 'WA' 'WV' 'WI' 'WY' 'AS' 'GU' 'MP' 'PR' 'VI']\n",
      "~~~~~~~~~County_Name\n",
      "['Autauga County' 'Baldwin County' 'Barbour County' ... 'St. Croix Island'\n",
      " 'St. John Island' 'St. Thomas Island']\n",
      "~~~~~~~~~FIPS_State\n",
      "[ 1  2  4  5  6  8  9 10 11 12 13 15 16 17 18 19 20 21 22 23 24 25 26 27\n",
      " 28 29 30 31 32 33 34 35 36 37 38 39 40 41 42 44 45 46 47 48 49 50 51 53\n",
      " 54 55 56 60 66 69 72 78]\n",
      "~~~~~~~~~FIPS_County\n",
      "[  1   3   5   7   9  11  13  15  17  19  21  23  25  27  29  31  33  35\n",
      "  37  39  41  43  45  47  49  51  53  55  57  59  61  63  65  67  69  71\n",
      "  73  75  77  79  81  83  85  87  89  91  93  95  97  99 101 103 105 107\n",
      " 109 111 113 115 117 119 121 123 125 127 129 131 133  16  20  50  60  68\n",
      "  70  90 100 110 122 130 150 158 164 170 180 185 188 195 198 220 230 240\n",
      " 261 275 282 290  12 135 137 139 141 143 145 147 149  14  86 151 153 155\n",
      " 157 159 161 163 165 167 169 171 173 175 177 179 181 183 187 189 191 193\n",
      " 197 199 201 205 207 209 211 213 215 217 219 221 223 225 227 229 231 233\n",
      " 235 237 239 241 243 245 247 249 251 253 255 257 259 263 265 267 269 271\n",
      " 273 277 279 281 283 285 287 289 291 293 295 297 299 301 303 305 307 309\n",
      " 311 313 315 317 319 321 203 510 186   6  28 102 323 325 327 329 331 333\n",
      " 335 337 339 341 343 345 347 349 351 353 355 357 359 361 363 365 367 369\n",
      " 371 373 375 377 379 381 383 385 387 389 391 393 395 397 399 401 403 405\n",
      " 407 409 411 413 415 417 419 421 423 425 427 429 431 433 435 437 439 441\n",
      " 443 445 447 449 451 453 455 457 459 461 463 465 467 469 471 473 475 477\n",
      " 479 481 483 485 487 489 491 493 495 497 499 501 503 505 507  36 520 530\n",
      " 540 550 570 580 590 595 600 610 620 630 640 650 660 670 678 680 683 685\n",
      " 690 700 710 720 730 735 740 750 760 770 775 790 800 810 820 830 840  78\n",
      "  10  30  40 120  54]\n",
      "~~~~~~~~~date\n",
      "['2020-03-11' '2020-03-12' '2020-03-13' '2020-03-14' '2020-03-15'\n",
      " '2020-03-16' '2020-03-17' '2020-03-18' '2020-03-19' '2020-03-20'\n",
      " '2020-03-21' '2020-03-22' '2020-03-23' '2020-03-24' '2020-03-25'\n",
      " '2020-03-26' '2020-03-27' '2020-03-28' '2020-03-29' '2020-03-30'\n",
      " '2020-03-31' '2020-04-01' '2020-04-02' '2020-04-03' '2020-04-04'\n",
      " '2020-04-05' '2020-04-06' '2020-04-07' '2020-04-08' '2020-04-09'\n",
      " '2020-04-10' '2020-04-11' '2020-04-12' '2020-04-13' '2020-04-14'\n",
      " '2020-04-15' '2020-04-16' '2020-04-17' '2020-04-18' '2020-04-19'\n",
      " '2020-04-20' '2020-04-21' '2020-04-22' '2020-04-23' '2020-04-24'\n",
      " '2020-04-25' '2020-04-26' '2020-04-27' '2020-04-28' '2020-04-29'\n",
      " '2020-04-30' '2020-05-01' '2020-05-02' '2020-05-03' '2020-05-04'\n",
      " '2020-05-05' '2020-05-06' '2020-05-07' '2020-05-08' '2020-05-09'\n",
      " '2020-05-10' '2020-05-11' '2020-05-12' '2020-05-13' '2020-05-14'\n",
      " '2020-05-15' '2020-05-16' '2020-05-17' '2020-05-18' '2020-05-19'\n",
      " '2020-05-20' '2020-05-21' '2020-05-22' '2020-05-23' '2020-05-24'\n",
      " '2020-05-25' '2020-05-26' '2020-05-27' '2020-05-28' '2020-05-29'\n",
      " '2020-05-30' '2020-05-31' '2020-06-01' '2020-06-02' '2020-06-03'\n",
      " '2020-06-04' '2020-06-05' '2020-06-06' '2020-06-07' '2020-06-08'\n",
      " '2020-06-09' '2020-06-10' '2020-06-11' '2020-06-12' '2020-06-13'\n",
      " '2020-06-14' '2020-06-15' '2020-06-16' '2020-06-17' '2020-06-18'\n",
      " '2020-06-19' '2020-06-20' '2020-06-21' '2020-06-22' '2020-06-23'\n",
      " '2020-06-24' '2020-06-25' '2020-06-26' '2020-06-27' '2020-06-28'\n",
      " '2020-06-29' '2020-06-30' '2020-07-01' '2020-07-02' '2020-07-03'\n",
      " '2020-07-04' '2020-07-05' '2020-07-06' '2020-07-07' '2020-07-08'\n",
      " '2020-07-09' '2020-07-10' '2020-07-11' '2020-07-12' '2020-07-13'\n",
      " '2020-07-14' '2020-07-15' '2020-07-16' '2020-07-17' '2020-07-18'\n",
      " '2020-07-19' '2020-07-20' '2020-07-21' '2020-07-22' '2020-07-23'\n",
      " '2020-07-24' '2020-07-25' '2020-07-26' '2020-07-27' '2020-07-28'\n",
      " '2020-07-29' '2020-07-30' '2020-07-31' '2020-08-01' '2020-08-02'\n",
      " '2020-08-03' '2020-08-04' '2020-08-05' '2020-08-06' '2020-08-07'\n",
      " '2020-08-08' '2020-08-09' '2020-08-10' '2020-08-11' '2020-08-12'\n",
      " '2020-08-13' '2020-08-14' '2020-08-15' '2020-08-16' '2020-08-17'\n",
      " '2020-08-18' '2020-08-19' '2020-08-20' '2020-08-21' '2020-08-22'\n",
      " '2020-08-23' '2020-08-24' '2020-08-25' '2020-08-26' '2020-08-27'\n",
      " '2020-08-28' '2020-08-29' '2020-08-30' '2020-08-31' '2020-09-01'\n",
      " '2020-09-02' '2020-09-03' '2020-09-04' '2020-09-05' '2020-09-06'\n",
      " '2020-09-07' '2020-09-08' '2020-09-09' '2020-09-10' '2020-09-11'\n",
      " '2020-09-12' '2020-09-13' '2020-09-14' '2020-09-15' '2020-09-16'\n",
      " '2020-09-17' '2020-09-18' '2020-09-19' '2020-09-20' '2020-09-21'\n",
      " '2020-09-22' '2020-09-23' '2020-09-24' '2020-09-25' '2020-09-26'\n",
      " '2020-09-27' '2020-09-28' '2020-09-29' '2020-09-30' '2020-10-01'\n",
      " '2020-10-02' '2020-10-03' '2020-10-04' '2020-10-05' '2020-10-06'\n",
      " '2020-10-07' '2020-10-08' '2020-10-09' '2020-10-10' '2020-10-11'\n",
      " '2020-10-12' '2020-10-13' '2020-10-14' '2020-10-15' '2020-10-16'\n",
      " '2020-10-17' '2020-10-18' '2020-10-19' '2020-10-20' '2020-10-21'\n",
      " '2020-10-22' '2020-10-23' '2020-10-24' '2020-10-25' '2020-10-26'\n",
      " '2020-10-27' '2020-10-28' '2020-10-29' '2020-10-30' '2020-10-31'\n",
      " '2020-11-01' '2020-11-02' '2020-11-03' '2020-11-04' '2020-11-05'\n",
      " '2020-11-06' '2020-11-07' '2020-11-08' '2020-11-09' '2020-11-10'\n",
      " '2020-11-11' '2020-11-12' '2020-11-13' '2020-11-14' '2020-11-15'\n",
      " '2020-11-16' '2020-11-17' '2020-11-18' '2020-11-19' '2020-11-20'\n",
      " '2020-11-21' '2020-11-22' '2020-11-23' '2020-11-24' '2020-11-25'\n",
      " '2020-11-26' '2020-11-27' '2020-11-28' '2020-11-29' '2020-11-30'\n",
      " '2020-12-01' '2020-12-02' '2020-12-03' '2020-12-04' '2020-12-05'\n",
      " '2020-12-06' '2020-12-07' '2020-12-08' '2020-12-09' '2020-12-10'\n",
      " '2020-12-11' '2020-12-12' '2020-12-13' '2020-12-14' '2020-12-15'\n",
      " '2020-12-16' '2020-12-17' '2020-12-18' '2020-12-19' '2020-12-20'\n",
      " '2020-12-21' '2020-12-22' '2020-12-23' '2020-12-24' '2020-12-25'\n",
      " '2020-12-26' '2020-12-27' '2020-12-28' '2020-12-29' '2020-12-30'\n",
      " '2020-12-31']\n",
      "~~~~~~~~~General_GB_order_group\n",
      "['No order found' 'Ban of gatherings over 1-10 people'\n",
      " 'Bans gatherings of any size' 'Ban of gatherings over 11-25 people'\n",
      " 'Ban of gatherings over 101 or more people'\n",
      " 'Ban of gatherings over 26-50 people'\n",
      " 'Ban of gatherings over 51-100 people']\n",
      "~~~~~~~~~General_GB_order_code\n",
      "[1 6 7 5 2 4 3]\n",
      "~~~~~~~~~General_or_Under_6ft_Bans_Gatherings_Over\n",
      "[nan 'No ban' '9' '0' '10' '25' '249' '49' '5' '100' '50' 50.0 10.0 '999'\n",
      " 0.0 999.0 49.0 25.0 '8' '15' '250' '75' 20.0 '6' '10000' '99' '4' 5.0\n",
      " 99.0 9.0 4.0 500.0 100.0 '24' 6.0 249.0 24.0 8.0 250.0 15.0 '20' '150']\n",
      "~~~~~~~~~With_SD_order_group\n",
      "['No order found' 'Ban of gatherings over 1-10 people'\n",
      " 'Ban of gatherings over 11-25 people'\n",
      " 'Ban of gatherings over 51-100 people'\n",
      " 'Ban of gatherings over 26-50 people'\n",
      " 'Ban of gatherings over 101 or more people' 'Bans gatherings of any size']\n",
      "~~~~~~~~~With_SD_order_code\n",
      "[1 6 5 3 4 2 7]\n",
      "~~~~~~~~~Over_6ft_Bans_Gatherings_Over\n",
      "[nan 'No ban' '10' '20' '100' '50' '25' '250' '0' 10.0 0.0 '3000' '10000'\n",
      " '6' '9' '5']\n",
      "~~~~~~~~~outdoor_order_group\n",
      "['No order found' 'Bans gatherings of any size'\n",
      " 'Ban of gatherings over 1-10 people'\n",
      " 'Ban of gatherings over 51-100 people'\n",
      " 'Ban of gatherings over 101 or more people'\n",
      " 'Ban of gatherings over 26-50 people'\n",
      " 'Ban of gatherings over 11-25 people']\n",
      "~~~~~~~~~outdoor_order_code\n",
      "[1 7 6 3 2 4 5]\n",
      "~~~~~~~~~General_Or_Under_6ft_Bans_Outdoor_Gatherings_Over\n",
      "[nan 0.0 '10' 'No ban' '0' '100' '500' '250' '50' '25' 10.0 30.0 50.0\n",
      " 250.0 150.0 100.0 25.0 6.0 8.0 12.0 15.0 5.0 1000.0]\n",
      "~~~~~~~~~With_SD_outdoor_order_group\n",
      "['No order found' 'Ban of gatherings over 11-25 people'\n",
      " 'Ban of gatherings over 101 or more people'\n",
      " 'Ban of gatherings over 51-100 people'\n",
      " 'Ban of gatherings over 1-10 people'\n",
      " 'Ban of gatherings over 26-50 people']\n",
      "~~~~~~~~~With_SD_outdoor_order_code\n",
      "[1 5 2 3 6 4]\n",
      "~~~~~~~~~Over_6ft_Bans_Outdoor_Gatherings_Over\n",
      "[nan 20.0 'No ban' '175' '25' '100' '10' '50' '250' 100.0 25.0 250.0 15.0\n",
      " '15' '20' 500.0 150.0 'No Ban' '5']\n",
      "~~~~~~~~~Current_order_status\n",
      "[nan 'In effect']\n",
      "~~~~~~~~~Jurisdiction_Type\n",
      "['State' 'District (state)' 'Territory']\n",
      "~~~~~~~~~Issuing_Jurisdiction\n",
      "[nan 'AL' 'AK' 'AZ' 'AR' 'CA' 'CO' 'CT' 'DE' 'DC' 'FL' 'GA' 'HI' 'ID' 'IL'\n",
      " 'IN' 'IA' 'KS' 'KY' 'LA' 'ME' 'MD' 'MA' 'MI' 'MN' 'MS' 'MO' 'MT' 'NE'\n",
      " 'NV' 'NH' 'NJ' 'NM' 'NY' 'NC' 'OH' 'OK' 'OR' 'PA' 'RI' 'SC' 'TN' 'TX'\n",
      " 'UT' 'VT' 'VA' 'WA' 'WV' 'WI' 'WY' 'AS' 'GU' 'CNMI' 'PR' 'USVI']\n"
     ]
    }
   ],
   "source": [
    "for col in bans_columns[:20]:\n",
    "    print(\"~~~~~~~~~\"+col)\n",
    "    print(bans[col].unique())"
   ]
  },
  {
   "cell_type": "code",
   "execution_count": 7,
   "metadata": {
    "tags": []
   },
   "outputs": [
    {
     "output_type": "stream",
     "name": "stdout",
     "text": [
      "~~~~~~~~~Effective_date\n",
      "[nan '2020-03-19' '2020-03-20' '2020-03-28' '2020-05-11' '2020-12-09'\n",
      " '2020-03-17' '2020-03-24' '2020-04-24' '2020-05-22' '2020-03-21'\n",
      " '2020-06-29' '2020-07-23' '2020-12-03' '2020-03-26' '2020-03-27'\n",
      " '2020-04-06' '2020-05-04' '2020-05-18' '2020-06-15' '2020-11-03'\n",
      " '2020-03-16' '2020-09-12' '2020-10-09' '2020-11-13' '2020-11-18'\n",
      " '2020-11-25' '2020-11-29' '2020-12-02' '2020-12-16' '2020-12-17'\n",
      " '2020-12-11' '2020-12-06' '2020-12-23' '2020-12-30' '2020-04-02'\n",
      " '2020-04-10' '2020-04-27' '2020-05-08' '2020-05-14' '2020-05-26'\n",
      " '2020-06-01' '2020-06-18' '2020-06-30' '2020-07-30' '2020-08-21'\n",
      " '2020-09-20' '2020-09-22' '2020-09-28' '2020-09-29' '2020-10-02'\n",
      " '2020-10-05' '2020-10-08' '2020-10-17' '2020-10-24' '2020-10-29'\n",
      " '2020-10-31' '2020-11-02' '2020-11-07' '2020-11-11' '2020-11-20'\n",
      " '2020-11-23' '2020-12-01' '2020-12-05' '2020-12-07' '2020-12-10'\n",
      " '2020-12-15' '2020-12-29' '2020-09-08' '2020-09-15' '2020-03-12'\n",
      " '2020-05-29' '2020-06-16' '2020-06-17' '2020-07-03' '2020-11-06'\n",
      " '2020-06-19' '2020-07-24' '2020-08-26' '2020-09-01' '2020-09-04'\n",
      " '2020-12-14' '2020-04-15' '2020-05-16' '2020-06-22' '2020-07-22'\n",
      " '2020-10-07' '2020-03-25' '2020-06-05' '2020-06-20' '2020-07-07'\n",
      " '2020-07-20' '2020-08-05' '2020-09-25' '2020-11-24' '2020-04-03'\n",
      " '2020-04-08' '2020-04-20' '2020-05-01' '2020-05-28' '2020-07-01'\n",
      " '2020-07-16' '2020-08-01' '2020-08-16' '2020-09-16' '2020-10-01'\n",
      " '2020-10-16' '2020-11-01' '2020-04-26' '2020-05-05' '2020-06-26'\n",
      " '2020-07-21' '2020-10-21' '2020-08-03' '2020-08-08' '2020-08-20'\n",
      " '2020-08-27' '2020-09-10' '2020-09-24' '2020-10-22' '2020-06-10'\n",
      " '2020-07-17' '2020-05-03' '2020-05-09' '2020-08-11' '2020-10-23'\n",
      " '2020-04-30' '2020-07-06' '2020-07-31' '2020-08-06' '2020-10-06'\n",
      " '2020-10-15' '2020-10-27' '2020-11-12' '2020-12-12' '2020-11-14'\n",
      " '2020-03-13' '2020-03-18' '2020-04-01' '2020-09-18' '2020-08-18'\n",
      " '2020-09-02' '2020-10-28' '2020-10-03' '2020-10-25' '2020-11-04'\n",
      " '2020-06-12' '2020-09-26' '2020-10-18' '2020-11-15' '2020-12-13'\n",
      " '2020-12-21' '2020-12-28' '2020-05-21' '2020-05-13' '2020-06-25'\n",
      " '2020-11-17' '2020-04-16' '2020-04-18' '2020-03-23' '2020-05-15'\n",
      " '2020-07-13' '2020-08-07' '2020-08-28' '2020-09-11' '2020-04-07'\n",
      " '2020-04-29' '2020-10-13' '2020-03-30' '2020-05-06' '2020-05-27'\n",
      " '2020-06-03' '2020-03-31' '2020-04-28' '2020-06-08' '2020-12-26'\n",
      " '2020-04-09' '2020-05-07' '2020-05-31' '2020-06-09' '2020-12-18'\n",
      " '2020-04-17' '2020-07-02' '2020-08-17' '2020-08-31' '2020-09-14'\n",
      " '2020-09-30' '2020-05-12' '2020-04-22' '2020-09-21' '2020-11-16'\n",
      " '2020-12-24' '2020-03-29' '2020-11-05' '2020-04-04' '2020-08-04'\n",
      " '2020-04-11' '2020-08-29' '2020-11-30' '2020-06-13' '2020-06-23'\n",
      " '2020-06-24' '2020-07-09' '2020-10-14' '2020-11-09' '2020-11-19'\n",
      " '2020-03-14' '2020-04-23' '2020-04-13' '2020-05-30' '2020-07-10'\n",
      " '2020-05-23' '2020-06-06' '2020-07-14' '2020-07-15' '2020-09-19'\n",
      " '2020-03-22' '2020-07-29' '2020-10-30' '2020-08-10' '2020-08-25'\n",
      " '2020-09-09' '2020-11-08' '2020-12-08' '2020-12-20' '2020-07-27'\n",
      " '2020-08-14' '2020-09-23' '2020-11-10' '2020-03-15' '2020-09-03'\n",
      " '2020-06-11' '2020-07-04' '2020-03-11' '2020-10-10' '2020-11-21'\n",
      " '2020-11-27' '2020-11-28' '2020-12-19' '2020-12-27' '2020-10-19'\n",
      " '2020-04-05' '2020-05-10' '2020-08-24' '2020-09-07' '2020-08-02'\n",
      " '2020-08-09' '2020-08-15' '2020-08-22' '2020-08-23' '2020-08-30'\n",
      " '2020-09-06' '2020-08-13']\n",
      "~~~~~~~~~Expiration_date\n",
      "[nan '2020-05-15' '2020-12-11' '2021-01-22' '2020-04-18' '2020-04-11'\n",
      " '2020-04-26' '2020-05-26' '2020-06-01' '2020-07-01' '2020-07-30'\n",
      " '2020-08-20' '2020-09-20' '2020-10-19' '2020-11-05' '2020-11-29'\n",
      " '2020-12-20' '2021-01-06' '2020-10-05' '2020-11-04' '2020-04-30'\n",
      " '2020-05-20' '2020-06-20' '2020-07-03' '2020-05-31' '2020-06-15'\n",
      " '2020-03-31' '2020-04-24' '2020-06-08' '2020-07-24' '2020-10-09'\n",
      " '2020-12-31' '2020-04-06' '2020-04-13' '2020-05-13' '2020-06-28'\n",
      " '2020-06-30' '2020-07-15' '2020-07-31' '2020-08-15' '2020-08-31'\n",
      " '2020-09-15' '2020-09-30' '2020-10-15' '2020-10-31' '2020-11-15'\n",
      " '2020-11-30' '2020-12-15' '2021-02-14' '2020-06-05' '2020-09-04'\n",
      " '2020-09-16' '2020-09-09' '2020-09-23' '2020-08-27' '2020-08-29'\n",
      " '2020-10-29' '2020-04-15' '2020-09-19' '2020-10-17' '2020-11-14'\n",
      " '2020-12-12' '2021-01-09' '2020-04-20' '2020-05-01' '2020-05-04'\n",
      " '2020-05-23' '2020-06-13' '2020-07-17' '2020-09-25' '2021-01-03'\n",
      " '2020-05-11' '2020-05-18' '2020-05-27' '2020-06-17' '2020-06-25'\n",
      " '2020-07-25' '2020-08-23' '2020-10-18' '2020-12-10' '2020-12-16'\n",
      " '2021-01-08' '2020-12-13' '2020-08-07' '2020-08-28' '2020-09-11'\n",
      " '2020-11-06' '2020-12-04' '2020-12-23' '2021-01-13' '2020-04-08'\n",
      " '2020-04-05' '2020-04-07' '2020-05-19' '2021-01-10' '2020-05-28'\n",
      " '2020-06-12' '2020-10-30' '2020-12-08' '2021-01-15' '2020-12-18'\n",
      " '2020-04-14' '2020-04-27' '2020-05-25' '2020-06-29' '2020-07-06'\n",
      " '2020-07-20' '2020-08-03' '2020-08-17' '2020-09-14' '2020-11-11'\n",
      " '2020-05-03' '2020-04-10' '2020-09-13' '2021-01-31' '2020-05-10'\n",
      " '2020-05-06' '2020-04-16' '2020-05-30' '2020-09-01' '2020-10-01'\n",
      " '2020-09-18' '2020-10-02' '2020-10-16' '2020-11-13' '2020-11-16'\n",
      " '2020-12-02' '2020-12-30' '2021-01-29' '2020-04-22' '2020-04-29'\n",
      " '2020-06-06' '2020-06-21' '2020-07-13' '2020-07-26' '2020-08-12'\n",
      " '2021-01-01' '2020-05-08' '2020-05-22' '2020-06-26' '2020-10-23'\n",
      " '2020-05-29' '2020-04-28' '2020-05-02' '2020-05-16' '2020-05-24'\n",
      " '2020-06-11' '2020-07-12' '2020-08-09' '2020-09-27' '2020-10-25'\n",
      " '2020-11-23' '2020-12-17' '2020-06-04' '2021-01-04' '2020-03-30'\n",
      " '2020-07-29' '2020-09-28' '2020-10-28' '2020-11-27' '2020-11-22'\n",
      " '2021-01-19' '2020-10-24' '2020-11-08' '2020-12-29' '2020-04-01'\n",
      " '2020-07-10' '2020-11-12' '2021-01-21' '2020-06-10' '2020-09-10'\n",
      " '2020-12-14' '2021-01-11' '2020-04-03' '2020-04-17' '2020-05-05'\n",
      " '2020-06-14' '2020-09-06' '2020-04-12' '2020-08-08' '2020-08-10'\n",
      " '2020-08-21' '2020-08-24' '2020-09-05' '2020-09-07' '2020-12-19'\n",
      " '2020-12-21' '2020-12-26' '2020-12-28' '2021-01-02']\n",
      "~~~~~~~~~Effective_NA_Reason\n",
      "[nan]\n",
      "~~~~~~~~~Expiration_NA_Reason\n",
      "[nan 'Until rescinded' 'Duration of emergency' 'Not listed'\n",
      " 'Upon further order' 'Undetermined' 'Indefinite' 'Until Rescineded']\n",
      "~~~~~~~~~General_Household_Order_Group\n",
      "['No order found' 'Bans gatherings of any size'\n",
      " 'Ban of gatherings over 1-10 households']\n",
      "~~~~~~~~~General_Household_order_code\n",
      "[1 7 6]\n",
      "~~~~~~~~~Bans_Households_Not_Individuals_Generally\n",
      "[nan  0.  3.]\n",
      "~~~~~~~~~Outdoor_Household_Order_Group\n",
      "['No order found' 'Ban of gatherings over 1-10 households']\n",
      "~~~~~~~~~Outdoor_Household_Order_Code\n",
      "[1 7 6]\n",
      "~~~~~~~~~Bans_Households_Not_Individuals_Outdoor_Only\n",
      "[nan  3.]\n"
     ]
    }
   ],
   "source": [
    "for col in bans_columns[20:30]:\n",
    "    print(\"~~~~~~~~~\"+col)\n",
    "    print(bans[col].unique())"
   ]
  },
  {
   "cell_type": "code",
   "execution_count": 8,
   "metadata": {
    "tags": []
   },
   "outputs": [
    {
     "output_type": "stream",
     "name": "stdout",
     "text": [
      "~~~~~~~~~Date_Signed\n",
      "[nan '2020-03-19' '2020-03-20' '2020-04-28' '2020-11-05' '2020-12-09'\n",
      " '2020-03-17' '2020-03-23' '2020-04-21' '2020-04-24' '2020-05-19'\n",
      " '2020-06-29' '2020-07-23' '2020-12-02' '2020-03-26' '2020-04-04'\n",
      " '2020-05-04' '2020-05-18' '2020-06-15' '2020-11-03' '2020-03-16'\n",
      " '2020-09-12' '2020-10-09' '2020-11-13' '2020-11-17' '2020-11-24'\n",
      " '2020-11-28' '2020-12-01' '2020-12-08' '2020-12-15' '2020-12-16'\n",
      " '2020-12-10' '2020-12-05' '2020-12-22' '2020-12-29' '2020-03-18'\n",
      " '2020-03-27' '2020-04-01' '2020-04-09' '2020-04-26' '2020-05-08'\n",
      " '2020-05-14' '2020-05-26' '2020-06-05' '2020-06-18' '2020-06-30'\n",
      " '2020-07-30' '2020-08-21' '2020-09-20' '2020-09-22' '2020-09-28'\n",
      " '2020-09-29' '2020-10-02' '2020-10-05' '2020-10-08' '2020-10-17'\n",
      " '2020-10-24' '2020-10-29' '2020-10-31' '2020-11-02' '2020-11-07'\n",
      " '2020-11-11' '2020-11-18' '2020-11-20' '2020-11-23' '2020-11-25'\n",
      " '2020-12-03' '2020-12-07' '2020-09-08' '2020-09-15' '2020-03-12'\n",
      " '2020-04-10' '2020-05-29' '2020-06-16' '2020-06-17' '2020-07-03'\n",
      " '2020-11-06' '2020-05-31' '2020-06-14' '2020-06-19' '2020-07-24'\n",
      " '2020-08-26' '2020-09-01' '2020-09-03' '2020-09-25' '2020-03-24'\n",
      " '2020-04-15' '2020-05-13' '2020-05-27' '2020-07-22' '2020-10-07'\n",
      " '2020-03-25' '2020-04-29' '2020-05-09' '2020-06-03' '2020-06-20'\n",
      " '2020-07-07' '2020-07-20' '2020-08-05' '2020-04-02' '2020-04-08'\n",
      " '2020-04-20' '2020-04-23' '2020-05-12' '2020-05-28' '2020-06-11'\n",
      " '2020-07-15' '2020-07-31' '2020-08-15' '2020-08-31' '2020-09-30'\n",
      " '2020-10-15' '2020-10-30' '2020-11-30' '2020-04-25' '2020-05-05'\n",
      " '2020-06-10' '2020-06-26' '2020-10-18' '2020-12-17' '2020-08-03'\n",
      " '2020-08-06' '2020-08-19' '2020-08-25' '2020-09-23' '2020-10-20'\n",
      " '2020-07-17' '2020-08-20' '2020-05-03' '2020-08-11' '2020-10-23'\n",
      " '2020-04-27' '2020-05-07' '2020-06-09' '2020-07-08' '2020-08-07'\n",
      " '2020-08-28' '2020-10-01' '2020-10-14' '2020-10-26' '2020-11-10'\n",
      " '2020-12-24' '2020-04-30' '2020-12-30' '2020-03-13' '2020-09-18'\n",
      " '2020-10-16' '2020-12-11' '2020-10-21' '2020-08-18' '2020-09-02'\n",
      " '2020-10-27' '2020-04-06' '2020-05-01' '2020-05-21' '2020-07-01'\n",
      " '2020-07-16' '2020-09-24' '2020-12-06' '2020-12-14' '2020-12-21'\n",
      " '2020-12-28' '2020-06-25' '2020-11-16' '2020-04-16' '2020-04-07'\n",
      " '2020-04-17' '2020-05-20' '2020-03-22' '2020-07-11' '2020-09-11'\n",
      " '2020-03-31' '2020-08-01' '2020-10-06' '2020-11-04' '2020-03-30'\n",
      " '2020-05-06' '2020-03-15' '2020-05-15' '2020-06-06' '2020-07-02'\n",
      " '2020-05-22' '2020-06-01' '2020-07-29' '2020-11-15' '2020-12-18'\n",
      " '2020-07-19' '2020-08-14' '2020-09-13' '2020-10-19' '2020-07-10'\n",
      " '2020-03-21' '2020-04-03' '2020-04-22' '2020-05-11' '2020-07-28'\n",
      " '2020-08-10' '2020-11-09' '2020-03-29' '2020-12-13' '2020-11-14'\n",
      " '2020-06-22' '2020-04-11' '2020-06-12' '2020-07-13' '2020-10-22'\n",
      " '2020-06-13' '2020-06-23' '2020-06-24' '2020-07-06' '2020-07-09'\n",
      " '2020-07-21' '2020-10-28' '2020-11-19' '2020-03-14' '2020-09-04'\n",
      " '2020-04-13' '2020-05-30' '2020-05-23' '2020-06-08' '2020-07-14'\n",
      " '2020-08-13' '2020-08-17' '2020-09-19' '2020-03-28' '2020-06-04'\n",
      " '2020-08-02' '2020-09-09' '2020-11-08' '2020-12-23' '2020-08-29'\n",
      " '2020-12-20' '2020-09-17' '2020-07-27' '2020-08-08' '2020-11-12'\n",
      " '2020-06-02' '2020-09-10' '2020-10-13' '2020-03-11' '2020-09-26'\n",
      " '2020-10-03' '2020-10-10' '2020-11-21' '2020-11-27' '2020-11-29'\n",
      " '2020-12-12' '2020-12-19' '2020-12-27' '2020-08-12' '2020-11-01'\n",
      " '2020-04-05' '2020-08-27' '2020-05-25' '2020-09-07' '2020-04-12']\n",
      "~~~~~~~~~Express_Preemption\n",
      "[nan 'Expressly Preempts w/ Process for Approval' 'Expressly Preempts'\n",
      " 'Expressly Preempts Less Restrictive Measures' 'Unknown'\n",
      " 'Expressly Does Not Preempt' 'Expressly Does Not Preempt Generally']\n",
      "~~~~~~~~~origin_dataset\n",
      "[nan 'state.terr']\n",
      "~~~~~~~~~Indoor_Outdoor\n",
      "[nan 'Outdoor only' 'Indoor only' 'Indoor/Outdoor' 'indoor only' 'Outdoor'\n",
      " 'Indoor']\n",
      "~~~~~~~~~Source_of_Action\n",
      "[nan 'Official' 'News' 'Offcial' 'Official�' 'Oficial' '�' 'Press Release'\n",
      " 'official' 'Official Announcement' 'News Media']\n"
     ]
    }
   ],
   "source": [
    "for col in bans_columns[30:35]:\n",
    "    print(\"~~~~~~~~~\"+col)\n",
    "    print(bans[col].unique())"
   ]
  },
  {
   "cell_type": "code",
   "execution_count": 9,
   "metadata": {
    "tags": []
   },
   "outputs": [
    {
     "output_type": "stream",
     "name": "stdout",
     "text": [
      "~~~~~~~~~URL\n[nan\n 'http://www.alabamapublichealth.gov/legal/assets/order-adph-cov-gatherings-042820.pdf'\n 'https://covid19.alaska.gov/health-mandates/'\n 'https://gov.alaska.gov/wp-content/uploads/sites/2/0425-COVID-MANDATE-016-Attachment-N-Social-Religious-and-Other-Gatherings.pdf'\n 'https://www.cdph.ca.gov/Programs/CID/DCDC/Pages/COVID-19/CDPH-Guidance-for-the-Prevention-of-COVID-19-Transmission-for-Gatherings.aspx'\n 'https://www.cdph.ca.gov/Programs/CID/DCDC/Pages/COVID-19/Guidance-for-the-Prevention-of-COVID-19-Transmission-for-Gatherings.aspx'\n 'https://www.cdph.ca.gov/Programs/CID/DCDC/Pages/COVID-19/CDPH-Guidance-for-the-Prevention-of-COVID-19-Transmission-for-Gatherings-10-09.aspx'\n 'https://www.cdph.ca.gov/Programs/CID/DCDC/Pages/COVID-19/Guidance-for-the-Prevention-of-COVID-19-Transmission-for-Gatherings-November-2020.aspx'\n 'https://drive.google.com/file/d/1Xk3SFUeVh2MazofYnWDEBhncXPS1IOez/view'\n 'https://drive.google.com/file/d/1l13eSver8iS1fE149gmKHCLoHPgutNvO/view'\n 'https://portal.ct.gov/-/media/Office-of-the-Governor/Executive-Orders/Lamont-Executive-Orders/Executive-Order-No-7X.pdf'\n 'https://governor.delaware.gov/health-soe/twenty-third-state-of-emergency/'\n 'https://governor.delaware.gov/health-soe/twenty-fourth-state-of-emergency/'\n 'https://governor.delaware.gov/health-soe/twenty-fifth-state-of-emergency/'\n 'https://governor.delaware.gov/health-soe/twenty-sixth-state-of-emergency/'\n 'https://governor.delaware.gov/health-soe/twenty-seventh-modification-state-of-emergency-declaration/'\n 'https://s33330.pcdn.co/wp-content/uploads/2020/03/fdoh-public-health-advisory-for-covid-19-as-a-result-of-executive-order-20-83.pdf'\n 'https://www.flgov.com/wp-content/uploads/2020/04/EO-20-112.pdf'\n 'https://www.flgov.com/wp-content/uploads/orders/2020/EO_20-166.pdf'\n 'https://gov.georgia.gov/document/2020-executive-order/03232001/download'\n 'https://gov.georgia.gov/document/2020-executive-order/04022001/download'\n 'https://gov.georgia.gov/document/2020-executive-order/04082002/download'\n 'https://gov.georgia.gov/document/2020-executive-order/04202001/download'\n 'https://gov.georgia.gov/document/2020-executive-order/04232002/download'\n 'https://gov.georgia.gov/document/2020-executive-order/08152001/download'\n 'https://gov.georgia.gov/document/2020-executive-order/08312002/download'\n 'https://gov.georgia.gov/document/2020-executive-order/09152001/download'\n 'https://governor.hawaii.gov/wp-content/uploads/2020/03/2003162-ATG_Third-Supplementary-Proclamation-for-COVID-19-signed.pdf'\n 'https://governor.hawaii.gov/wp-content/uploads/2020/04/2004144-ATG_Sixth-Supplementary-Proclamation-for-COVID-19-distribution-signed.pdf'\n 'https://governor.hawaii.gov/wp-content/uploads/2020/05/2005024-ATG_Seventh-Supplementary-Proclamation-for-COVID-19-distribution-signed-1.pdf'\n 'https://governor.hawaii.gov/wp-content/uploads/2020/05/2005088-ATG_Eighth-Supplementary-Proclamation-for-COVID-19-distribution-signed.pdf'\n 'https://governor.hawaii.gov/wp-content/uploads/2020/06/2006097A-ATG_Ninth-Supplementary-Proclamation-COVID-19-distribution-signed.pdf'\n 'https://governor.hawaii.gov/wp-content/uploads/2020/07/2007090-ATG_Tenth-Supplementary-Proclamation-for-COVID-19-distribution-signed.pdf'\n 'https://governor.hawaii.gov/wp-content/uploads/2020/08/2008089-ATG_Twelfth-Proclamation-COVID-19-distribution-signed.pdf'\n 'https://governor.hawaii.gov/wp-content/uploads/2020/09/2009139-ATG_Thirteenth-Supplementary-Proclamation-for-COVID-19-distribution-signed.pdf'\n 'https://web.archive.org/web/20200326152720/https:/coronavirus.idaho.gov/wp-content/uploads/sites/127/2020/03/statewide-stay-home-order_032520.pdf'\n 'https://coronavirus.idaho.gov/wp-content/uploads/sites/127/2020/04/amended-statewide-stay-home-order_041520.pdf'\n 'https://coronavirus.idaho.gov/wp-content/uploads/2020/10/stay-healthy-order-stage3_2020oct27.pdf'\n 'https://coronavirus.idaho.gov/wp-content/uploads/2020/11/stage-2-modified-order.pdf'\n 'https://www2.illinois.gov/Pages/Executive-Orders/ExecutiveOrder2020-04.aspx'\n 'https://www2.illinois.gov/Pages/Executive-Orders/ExecutiveOrder2020-07.aspx'\n 'https://www2.illinois.gov/Documents/ExecOrders/2020/ExecutiveOrder-2020-10.pdf'\n 'https://www2.illinois.gov/Pages/Executive-Orders/ExecutiveOrder2020-18.aspx'\n 'https://www2.illinois.gov/Documents/ExecOrders/2020/ExecutiveOrder-2020-32.pdf'\n 'https://www2.illinois.gov/Pages/Executive-Orders/ExecutiveOrder2020-55.aspx'\n 'https://www2.illinois.gov/Pages/Executive-Orders/ExecutiveOrder2020-58.aspx'\n 'https://www2.illinois.gov/Pages/Executive-Orders/ExecutiveOrder2020-59.aspx'\n 'https://www2.illinois.gov/Pages/Executive-Orders/ExecutiveOrder2020-66.aspx'\n 'https://www2.illinois.gov/Pages/Executive-Orders/ExecutiveOrder2020-60.aspx'\n 'https://www2.illinois.gov/Pages/Executive-Orders/ExecutiveOrder2020-63.aspx'\n 'https://www2.illinois.gov/Pages/Executive-Orders/ExecutiveOrder2020-56.aspx'\n 'https://www2.illinois.gov/Pages/Executive-Orders/ExecutiveOrder2020-62.aspx'\n 'https://www2.illinois.gov/Pages/Executive-Orders/ExecutiveOrder2020-69.aspx'\n 'https://www2.illinois.gov/Pages/Executive-Orders/ExecutiveOrder2020-67.aspx'\n 'https://www2.illinois.gov/Pages/Executive-Orders/ExecutiveOrder2020-61.aspx'\n 'https://www2.illinois.gov/Pages/Executive-Orders/ExecutiveOrder2020-65.aspx'\n 'https://www.in.gov/gov/files/Executive_Order_20-08_Stay_at_Home.pdf'\n 'https://www.in.gov/gov/files/Executive Order 20-18 Cont Stay at Home Restaurants Govt Ops.pdf'\n 'https://www.in.gov/gov/files/Executive Order 20-22 Extension of Stay at Home.pdf'\n 'https://www.in.gov/gov/files/Executive%20Order%2020-26%20Roadmap%20to%20Reopen.pdf'\n 'https://www.in.gov/gov/files/Executive-Order-20-43-Stage-5-The-New-Normal-w-Mask-Mandate.pdf'\n 'https://www.in.gov/gov/files/Executive-Order-20-46-Stage-5-Continued.pdf'\n 'https://governor.iowa.gov/sites/default/files/documents/Public%20Health%20Proclamation%20-%202020.10.16.pdf'\n 'https://governor.iowa.gov/sites/default/files/documents/Public%20Health%20Proclamation%20-%202020.11.10.pdf'\n 'https://governor.iowa.gov/sites/default/files/documents/Public%20Health%20Proclamation%20-%202020.11.16.pdf'\n 'https://governor.iowa.gov/sites/default/files/documents/Public%20Health%20Proclamation%20-%202020.11.18.pdf'\n 'https://governor.iowa.gov/sites/default/files/documents/Public%20Health%20Proclamation%20-%202020.12.09.pdf'\n 'https://governor.iowa.gov/sites/default/files/documents/Public%20Health%20Proclamation%20-%202020.12.16.pdf'\n 'https://governor.kansas.gov/wp-content/uploads/2020/04/EO-20-25-Executed.pdf'\n 'https://governor.kansas.gov/wp-content/uploads/2020/04/EO-20-28-Reissuing-and-Extending-Certain-EOs.pdf'\n 'https://governor.kansas.gov/wp-content/uploads/2020/04/EO-20-29-Implementing-Phase-One-of-Ad-Astra-Plan.pdf'\n 'https://governor.ky.gov/attachments/20200319_Order_Mass-Gatherings.pdf'\n 'https://gov.louisiana.gov/assets/Proclamations/2020/JBE-33-2020.pdf'\n 'https://gov.louisiana.gov/assets/Proclamations/2020/41-JBE-2020-Stay-At-Home-Extended.pdf'\n 'https://gov.louisiana.gov/assets/Proclamations/2020/52-JBE-2020-Stay-at-Home-Order.pdf'\n 'https://gov.louisiana.gov/assets/Proclamations/2020/58-JBE-2020.pdf'\n 'https://gov.louisiana.gov/assets/Proclamations/2020/83-JBE-2020-State-of-Emergency-COVID-19-Resilient-Louisiana-Phase-2.pdf'\n 'https://www.maine.gov/governor/mills/sites/maine.gov.governor.mills/files/inline-files/EO%2014%20An%20Order%20to%20Protect%20Public%20Health.pdf'\n 'https://www.maine.gov/governor/mills/sites/maine.gov.governor.mills/files/inline-files/An%20Order%20Regarding%20Essential%20Businesses%20and%20Operations%20_0.pdf'\n 'https://www.maine.gov/governor/mills/sites/maine.gov.governor.mills/files/inline-files/CORRECTED_An Order Regarding Further Restrictions on Public Contact and Movement%2C Schools%2C Vehicle Travel and Retail Business Operations.pdf'\n 'https://www.maine.gov/governor/mills/sites/maine.gov.governor.mills/files/inline-files/EO%2019%20A_An%20Order%20Extending%20EO%2019.pdf'\n 'https://www.maine.gov/governor/mills/sites/maine.gov.governor.mills/files/inline-files/EO%2028-A.pdf'\n 'https://www.maine.gov/governor/mills/sites/maine.gov.governor.mills/files/inline-files/An%20Order%20to%20Stay%20Safer%20at%20Home.pdf'\n 'https://www.maine.gov/governor/mills/sites/maine.gov.governor.mills/files/inline-files/An%20Order%20to%20Revise%20Indoor%20Gathering%20Limits%2C%20Strengthen%20Face%20Covering%20Requirements%20and%20Delegate%20Certain%20Authority.pdf'\n 'https://governor.maryland.gov/wp-content/uploads/2020/03/Prohibiting-Large-Gatherings.pdf'\n 'https://governor.maryland.gov/wp-content/uploads/2020/03/Executive-Order-Amending-Large-Gatherings.pdf'\n 'https://governor.maryland.gov/wp-content/uploads/2020/03/Amending-Gatherings.pdf'\n 'https://governor.maryland.gov/wp-content/uploads/2020/03/Gatherings-THIRD-AMENDED-3.23.20.pdf'\n 'https://governor.maryland.gov/wp-content/uploads/2020/03/Gatherings-FOURTH-AMENDED-3.30.20.pdf'\n 'https://governor.maryland.gov/wp-content/uploads/2020/05/Gatherings-FIFTH-AMENDED-5.6.20.pdf'\n 'https://governor.maryland.gov/wp-content/uploads/2020/05/Gatherings-SIXTH-AMENDED-5.13.20.pdf'\n 'https://www.mass.gov/doc/guidance-regarding-the-order-by-the-governor-prohibiting-assemblages-of-more-than-250-people/download'\n 'https://www.mass.gov/doc/march-23-2020-essential-services-and-revised-gatherings-order/download'\n 'https://www.mass.gov/doc/signed-second-extension-of-essential-services-order/download'\n 'https://www.mass.gov/doc/governors-covid-19-order-52/download'\n 'https://www.mass.gov/doc/covid-19-order-54/download'\n 'https://www.michigan.gov/whitmer/0,9309,7-387-90499_90705-522626--,00.html'\n 'https://www.legislature.mi.gov/documents/2019-2020/executiveorder/pdf/2020-EO-42.pdf'\n 'https://legislature.mi.gov/documents/2019-2020/executiveorder/pdf/2020-EO-59.pdf'\n 'https://www.legislature.mi.gov/documents/2019-2020/executiveorder/pdf/2020-EO-70.pdf'\n 'https://www.sos.ms.gov/Education-Publications/ExecutiveOrders/1466.pdf'\n 'https://www.sos.ms.gov/content/executiveorders/ExecutiveOrders/1473.pdf'\n 'https://www.sos.ms.gov/content/executiveorders/ExecutiveOrders/1477.pdf'\n 'https://www.sos.ms.gov/content/executiveorders/ExecutiveOrders/1525.pdf'\n 'https://www.sos.ms.gov/content/executiveorders/ExecutiveOrders/1532.pdf'\n 'https://www.sos.ms.gov/content/executiveorders/ExecutiveOrders/1483.pdf'\n 'https://www.sos.ms.gov/content/executiveorders/ExecutiveOrders/1528.pdf'\n 'https://www.sos.ms.gov/content/executiveorders/ExecutiveOrders/1530.pdf'\n 'https://www.sos.ms.gov/content/executiveorders/ExecutiveOrders/1531.pdf'\n 'https://www.sos.ms.gov/content/executiveorders/ExecutiveOrders/1527.pdf'\n 'https://governor.mo.gov/priorities/stay-home-order'\n 'https://health.mo.gov/living/healthcondiseases/communicable/novel-coronavirus/pdf/stay-at-home-order-extended.pdf'\n 'https://covid19.mt.gov/Portals/223/Documents/Stay at Home Directive.pdf?ver=2020-03-26-173332-177'\n 'http://governor.mt.gov/Portals/16/Extension of Directives.pdf?ver=2020-04-07-172755-170'\n 'https://www.dropbox.com/s/k5n7bns767cydna/DHM%203.31.2020.pdf?dl=0'\n 'https://www.dropbox.com/s/253ohztp9w96hzl/DHM%204.01.2020.pdf?dl=0'\n 'https://www.dropbox.com/s/tau4u6180lu0kna/DHM%204.3.2020.pdf?dl=0'\n 'http://dhhs.ne.gov/Documents/2020.05.11-DHM-2020-SHHD-002.pdf'\n 'http://dhhs.ne.gov/Documents/2020.04.30-DHM-NCHD-001.pdf'\n 'http://dhhs.ne.gov/Documents/2020.04.30-DHM-WCHD-002.pdf'\n 'https://www.dropbox.com/s/bsro5om6vs0rmtz/DHM%203.30.2020.pdf?dl=0'\n 'http://dhhs.ne.gov/Documents/2020.04.30-DHM-PPHD-001.pdf'\n 'http://dhhs.ne.gov/Documents/2020.04.30-DHM-LBHD-001.pdf'\n 'http://dhhs.ne.gov/Documents/2020.04.30-DHM-ECHD-001.pdf'\n 'http://dhhs.ne.gov/Documents/2020.05.11-DHM-2020-2RHD-002.pdf'\n 'https://www.dropbox.com/s/ryyx9aas2sxgcjq/DHM%203.29.2020.pdf?dl=0'\n 'http://dhhs.ne.gov/Documents/2020.05.11-DHM-2020-ELHD-002.pdf'\n 'https://www.dropbox.com/s/qaasj30cvqp9mun/DHM%203.28.2020.pdf?dl=0'\n 'http://dhhs.ne.gov/Documents/2020.04.30-DHM-FCHD-001.pdf'\n 'http://dhhs.ne.gov/Documents/COVID-19-StateDirectedHealthMeasures.pdf'\n 'https://www.dropbox.com/s/ade9iruczk87wxk/DHM%203.25.2020.pdf?dl=0'\n 'http://dhhs.ne.gov/Documents/2020.04.30-DHM-SCHD-001.pdf'\n 'http://dhhs.ne.gov/Documents/2020.04.30-DHM-NEHD-001.pdf'\n 'http://dhhs.ne.gov/Documents/2020.04.30-DHM-SWHD-001.pdf'\n 'http://dhhs.ne.gov/Documents/2020.04.30-DHM-DKHD-001.pdf'\n 'http://dhhs.ne.gov/Documents/2020.04.30-DHM-3RHD-002.pdf'\n 'http://dhhs.ne.gov/Documents/2020.04.30-DHM-DCHD-001.pdf'\n 'http://dhhs.ne.gov/Documents/2020.05.11-DHM-2020-PHHD-002.pdf'\n 'http://dhhs.ne.gov/Documents/2020.04.30-DHM-CCHD-001.pdf'\n 'http://dhhs.ne.gov/Documents/2020.04.30-DHM-SEHD-001.pdf'\n 'http://dhhs.ne.gov/Documents/2020.04.30-DHM-LLHD-002.pdf'\n 'http://gov.nv.gov/News/Emergency_Orders/2020/2020-03-31_-_COVID-19_Declaration_of_Emergency_Directive_010_-_Stay_at_Home_Order/'\n 'https://nvhealthresponse.nv.gov/wp-content/uploads/2020/04/Declaration-of-Emergency-Directive-016.4-29-20-1.pdf'\n 'https://www.governor.nh.gov/news-media/emergency-orders/documents/emergency-order-16.pdf'\n 'https://www.governor.nh.gov/sites/g/files/ehbemt336/files/documents/emergency-order-40.pdf'\n 'https://www.governor.nh.gov/sites/g/files/ehbemt336/files/files/inline-documents/emergency-order-52.pdf'\n 'https://www.governor.nh.gov/sites/g/files/ehbemt336/files/2020-07/emergency-order-61.pdf'\n 'https://www.governor.nh.gov/sites/g/files/ehbemt336/files/documents/emergency-order-66.pdf'\n 'https://www.governor.nh.gov/sites/g/files/ehbemt336/files/documents/emergency-order-70.pdf'\n 'https://www.governor.nh.gov/sites/g/files/ehbemt336/files/documents/emergency-order-72.pdf'\n 'https://nj.gov/infobank/eo/056murphy/pdf/EO-107.pdf'\n 'https://nj.gov/governor/news/ao/docs/AO%202020-4%20Gatherings.pdf'\n 'https://nj.gov/infobank/eo/056murphy/pdf/EO-196.pdf'\n 'https://cv.nmhealth.org/wp-content/uploads/2020/03/031620-DOH-PHO-r.pdf'\n 'https://cv.nmhealth.org/wp-content/uploads/2020/03/UPDATED-DOH-PHO-03-19-2020-r.pdf'\n 'https://www.governor.state.nm.us/wp-content/uploads/2020/03/COVID-19-DOH-Order-fv.pdf'\n 'https://cv.nmhealth.org/wp-content/uploads/2020/04/04_11_20_PHO_Amended.pdf'\n 'https://cv.nmhealth.org/wp-content/uploads/2020/05/04.30.20-mass-gathering-and-essential-business-PHO.pdf'\n 'https://cv.nmhealth.org/wp-content/uploads/2020/05/GovernorsOffice@state.nm_.us_20200505_150440.pdf'\n 'https://www.governor.ny.gov/news/no-2021-continuing-temporary-suspension-and-modification-laws-relating-disaster-emergency'\n 'https://www.governor.ny.gov/news/no-2023-continuing-temporary-suspension-and-modification-laws-relating-disaster-emergency'\n 'https://www.governor.ny.gov/news/no-20210-continuing-temporary-suspension-and-modification-laws-relating-disaster-emergency'\n 'https://www.governor.ny.gov/news/no-20214-continuing-temporary-suspension-and-modification-laws-relating-disaster-emergency'\n 'https://www.governor.ny.gov/news/no-20218-continuing-temporary-suspension-and-modification-laws-relating-disaster-emergency'\n 'https://www.governor.ny.gov/news/no-20257-continuing-temporary-suspension-and-modification-laws-relating-disaster-emergency'\n 'https://www.governor.ny.gov/news/no-20264-continuing-temporary-suspension-and-modification-laws-relating-disaster-emergency'\n 'https://files.nc.gov/governor/documents/files/EO117-COVID-19-Prohibiting-Mass-Gathering-and-K12-School-Closure.pdf'\n 'https://files.nc.gov/governor/documents/files/EO121-Stay-at-Home-Order-3.pdf'\n 'https://files.nc.gov/governor/documents/files/EO135-Extensions.pdf'\n 'https://files.nc.gov/governor/documents/files/EO138-Phase-1.pdf'\n 'https://files.nc.gov/governor/documents/files/EO163-Phase-2.5-Tech-Corrections_0.pdf'\n 'https://files.nc.gov/governor/documents/files/EO169-Phase-3.pdf'\n 'https://files.nc.gov/governor/documents/files/EO170-Phase-3-Extension.pdf'\n 'https://files.nc.gov/governor/documents/files/EO176-Phase-3-ext.pdf'\n 'https://coronavirus.ohio.gov/wps/portal/gov/covid-19/resources/public-health-orders/order-to-limit-prohibit-mass-gatherings-ohio-amended'\n 'https://content.govdelivery.com/attachments/OHOOD/2020/03/22/file_attachments/1407840/Stay Home Order.pdf'\n 'https://coronavirus.ohio.gov/static/publicorders/Directors-Stay-At-Home-Order-Amended-04-02-20.pdf'\n 'https://coronavirus.ohio.gov/static/publicorders/Directors-Stay-Safe-Ohio-Order.pdf'\n 'https://www.sos.ok.gov/documents/executive/1919.pdf'\n 'https://www.sos.ok.gov/documents/executive/1923.pdf'\n 'https://www.sos.ok.gov/documents/executive/1924.pdf'\n 'https://www.sos.ok.gov/documents/executive/1926.pdf'\n 'https://www.sos.ok.gov/documents/executive/1928.pdf'\n 'https://www.sos.ok.gov/documents/executive/1929.pdf'\n 'https://www.sos.ok.gov/documents/executive/1930.pdf'\n 'https://www.sos.ok.gov/documents/executive/1931.pdf'\n 'https://www.sos.ok.gov/documents/executive/1935.pdf'\n 'https://www.sos.ok.gov/documents/executive/1962.pdf'\n 'https://www.sos.ok.gov/documents/executive/1967.pdf'\n 'https://www.sos.ok.gov/documents/executive/1971.pdf'\n 'https://www.oregon.gov/gov/Documents/executive_orders/eo_20-07.pdf'\n 'https://govsite-assets.s3.amazonaws.com/jkAULYKcSh6DoDF8wBM0_EO%2020-12.pdf'\n 'https://www.oregon.gov/gov/Documents/executive_orders/eo_20-25.pdf'\n 'https://web.archive.org/web/20200519185541/https://govstatus.egov.com/reopening-oregon'\n 'https://web.archive.org/web/20200524040233/https://govstatus.egov.com/reopening-oregon'\n 'https://web.archive.org/web/20200529172440/https://govstatus.egov.com/reopening-oregon'\n 'https://web.archive.org/web/20200817123917/https://govstatus.egov.com/reopening-oregon'\n 'https://web.archive.org/web/20200731200822/https://govstatus.egov.com/reopening-oregon'\n 'https://www.governor.pa.gov/wp-content/uploads/2020/04/20200401-GOV-Statewide-Stay-at-Home-Order.pdf'\n 'https://www.governor.pa.gov/wp-content/uploads/2020/04/20200420-GOV-Stay-at-Home-Order-Amendment.pdf'\n 'https://www.governor.pa.gov/wp-content/uploads/2020/05/20200507-TWW-Stay-at-Home-Order-Amendment.pdf'\n 'https://www.governor.pa.gov/wp-content/uploads/2020/03/03.23.20-SOH-Stay-at-Home-Order.pdf'\n 'https://www.governor.pa.gov/wp-content/uploads/2020/03/2020.3.24-TWW-amendment-to-March-23-2020-COVID-19-stay-at-home-order.pdf'\n 'https://www.governor.pa.gov/wp-content/uploads/2020/03/2020.3.25-TWW-Lehigh-Northampton-amendment-to-COVID-19-stay-at-home-order.pdf'\n 'https://www.governor.pa.gov/wp-content/uploads/2020/03/20200327-GOV-Stay-at-Home-Order-Amended.pdf'\n 'https://www.governor.pa.gov/wp-content/uploads/2020/03/20200328-GOV-Stay-at-Home-Order-Amendment.pdf'\n 'https://www.governor.pa.gov/wp-content/uploads/2020/03/20200330-GOV-Stay-at-Home-Order-Amendment.pdf'\n 'https://www.governor.pa.gov/wp-content/uploads/2020/03/20200331-GOV-Stay-at-Home-Order-Amendment.pdf'\n 'https://www.governor.pa.gov/wp-content/uploads/2020/05/20200507-TWW-Yellow-Phase-Order.pdf'\n 'https://governor.ri.gov/documents/orders/Executive-Order-20-09.pdf  \\n\\n\\n\\nhttps://governor.ri.gov/documents/orders/Executive-Order-20-09.pdf  \\n\\n\\n\\n\\n\\n\\n\\nhttps://governor.ri.gov/documents/orders/Executive-Order-20-09.pdf'\n 'https://governor.ri.gov/documents/orders/Executive-Order-20-14.pdf'\n 'https://governor.ri.gov/documents/orders/Executive-Order-20-23.pdf'\n 'https://governor.ri.gov/documents/orders/Executive-Order-20-79.pdf'\n 'https://governor.ri.gov/documents/orders/Executive-Order-20-88.pdf'\n 'https://governor.ri.gov/documents/orders/Executive-Order-20-90.pdf'\n 'https://governor.ri.gov/documents/orders/Executive-Order-20-95.pdf'\n 'https://governor.ri.gov/documents/orders/Executive-Order-20-98.pdf'\n 'https://governor.ri.gov/documents/orders/Executive-Order-20-100.pdf'\n 'https://governor.ri.gov/documents/orders/Executive-Order-20-105.pdf'\n 'https://governor.ri.gov/documents/orders/Executive-Order-20-108.pdf'\n 'https://governor.sc.gov/sites/default/files/Documents/Executive-Orders/2020-09-24%20FILED%20Executive%20Order%20No.%202020-62%20-%20State%20of%20Emergency.pdf'\n 'https://governor.sc.gov/sites/default/files/Documents/Executive-Orders/2020-10-02%20FINAL%20Executive%20Order%20No.%202020-63%20-%20Amending%20%26%20Consolidating%20Emergency%20Measures.pdf'\n 'https://governor.sc.gov/sites/default/files/Documents/Executive-Orders/2020-10-09%20FILED%20Executive%20Order%20No.%202020-65%20-%20State%20of%20Emergency.pdf'\n 'https://governor.sc.gov/sites/default/files/Documents/Executive-Orders/2020-10-24%20FILED%20Executive%20Order%20No.%202020-67%20-%20State%20of%20Emergency.pdf'\n 'https://governor.sc.gov/sites/default/files/Documents/Executive-Orders/2020-11-08%20FILED%20Executive%20Order%20No.%202020-70%20-%20State%20of%20Emergency.pdf'\n 'https://publications.tnsosfiles.com/pub/execorders/exec-orders-lee17.pdf'\n 'https://publications.tnsosfiles.com/pub/execorders/exec-orders-lee21.pdf'\n 'https://publications.tnsosfiles.com/pub/execorders/exec-orders-lee27.pdf'\n 'https://publications.tnsosfiles.com/pub/execorders/exec-orders-lee30.pdf'\n 'https://publications.tnsosfiles.com/pub/execorders/exec-orders-lee38.pdf'\n 'https://publications.tnsosfiles.com/pub/execorders/exec-orders-lee63.pdf'\n 'https://publications.tnsosfiles.com/pub/execorders/exec-orders-lee67.pdf'\n 'https://open.texas.gov/uploads/files/organization/opentexas/DISASTER-proclamation-amending-GA-28-mass-gatherings-IMAGE-07-02-2020.pdf'\n 'https://gov.texas.gov/uploads/files/press/EO-GA-32_continued_response_to_COVID-19_IMAGE_10-07-2020.pdf'\n 'https://coronavirus.utah.gov/wp-content/uploads/Restaurant-Pub-Hlth-Order-1.pdf'\n 'https://rules.utah.gov/wp-content/uploads/Governors_Coronavirus_Directive_for_Utah.pdf'\n 'https://coronavirus-download.utah.gov/Governor/Stay%20Safe%20Stay%20Home.20.04.17.pdf'\n 'https://governor.vermont.gov/sites/scott/files/documents/ADDENDUM 9 TO EXECUTIVE ORDER 01-20.pdf'\n 'https://governor.vermont.gov/sites/scott/files/documents/ADDENDUM%2013%20TO%20EXECUTIVE%20ORDER%2001-20.pdf'\n 'https://governor.vermont.gov/sites/scott/files/documents/ADDENDUM%208%20TO%20AMENDED%20AND%20RESTATED%20EXECUTIVE%20ORDER%2001-20.pdf'\n 'https://www.governor.virginia.gov/media/governorvirginiagov/executive-actions/EO-61-and-Order-Of-Public-Health-Emergency-Three-AMENDED---Phase-One-Easing-Of-Certain-Temporary-Restrictions-Due-To-Novel-Coronavirus-(COVID-19).pdf'\n 'https://www.governor.virginia.gov/media/governorvirginiagov/executive-actions/EO-53-SECOND-AMENDED-Extension-of-Temporary-Restrictions-Due-To-Novel-Coronavirus-(COVID-19).pdf'\n 'https://www.governor.virginia.gov/media/governorvirginiagov/governor-of-virginia/pdf/eo/Amended-EO-67--Order-of-Public-Health-Emergency-Seven.pdf'\n 'https://www.governor.virginia.gov/media/governorvirginiagov/executive-actions/EO-67-SECOND-AMENDED-and-Order-of-Public-Health-Emergency-Seven---Phase-Three-Easing-of-Certain-Temporary-Restrictions-Due-to-Novel-Coronavirus-(COVID-19).pdf'\n 'https://www.governor.virginia.gov/media/governorvirginiagov/executive-actions/EO-67-THIRD-AMENDED-and-Order-of-Public-Health-Emergency-Seven---Phase-Three-Easing-of-Certain-Temporary-Restrictions-Due-to-Novel-Coronavirus-(COVID-19).pdf'\n 'https://www.governor.virginia.gov/media/governorvirginiagov/executive-actions/EO-67-SIXTH-AMENDED-and-Order-of-Public-Health-Emergency-Seven---Phase-Three-Further-Adjusting-of-Certain-Temporary-Restrictions-Due-to-Novel-Coronavirus-(COVID-19).pdf'\n 'https://assets.documentcloud.org/documents/6817957/20-25-Coronovirus-Stay-Safe-Stay-Healthy.pdf'\n 'https://www.governor.wa.gov/sites/default/files/20-25.1 - COVID-19 - Stay Home%2C Stay Healthy Extension %28tmp%29.pdf?utm_medium=email&utm_source=govdelivery'\n 'https://www.governor.wa.gov/sites/default/files/proclamations/20-25.2%20Coronovirus%20Stay%20Home%20Amend%20%28tmp%29%20%28with%20links%29.pdf'\n 'https://www.governor.wa.gov/sites/default/files/20-25.3%20-%20COVID-19%20Stay%20Home%20Stay%20Healthy%20-%20Reopening%20%28tmp%29.pdf?utm_medium=email&utm_source=govdelivery'\n 'https://coronavirus.wa.gov/news/benton-franklin-and-yakima-counties-approved-move-modified-phase-1'\n 'https://coronavirus.wa.gov/news/safe-start-applications-returned-seven-counties'\n 'https://www.nwpb.org/2020/10/13/governor-moves-remaining-central-washington-counties-into-phase-2-of-reopening/'\n 'https://coronavirus-wvgovstatus-cdn.azureedge.net/STAY_AT_HOME_ORDER.pdf'\n 'https://apps.sos.wv.gov/adlaw/executivejournal/readpdf.aspx?DocID=89832'\n 'West Virginia Department of Education Releases Oct. 3, 2020, Education Map Update - West Virginia Department of Education (archive.org)'\n 'West Virginia Department of Education Releases Oct. 10, 2020, Education Map Update - West Virginia Department of Education (archive.org)'\n 'https://wvde.us/west-virginia-department-of-education-releases-nov-14th-saturday-education-map'\n 'http://web.archive.org/web/20201123141622/https://wvde.us/west-virginia-department-of-education-releases-nov-21st-saturday-education-map/'\n 'https://dhhr.wv.gov/COVID-19/Pages/default.aspx'\n 'https://wvde.us/west-virginia-department-of-education-releases-dec-19th-saturday-education-map/'\n 'https://governor.wv.gov/News/press-releases/2020/Pages/COVID-19-UPDATE-Gov.-Justice-details-new-COVID-19-economic-relief-bill;-WV-continues-to-lead-nation-in-vaccine-distribution.aspx'\n 'https://wvde.us/west-virginia-department-of-education-releases-oct-17th-saturday-education-map'\n 'West Virginia Department of Education Releases Oct. 24th Saturday Education Map - West Virginia Department of Education (archive.org)'\n 'https://wvde.us/wv-department-of-education-releases-oct-31st-saturday-education-map'\n 'https://wvde.us/west-virginia-department-of-education-releases-nov-7th-saturday-education-map/'\n 'https://wvde.us/west-virginia-department-of-education-issues-new-gold-edition-school-alert-system-map/'\n 'School Re-entry Metrics & Protocols - West Virginia Department of Education (archive.org)'\n 'West Virginia Department of Education Releases Sept. 26, 2020, Education Map Update - West Virginia Department of Education (archive.org)'\n 'https://www.wpr.org/sites/default/files/health_order_12_safer_at_home.pdf'\n 'https://evers.wi.gov/Documents/COVID19/EMO34-SAHDialTurn.pdf'\n 'https://evers.wi.gov/Documents/COVID19/EMO36-SAHDialTurn2.pdf'\n 'https://www.wpr.org/sites/default/files/2020ap1742-lv-oporder.pdf'\n 'https://health.wyo.gov/wp-content/uploads/2020/03/March-20-gatherings-order.pdf'\n 'https://health.wyo.gov/statewide-public-health-orders-extended-through-april-17/'\n 'https://health.wyo.gov/wp-content/uploads/2020/04/Third-Continuation_Order2.pdf'\n 'https://health.wyo.gov/wp-content/uploads/2020/05/FourthContinuationStatewideOrder2_Signed.pdf'\n 'https://health.wyo.gov/wp-content/uploads/2020/08/Eleventh-Continuation-of-Order-2.pdf'\n 'https://www.legalaffairs.as.gov/notices-downloads'\n 'https://www.guamvisitorsbureau.com/docs/resources/covid-19/executive-orders/executive-order-no-2020-09-relative-to-additional-social-isolation-measures.pdf'\n 'https://www.ghs.guam.gov/sites/default/files/20.0430_ssd_to_spkr_re_executive_order_2020-11_-_relative_to_extending_the_public_health_emergency_and_establishing_the_pandemic_conditions_of_readiness_system.pdf'\n 'https://www.ghs.guam.gov/sites/default/files/jic_release_no._115_-_governor_signs_executive_order_2020-14_guam_in_pcor_2_sunday_pandemic_condition_of_readiness_faqs_.docx.pdf'\n 'https://www.guam.gov/wpdev-content/uploads/2020/09/Executive-Order-No.-2020-26-Relative-to-Implementation-of-Additional-Safety-Measures-and-Issuance-of-Temporary-Teaching-Certifications-During-the-Public-Health-Emergency.pdf'\n 'https://www.guam.gov/wpdev-content/uploads/2020/09/Executive-Order-No.-2020-27-Relative-to-Declaring-Pandemic-Condition-of-Readiness-PCOR-1.pdf'\n 'https://www.guam.gov/wpdev-content/uploads/2020/09/Executive-Order-No.-2020-28-Relative-to-Ordering-Guam-Residents-to-Stop-the-Spread-of-COVID-19-by-Staying-Home.pdf'\n 'https://dphss.guam.gov/wp-content/uploads/2020/08/20.0827-Executive-Order-No.-2020-29-Relative-to-Extending-Public-Health-Emergency-and-Modified-Stay-at-Home-Order.pdf'\n 'https://www.guam.gov/wpdev-content/uploads/2020/09/Executive-Order-No.-2020-30-Relative-to-Extending-Stay-At-Home-Order.pdf'\n 'https://www.guam.gov/wpdev-content/uploads/2020/09/Executive-Order-No.-2020-31-Relative-to-Extending-the-Stay-at-Home-Order.pdf'\n 'https://www.guam.gov/wpdev-content/uploads/2020/09/Executive-Order-No.-2020-32-Relative-to-Continuing-the-Stay-at-Home-Order-with-Additional-Services.pdf'\n 'https://www.guamvisitorsbureau.com/resources/covid-19'\n 'https://dphss.guam.gov/wp-content/uploads/2020/10/DPHSS-Guidance-Memo-2020-41-PCOR1-Version-1.pdf'\n 'https://dphss.guam.gov/wp-content/uploads/2020/11/20.1127-Executive-Order-No.-2020-41-Relative-to-Extending-the-Public-Health-Emergency-Declared-to-Respond-to-Novel-Coronavirus-COVID-19-1.pdf'\n 'https://dphss.guam.gov/wp-content/uploads/2020/12/20.1214-SSD-to-Speaker-Barnes-re-Executive-Order-No.-2020-43-Relative-to-Amending-Restrictions-on-the-Operation-of-Businesses-and-Activities-During-Pandemic-Condition-of-Readiness-1-PCOR-1.pdf'\n 'https://governor.gov.mp/news/executive-actions/memo-amendments-to-the-cnmi-covid-19-emergency-directives-of-2020-establishing-the-cnmi-covid-19-community-vulnerability-rating-system-moving-cnmi-to-community-vulnerability-level-yellow/'\n 'https://governor.gov.mp/news/executive-actions/amendments-to-the-cnmi-covid-19-emergency-directives-of-2020-moving-the-cnmi-to-community-vulnerability-level-blue/'\n 'https://governor.gov.mp/news/executive-actions/memo-amendments-to-the-cnmi-covid-19-emergency-directives-reimplementing-restrictions-on-in-person-interactions-social-gatherings-and-business-hours-to-protect-the-health-and-safety-of-the-people/'\n 'https://www.estado.pr.gov/en/executive-orders/'\n 'https://www.vi.gov/wp-content/uploads/2020/05/6th-Supplemental-Exececutive-Order-COVID-19.pdf']\n~~~~~~~~~Citation\n[nan 'Ala. Health Order (Mar. 19, 2020)'\n 'Ala. Health Order (Mar. 20, 2020)' ...\n 'V.I. Thirteenth Supp. Exec. Order (Aug. 13, 2020)'\n 'V.I. Sixteenth Supp. Exec. Order (Sept. 8, 2020)'\n 'V.I. Eighteenth Supp. Exec. Order (Sept. 30, 2020)']\n"
     ]
    }
   ],
   "source": [
    "for col in bans_columns[35:37]:\n",
    "    print(\"~~~~~~~~~\"+col)\n",
    "    print(bans[col].unique())"
   ]
  },
  {
   "cell_type": "code",
   "execution_count": 10,
   "metadata": {},
   "outputs": [
    {
     "output_type": "stream",
     "name": "stdout",
     "text": [
      "Index(['State_Tribe_Territory', 'County_Name', 'FIPS_State', 'FIPS_County',\n       'date', 'General_GB_order_group', 'General_GB_order_code',\n       'General_or_Under_6ft_Bans_Gatherings_Over', 'With_SD_order_group',\n       'With_SD_order_code', 'Over_6ft_Bans_Gatherings_Over',\n       'outdoor_order_group', 'outdoor_order_code',\n       'General_Or_Under_6ft_Bans_Outdoor_Gatherings_Over',\n       'With_SD_outdoor_order_group', 'With_SD_outdoor_order_code',\n       'Over_6ft_Bans_Outdoor_Gatherings_Over', 'Current_order_status',\n       'Jurisdiction_Type', 'Issuing_Jurisdiction', 'Effective_date',\n       'Expiration_date', 'Effective_NA_Reason', 'Expiration_NA_Reason',\n       'General_Household_Order_Group', 'General_Household_order_code',\n       'Bans_Households_Not_Individuals_Generally',\n       'Outdoor_Household_Order_Group', 'Outdoor_Household_Order_Code',\n       'Bans_Households_Not_Individuals_Outdoor_Only', 'Date_Signed',\n       'Express_Preemption', 'origin_dataset', 'Indoor_Outdoor',\n       'Source_of_Action', 'URL', 'Citation'],\n      dtype='object')\n"
     ]
    }
   ],
   "source": [
    "print(bans_columns)"
   ]
  },
  {
   "cell_type": "code",
   "execution_count": null,
   "metadata": {},
   "outputs": [],
   "source": []
  }
 ],
 "metadata": {
  "kernelspec": {
   "name": "python38332bit6ff5225c27384268b9881cbd8b3d106d",
   "display_name": "Python 3.8.3 32-bit"
  },
  "metadata": {
   "interpreter": {
    "hash": "8928c97c33a64ca7a9da5365a92bbaacc7f636b491d853b17363274fcd1c8973"
   }
  }
 },
 "nbformat": 4,
 "nbformat_minor": 4
}