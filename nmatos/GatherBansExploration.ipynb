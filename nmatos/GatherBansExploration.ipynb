{
 "cells": [
  {
   "cell_type": "code",
   "execution_count": 1,
   "metadata": {},
   "outputs": [
    {
     "output_type": "stream",
     "name": "stderr",
     "text": [
      "C:\\Users\\nmato\\AppData\\Local\\Programs\\Python\\Python38-32\\lib\\site-packages\\IPython\\core\\interactiveshell.py:3062: DtypeWarning: Columns (7,10,13,16,21,23,33,35) have mixed types.Specify dtype option on import or set low_memory=False.\n  has_raised = await self.run_ast_nodes(code_ast.body, cell_name,\n"
     ]
    }
   ],
   "source": [
    "import pandas as pd\n",
    "bans = pd.read_csv(r\"data\\U.S._State_Gathering_Bans__2020.csv\")"
   ]
  },
  {
   "cell_type": "code",
   "execution_count": 2,
   "metadata": {},
   "outputs": [
    {
     "output_type": "execute_result",
     "data": {
      "text/plain": [
       "  State_Tribe_Territory     County_Name  FIPS_State  FIPS_County        date  \\\n",
       "0                    AL  Autauga County           1            1  2020-03-11   \n",
       "1                    AL  Autauga County           1            1  2020-03-12   \n",
       "2                    AL  Autauga County           1            1  2020-03-13   \n",
       "3                    AL  Autauga County           1            1  2020-03-14   \n",
       "4                    AL  Autauga County           1            1  2020-03-15   \n",
       "\n",
       "  General_GB_order_group  General_GB_order_code  \\\n",
       "0         No order found                      1   \n",
       "1         No order found                      1   \n",
       "2         No order found                      1   \n",
       "3         No order found                      1   \n",
       "4         No order found                      1   \n",
       "\n",
       "  General_or_Under_6ft_Bans_Gatherings_Over With_SD_order_group  \\\n",
       "0                                       NaN      No order found   \n",
       "1                                       NaN      No order found   \n",
       "2                                       NaN      No order found   \n",
       "3                                       NaN      No order found   \n",
       "4                                       NaN      No order found   \n",
       "\n",
       "   With_SD_order_code  ... Outdoor_Household_Order_Group  \\\n",
       "0                   1  ...                No order found   \n",
       "1                   1  ...                No order found   \n",
       "2                   1  ...                No order found   \n",
       "3                   1  ...                No order found   \n",
       "4                   1  ...                No order found   \n",
       "\n",
       "  Outdoor_Household_Order_Code  Bans_Households_Not_Individuals_Outdoor_Only  \\\n",
       "0                            1                                           NaN   \n",
       "1                            1                                           NaN   \n",
       "2                            1                                           NaN   \n",
       "3                            1                                           NaN   \n",
       "4                            1                                           NaN   \n",
       "\n",
       "  Date_Signed Express_Preemption  origin_dataset Indoor_Outdoor  \\\n",
       "0         NaN                NaN             NaN            NaN   \n",
       "1         NaN                NaN             NaN            NaN   \n",
       "2         NaN                NaN             NaN            NaN   \n",
       "3         NaN                NaN             NaN            NaN   \n",
       "4         NaN                NaN             NaN            NaN   \n",
       "\n",
       "  Source_of_Action  URL Citation  \n",
       "0              NaN  NaN      NaN  \n",
       "1              NaN  NaN      NaN  \n",
       "2              NaN  NaN      NaN  \n",
       "3              NaN  NaN      NaN  \n",
       "4              NaN  NaN      NaN  \n",
       "\n",
       "[5 rows x 37 columns]"
      ],
      "text/html": "<div>\n<style scoped>\n    .dataframe tbody tr th:only-of-type {\n        vertical-align: middle;\n    }\n\n    .dataframe tbody tr th {\n        vertical-align: top;\n    }\n\n    .dataframe thead th {\n        text-align: right;\n    }\n</style>\n<table border=\"1\" class=\"dataframe\">\n  <thead>\n    <tr style=\"text-align: right;\">\n      <th></th>\n      <th>State_Tribe_Territory</th>\n      <th>County_Name</th>\n      <th>FIPS_State</th>\n      <th>FIPS_County</th>\n      <th>date</th>\n      <th>General_GB_order_group</th>\n      <th>General_GB_order_code</th>\n      <th>General_or_Under_6ft_Bans_Gatherings_Over</th>\n      <th>With_SD_order_group</th>\n      <th>With_SD_order_code</th>\n      <th>...</th>\n      <th>Outdoor_Household_Order_Group</th>\n      <th>Outdoor_Household_Order_Code</th>\n      <th>Bans_Households_Not_Individuals_Outdoor_Only</th>\n      <th>Date_Signed</th>\n      <th>Express_Preemption</th>\n      <th>origin_dataset</th>\n      <th>Indoor_Outdoor</th>\n      <th>Source_of_Action</th>\n      <th>URL</th>\n      <th>Citation</th>\n    </tr>\n  </thead>\n  <tbody>\n    <tr>\n      <th>0</th>\n      <td>AL</td>\n      <td>Autauga County</td>\n      <td>1</td>\n      <td>1</td>\n      <td>2020-03-11</td>\n      <td>No order found</td>\n      <td>1</td>\n      <td>NaN</td>\n      <td>No order found</td>\n      <td>1</td>\n      <td>...</td>\n      <td>No order found</td>\n      <td>1</td>\n      <td>NaN</td>\n      <td>NaN</td>\n      <td>NaN</td>\n      <td>NaN</td>\n      <td>NaN</td>\n      <td>NaN</td>\n      <td>NaN</td>\n      <td>NaN</td>\n    </tr>\n    <tr>\n      <th>1</th>\n      <td>AL</td>\n      <td>Autauga County</td>\n      <td>1</td>\n      <td>1</td>\n      <td>2020-03-12</td>\n      <td>No order found</td>\n      <td>1</td>\n      <td>NaN</td>\n      <td>No order found</td>\n      <td>1</td>\n      <td>...</td>\n      <td>No order found</td>\n      <td>1</td>\n      <td>NaN</td>\n      <td>NaN</td>\n      <td>NaN</td>\n      <td>NaN</td>\n      <td>NaN</td>\n      <td>NaN</td>\n      <td>NaN</td>\n      <td>NaN</td>\n    </tr>\n    <tr>\n      <th>2</th>\n      <td>AL</td>\n      <td>Autauga County</td>\n      <td>1</td>\n      <td>1</td>\n      <td>2020-03-13</td>\n      <td>No order found</td>\n      <td>1</td>\n      <td>NaN</td>\n      <td>No order found</td>\n      <td>1</td>\n      <td>...</td>\n      <td>No order found</td>\n      <td>1</td>\n      <td>NaN</td>\n      <td>NaN</td>\n      <td>NaN</td>\n      <td>NaN</td>\n      <td>NaN</td>\n      <td>NaN</td>\n      <td>NaN</td>\n      <td>NaN</td>\n    </tr>\n    <tr>\n      <th>3</th>\n      <td>AL</td>\n      <td>Autauga County</td>\n      <td>1</td>\n      <td>1</td>\n      <td>2020-03-14</td>\n      <td>No order found</td>\n      <td>1</td>\n      <td>NaN</td>\n      <td>No order found</td>\n      <td>1</td>\n      <td>...</td>\n      <td>No order found</td>\n      <td>1</td>\n      <td>NaN</td>\n      <td>NaN</td>\n      <td>NaN</td>\n      <td>NaN</td>\n      <td>NaN</td>\n      <td>NaN</td>\n      <td>NaN</td>\n      <td>NaN</td>\n    </tr>\n    <tr>\n      <th>4</th>\n      <td>AL</td>\n      <td>Autauga County</td>\n      <td>1</td>\n      <td>1</td>\n      <td>2020-03-15</td>\n      <td>No order found</td>\n      <td>1</td>\n      <td>NaN</td>\n      <td>No order found</td>\n      <td>1</td>\n      <td>...</td>\n      <td>No order found</td>\n      <td>1</td>\n      <td>NaN</td>\n      <td>NaN</td>\n      <td>NaN</td>\n      <td>NaN</td>\n      <td>NaN</td>\n      <td>NaN</td>\n      <td>NaN</td>\n      <td>NaN</td>\n    </tr>\n  </tbody>\n</table>\n<p>5 rows × 37 columns</p>\n</div>"
     },
     "metadata": {},
     "execution_count": 2
    }
   ],
   "source": [
    "bans.head()"
   ]
  },
  {
   "cell_type": "code",
   "execution_count": 3,
   "metadata": {},
   "outputs": [
    {
     "output_type": "stream",
     "name": "stdout",
     "text": [
      "Index(['State_Tribe_Territory', 'County_Name', 'FIPS_State', 'FIPS_County',\n       'date', 'General_GB_order_group', 'General_GB_order_code',\n       'General_or_Under_6ft_Bans_Gatherings_Over', 'With_SD_order_group',\n       'With_SD_order_code', 'Over_6ft_Bans_Gatherings_Over',\n       'outdoor_order_group', 'outdoor_order_code',\n       'General_Or_Under_6ft_Bans_Outdoor_Gatherings_Over',\n       'With_SD_outdoor_order_group', 'With_SD_outdoor_order_code',\n       'Over_6ft_Bans_Outdoor_Gatherings_Over', 'Current_order_status',\n       'Jurisdiction_Type', 'Issuing_Jurisdiction', 'Effective_date',\n       'Expiration_date', 'Effective_NA_Reason', 'Expiration_NA_Reason',\n       'General_Household_Order_Group', 'General_Household_order_code',\n       'Bans_Households_Not_Individuals_Generally',\n       'Outdoor_Household_Order_Group', 'Outdoor_Household_Order_Code',\n       'Bans_Households_Not_Individuals_Outdoor_Only', 'Date_Signed',\n       'Express_Preemption', 'origin_dataset', 'Indoor_Outdoor',\n       'Source_of_Action', 'URL', 'Citation'],\n      dtype='object')\n"
     ]
    }
   ],
   "source": [
    "bans_columns = bans.columns\n",
    "print(bans_columns)"
   ]
  },
  {
   "cell_type": "code",
   "execution_count": 4,
   "metadata": {},
   "outputs": [
    {
     "output_type": "stream",
     "name": "stdout",
     "text": [
      "[nan 'AL' 'AK' 'AZ' 'AR' 'CA' 'CO' 'CT' 'DE' 'DC' 'FL' 'GA' 'HI' 'ID' 'IL'\n 'IN' 'IA' 'KS' 'KY' 'LA' 'ME' 'MD' 'MA' 'MI' 'MN' 'MS' 'MO' 'MT' 'NE'\n 'NV' 'NH' 'NJ' 'NM' 'NY' 'NC' 'OH' 'OK' 'OR' 'PA' 'RI' 'SC' 'TN' 'TX'\n 'UT' 'VT' 'VA' 'WA' 'WV' 'WI' 'WY' 'AS' 'GU' 'CNMI' 'PR' 'USVI']\n"
     ]
    }
   ],
   "source": [
    "print(bans['Issuing_Jurisdiction'].unique())"
   ]
  },
  {
   "cell_type": "code",
   "execution_count": 5,
   "metadata": {},
   "outputs": [],
   "source": [
    "#x-axis time period\n",
    "#y-axis whether a ban was in effect (gatherings,)\n",
    "\n",
    "#look into the issuing jurisdiction (is it at the state level)\n",
    "#Use a bar graph to "
   ]
  },
  {
   "cell_type": "code",
   "execution_count": 6,
   "metadata": {
    "tags": []
   },
   "outputs": [
    {
     "output_type": "stream",
     "name": "stdout",
     "text": [
      "~~~~~~~~~State_Tribe_Territory\n",
      "['AL' 'AK' 'AZ' 'AR' 'CA' 'CO' 'CT' 'DE' 'DC' 'FL' 'GA' 'HI' 'ID' 'IL'\n",
      " 'IN' 'IA' 'KS' 'KY' 'LA' 'ME' 'MD' 'MA' 'MI' 'MN' 'MS' 'MO' 'MT' 'NE'\n",
      " 'NV' 'NH' 'NJ' 'NM' 'NY' 'NC' 'ND' 'OH' 'OK' 'OR' 'PA' 'RI' 'SC' 'SD'\n",
      " 'TN' 'TX' 'UT' 'VT' 'VA' 'WA' 'WV' 'WI' 'WY' 'AS' 'GU' 'MP' 'PR' 'VI']\n",
      "~~~~~~~~~County_Name\n",
      "['Autauga County' 'Baldwin County' 'Barbour County' ... 'St. Croix Island'\n",
      " 'St. John Island' 'St. Thomas Island']\n",
      "~~~~~~~~~FIPS_State\n",
      "[ 1  2  4  5  6  8  9 10 11 12 13 15 16 17 18 19 20 21 22 23 24 25 26 27\n",
      " 28 29 30 31 32 33 34 35 36 37 38 39 40 41 42 44 45 46 47 48 49 50 51 53\n",
      " 54 55 56 60 66 69 72 78]\n",
      "~~~~~~~~~FIPS_County\n",
      "[  1   3   5   7   9  11  13  15  17  19  21  23  25  27  29  31  33  35\n",
      "  37  39  41  43  45  47  49  51  53  55  57  59  61  63  65  67  69  71\n",
      "  73  75  77  79  81  83  85  87  89  91  93  95  97  99 101 103 105 107\n",
      " 109 111 113 115 117 119 121 123 125 127 129 131 133  16  20  50  60  68\n",
      "  70  90 100 110 122 130 150 158 164 170 180 185 188 195 198 220 230 240\n",
      " 261 275 282 290  12 135 137 139 141 143 145 147 149  14  86 151 153 155\n",
      " 157 159 161 163 165 167 169 171 173 175 177 179 181 183 187 189 191 193\n",
      " 197 199 201 205 207 209 211 213 215 217 219 221 223 225 227 229 231 233\n",
      " 235 237 239 241 243 245 247 249 251 253 255 257 259 263 265 267 269 271\n",
      " 273 277 279 281 283 285 287 289 291 293 295 297 299 301 303 305 307 309\n",
      " 311 313 315 317 319 321 203 510 186   6  28 102 323 325 327 329 331 333\n",
      " 335 337 339 341 343 345 347 349 351 353 355 357 359 361 363 365 367 369\n",
      " 371 373 375 377 379 381 383 385 387 389 391 393 395 397 399 401 403 405\n",
      " 407 409 411 413 415 417 419 421 423 425 427 429 431 433 435 437 439 441\n",
      " 443 445 447 449 451 453 455 457 459 461 463 465 467 469 471 473 475 477\n",
      " 479 481 483 485 487 489 491 493 495 497 499 501 503 505 507  36 520 530\n",
      " 540 550 570 580 590 595 600 610 620 630 640 650 660 670 678 680 683 685\n",
      " 690 700 710 720 730 735 740 750 760 770 775 790 800 810 820 830 840  78\n",
      "  10  30  40 120  54]\n",
      "~~~~~~~~~date\n",
      "['2020-03-11' '2020-03-12' '2020-03-13' '2020-03-14' '2020-03-15'\n",
      " '2020-03-16' '2020-03-17' '2020-03-18' '2020-03-19' '2020-03-20'\n",
      " '2020-03-21' '2020-03-22' '2020-03-23' '2020-03-24' '2020-03-25'\n",
      " '2020-03-26' '2020-03-27' '2020-03-28' '2020-03-29' '2020-03-30'\n",
      " '2020-03-31' '2020-04-01' '2020-04-02' '2020-04-03' '2020-04-04'\n",
      " '2020-04-05' '2020-04-06' '2020-04-07' '2020-04-08' '2020-04-09'\n",
      " '2020-04-10' '2020-04-11' '2020-04-12' '2020-04-13' '2020-04-14'\n",
      " '2020-04-15' '2020-04-16' '2020-04-17' '2020-04-18' '2020-04-19'\n",
      " '2020-04-20' '2020-04-21' '2020-04-22' '2020-04-23' '2020-04-24'\n",
      " '2020-04-25' '2020-04-26' '2020-04-27' '2020-04-28' '2020-04-29'\n",
      " '2020-04-30' '2020-05-01' '2020-05-02' '2020-05-03' '2020-05-04'\n",
      " '2020-05-05' '2020-05-06' '2020-05-07' '2020-05-08' '2020-05-09'\n",
      " '2020-05-10' '2020-05-11' '2020-05-12' '2020-05-13' '2020-05-14'\n",
      " '2020-05-15' '2020-05-16' '2020-05-17' '2020-05-18' '2020-05-19'\n",
      " '2020-05-20' '2020-05-21' '2020-05-22' '2020-05-23' '2020-05-24'\n",
      " '2020-05-25' '2020-05-26' '2020-05-27' '2020-05-28' '2020-05-29'\n",
      " '2020-05-30' '2020-05-31' '2020-06-01' '2020-06-02' '2020-06-03'\n",
      " '2020-06-04' '2020-06-05' '2020-06-06' '2020-06-07' '2020-06-08'\n",
      " '2020-06-09' '2020-06-10' '2020-06-11' '2020-06-12' '2020-06-13'\n",
      " '2020-06-14' '2020-06-15' '2020-06-16' '2020-06-17' '2020-06-18'\n",
      " '2020-06-19' '2020-06-20' '2020-06-21' '2020-06-22' '2020-06-23'\n",
      " '2020-06-24' '2020-06-25' '2020-06-26' '2020-06-27' '2020-06-28'\n",
      " '2020-06-29' '2020-06-30' '2020-07-01' '2020-07-02' '2020-07-03'\n",
      " '2020-07-04' '2020-07-05' '2020-07-06' '2020-07-07' '2020-07-08'\n",
      " '2020-07-09' '2020-07-10' '2020-07-11' '2020-07-12' '2020-07-13'\n",
      " '2020-07-14' '2020-07-15' '2020-07-16' '2020-07-17' '2020-07-18'\n",
      " '2020-07-19' '2020-07-20' '2020-07-21' '2020-07-22' '2020-07-23'\n",
      " '2020-07-24' '2020-07-25' '2020-07-26' '2020-07-27' '2020-07-28'\n",
      " '2020-07-29' '2020-07-30' '2020-07-31' '2020-08-01' '2020-08-02'\n",
      " '2020-08-03' '2020-08-04' '2020-08-05' '2020-08-06' '2020-08-07'\n",
      " '2020-08-08' '2020-08-09' '2020-08-10' '2020-08-11' '2020-08-12'\n",
      " '2020-08-13' '2020-08-14' '2020-08-15' '2020-08-16' '2020-08-17'\n",
      " '2020-08-18' '2020-08-19' '2020-08-20' '2020-08-21' '2020-08-22'\n",
      " '2020-08-23' '2020-08-24' '2020-08-25' '2020-08-26' '2020-08-27'\n",
      " '2020-08-28' '2020-08-29' '2020-08-30' '2020-08-31' '2020-09-01'\n",
      " '2020-09-02' '2020-09-03' '2020-09-04' '2020-09-05' '2020-09-06'\n",
      " '2020-09-07' '2020-09-08' '2020-09-09' '2020-09-10' '2020-09-11'\n",
      " '2020-09-12' '2020-09-13' '2020-09-14' '2020-09-15' '2020-09-16'\n",
      " '2020-09-17' '2020-09-18' '2020-09-19' '2020-09-20' '2020-09-21'\n",
      " '2020-09-22' '2020-09-23' '2020-09-24' '2020-09-25' '2020-09-26'\n",
      " '2020-09-27' '2020-09-28' '2020-09-29' '2020-09-30' '2020-10-01'\n",
      " '2020-10-02' '2020-10-03' '2020-10-04' '2020-10-05' '2020-10-06'\n",
      " '2020-10-07' '2020-10-08' '2020-10-09' '2020-10-10' '2020-10-11'\n",
      " '2020-10-12' '2020-10-13' '2020-10-14' '2020-10-15' '2020-10-16'\n",
      " '2020-10-17' '2020-10-18' '2020-10-19' '2020-10-20' '2020-10-21'\n",
      " '2020-10-22' '2020-10-23' '2020-10-24' '2020-10-25' '2020-10-26'\n",
      " '2020-10-27' '2020-10-28' '2020-10-29' '2020-10-30' '2020-10-31'\n",
      " '2020-11-01' '2020-11-02' '2020-11-03' '2020-11-04' '2020-11-05'\n",
      " '2020-11-06' '2020-11-07' '2020-11-08' '2020-11-09' '2020-11-10'\n",
      " '2020-11-11' '2020-11-12' '2020-11-13' '2020-11-14' '2020-11-15'\n",
      " '2020-11-16' '2020-11-17' '2020-11-18' '2020-11-19' '2020-11-20'\n",
      " '2020-11-21' '2020-11-22' '2020-11-23' '2020-11-24' '2020-11-25'\n",
      " '2020-11-26' '2020-11-27' '2020-11-28' '2020-11-29' '2020-11-30'\n",
      " '2020-12-01' '2020-12-02' '2020-12-03' '2020-12-04' '2020-12-05'\n",
      " '2020-12-06' '2020-12-07' '2020-12-08' '2020-12-09' '2020-12-10'\n",
      " '2020-12-11' '2020-12-12' '2020-12-13' '2020-12-14' '2020-12-15'\n",
      " '2020-12-16' '2020-12-17' '2020-12-18' '2020-12-19' '2020-12-20'\n",
      " '2020-12-21' '2020-12-22' '2020-12-23' '2020-12-24' '2020-12-25'\n",
      " '2020-12-26' '2020-12-27' '2020-12-28' '2020-12-29' '2020-12-30'\n",
      " '2020-12-31']\n",
      "~~~~~~~~~General_GB_order_group\n",
      "['No order found' 'Ban of gatherings over 1-10 people'\n",
      " 'Bans gatherings of any size' 'Ban of gatherings over 11-25 people'\n",
      " 'Ban of gatherings over 101 or more people'\n",
      " 'Ban of gatherings over 26-50 people'\n",
      " 'Ban of gatherings over 51-100 people']\n",
      "~~~~~~~~~General_GB_order_code\n",
      "[1 6 7 5 2 4 3]\n",
      "~~~~~~~~~General_or_Under_6ft_Bans_Gatherings_Over\n",
      "[nan 'No ban' '9' '0' '10' '25' '249' '49' '5' '100' '50' 50.0 10.0 '999'\n",
      " 0.0 999.0 49.0 25.0 '8' '15' '250' '75' 20.0 '6' '10000' '99' '4' 5.0\n",
      " 99.0 9.0 4.0 500.0 100.0 '24' 6.0 249.0 24.0 8.0 250.0 15.0 '20' '150']\n",
      "~~~~~~~~~With_SD_order_group\n",
      "['No order found' 'Ban of gatherings over 1-10 people'\n",
      " 'Ban of gatherings over 11-25 people'\n",
      " 'Ban of gatherings over 51-100 people'\n",
      " 'Ban of gatherings over 26-50 people'\n",
      " 'Ban of gatherings over 101 or more people' 'Bans gatherings of any size']\n",
      "~~~~~~~~~With_SD_order_code\n",
      "[1 6 5 3 4 2 7]\n",
      "~~~~~~~~~Over_6ft_Bans_Gatherings_Over\n",
      "[nan 'No ban' '10' '20' '100' '50' '25' '250' '0' 10.0 0.0 '3000' '10000'\n",
      " '6' '9' '5']\n",
      "~~~~~~~~~outdoor_order_group\n",
      "['No order found' 'Bans gatherings of any size'\n",
      " 'Ban of gatherings over 1-10 people'\n",
      " 'Ban of gatherings over 51-100 people'\n",
      " 'Ban of gatherings over 101 or more people'\n",
      " 'Ban of gatherings over 26-50 people'\n",
      " 'Ban of gatherings over 11-25 people']\n",
      "~~~~~~~~~outdoor_order_code\n",
      "[1 7 6 3 2 4 5]\n",
      "~~~~~~~~~General_Or_Under_6ft_Bans_Outdoor_Gatherings_Over\n",
      "[nan 0.0 '10' 'No ban' '0' '100' '500' '250' '50' '25' 10.0 30.0 50.0\n",
      " 250.0 150.0 100.0 25.0 6.0 8.0 12.0 15.0 5.0 1000.0]\n",
      "~~~~~~~~~With_SD_outdoor_order_group\n",
      "['No order found' 'Ban of gatherings over 11-25 people'\n",
      " 'Ban of gatherings over 101 or more people'\n",
      " 'Ban of gatherings over 51-100 people'\n",
      " 'Ban of gatherings over 1-10 people'\n",
      " 'Ban of gatherings over 26-50 people']\n",
      "~~~~~~~~~With_SD_outdoor_order_code\n",
      "[1 5 2 3 6 4]\n",
      "~~~~~~~~~Over_6ft_Bans_Outdoor_Gatherings_Over\n",
      "[nan 20.0 'No ban' '175' '25' '100' '10' '50' '250' 100.0 25.0 250.0 15.0\n",
      " '15' '20' 500.0 150.0 'No Ban' '5']\n",
      "~~~~~~~~~Current_order_status\n",
      "[nan 'In effect']\n",
      "~~~~~~~~~Jurisdiction_Type\n",
      "['State' 'District (state)' 'Territory']\n",
      "~~~~~~~~~Issuing_Jurisdiction\n",
      "[nan 'AL' 'AK' 'AZ' 'AR' 'CA' 'CO' 'CT' 'DE' 'DC' 'FL' 'GA' 'HI' 'ID' 'IL'\n",
      " 'IN' 'IA' 'KS' 'KY' 'LA' 'ME' 'MD' 'MA' 'MI' 'MN' 'MS' 'MO' 'MT' 'NE'\n",
      " 'NV' 'NH' 'NJ' 'NM' 'NY' 'NC' 'OH' 'OK' 'OR' 'PA' 'RI' 'SC' 'TN' 'TX'\n",
      " 'UT' 'VT' 'VA' 'WA' 'WV' 'WI' 'WY' 'AS' 'GU' 'CNMI' 'PR' 'USVI']\n",
      "~~~~~~~~~Effective_date\n",
      "[nan '2020-03-19' '2020-03-20' '2020-03-28' '2020-05-11' '2020-12-09'\n",
      " '2020-03-17' '2020-03-24' '2020-04-24' '2020-05-22' '2020-03-21'\n",
      " '2020-06-29' '2020-07-23' '2020-12-03' '2020-03-26' '2020-03-27'\n",
      " '2020-04-06' '2020-05-04' '2020-05-18' '2020-06-15' '2020-11-03'\n",
      " '2020-03-16' '2020-09-12' '2020-10-09' '2020-11-13' '2020-11-18'\n",
      " '2020-11-25' '2020-11-29' '2020-12-02' '2020-12-16' '2020-12-17'\n",
      " '2020-12-11' '2020-12-06' '2020-12-23' '2020-12-30' '2020-04-02'\n",
      " '2020-04-10' '2020-04-27' '2020-05-08' '2020-05-14' '2020-05-26'\n",
      " '2020-06-01' '2020-06-18' '2020-06-30' '2020-07-30' '2020-08-21'\n",
      " '2020-09-20' '2020-09-22' '2020-09-28' '2020-09-29' '2020-10-02'\n",
      " '2020-10-05' '2020-10-08' '2020-10-17' '2020-10-24' '2020-10-29'\n",
      " '2020-10-31' '2020-11-02' '2020-11-07' '2020-11-11' '2020-11-20'\n",
      " '2020-11-23' '2020-12-01' '2020-12-05' '2020-12-07' '2020-12-10'\n",
      " '2020-12-15' '2020-12-29' '2020-09-08' '2020-09-15' '2020-03-12'\n",
      " '2020-05-29' '2020-06-16' '2020-06-17' '2020-07-03' '2020-11-06'\n",
      " '2020-06-19' '2020-07-24' '2020-08-26' '2020-09-01' '2020-09-04'\n",
      " '2020-12-14' '2020-04-15' '2020-05-16' '2020-06-22' '2020-07-22'\n",
      " '2020-10-07' '2020-03-25' '2020-06-05' '2020-06-20' '2020-07-07'\n",
      " '2020-07-20' '2020-08-05' '2020-09-25' '2020-11-24' '2020-04-03'\n",
      " '2020-04-08' '2020-04-20' '2020-05-01' '2020-05-28' '2020-07-01'\n",
      " '2020-07-16' '2020-08-01' '2020-08-16' '2020-09-16' '2020-10-01'\n",
      " '2020-10-16' '2020-11-01' '2020-04-26' '2020-05-05' '2020-06-26'\n",
      " '2020-07-21' '2020-10-21' '2020-08-03' '2020-08-08' '2020-08-20'\n",
      " '2020-08-27' '2020-09-10' '2020-09-24' '2020-10-22' '2020-06-10'\n",
      " '2020-07-17' '2020-05-03' '2020-05-09' '2020-08-11' '2020-10-23'\n",
      " '2020-04-30' '2020-07-06' '2020-07-31' '2020-08-06' '2020-10-06'\n",
      " '2020-10-15' '2020-10-27' '2020-11-12' '2020-12-12' '2020-11-14'\n",
      " '2020-03-13' '2020-03-18' '2020-04-01' '2020-09-18' '2020-08-18'\n",
      " '2020-09-02' '2020-10-28' '2020-10-03' '2020-10-25' '2020-11-04'\n",
      " '2020-06-12' '2020-09-26' '2020-10-18' '2020-11-15' '2020-12-13'\n",
      " '2020-12-21' '2020-12-28' '2020-05-21' '2020-05-13' '2020-06-25'\n",
      " '2020-11-17' '2020-04-16' '2020-04-18' '2020-03-23' '2020-05-15'\n",
      " '2020-07-13' '2020-08-07' '2020-08-28' '2020-09-11' '2020-04-07'\n",
      " '2020-04-29' '2020-10-13' '2020-03-30' '2020-05-06' '2020-05-27'\n",
      " '2020-06-03' '2020-03-31' '2020-04-28' '2020-06-08' '2020-12-26'\n",
      " '2020-04-09' '2020-05-07' '2020-05-31' '2020-06-09' '2020-12-18'\n",
      " '2020-04-17' '2020-07-02' '2020-08-17' '2020-08-31' '2020-09-14'\n",
      " '2020-09-30' '2020-05-12' '2020-04-22' '2020-09-21' '2020-11-16'\n",
      " '2020-12-24' '2020-03-29' '2020-11-05' '2020-04-04' '2020-08-04'\n",
      " '2020-04-11' '2020-08-29' '2020-11-30' '2020-06-13' '2020-06-23'\n",
      " '2020-06-24' '2020-07-09' '2020-10-14' '2020-11-09' '2020-11-19'\n",
      " '2020-03-14' '2020-04-23' '2020-04-13' '2020-05-30' '2020-07-10'\n",
      " '2020-05-23' '2020-06-06' '2020-07-14' '2020-07-15' '2020-09-19'\n",
      " '2020-03-22' '2020-07-29' '2020-10-30' '2020-08-10' '2020-08-25'\n",
      " '2020-09-09' '2020-11-08' '2020-12-08' '2020-12-20' '2020-07-27'\n",
      " '2020-08-14' '2020-09-23' '2020-11-10' '2020-03-15' '2020-09-03'\n",
      " '2020-06-11' '2020-07-04' '2020-03-11' '2020-10-10' '2020-11-21'\n",
      " '2020-11-27' '2020-11-28' '2020-12-19' '2020-12-27' '2020-10-19'\n",
      " '2020-04-05' '2020-05-10' '2020-08-24' '2020-09-07' '2020-08-02'\n",
      " '2020-08-09' '2020-08-15' '2020-08-22' '2020-08-23' '2020-08-30'\n",
      " '2020-09-06' '2020-08-13']\n",
      "~~~~~~~~~Expiration_date\n",
      "[nan '2020-05-15' '2020-12-11' '2021-01-22' '2020-04-18' '2020-04-11'\n",
      " '2020-04-26' '2020-05-26' '2020-06-01' '2020-07-01' '2020-07-30'\n",
      " '2020-08-20' '2020-09-20' '2020-10-19' '2020-11-05' '2020-11-29'\n",
      " '2020-12-20' '2021-01-06' '2020-10-05' '2020-11-04' '2020-04-30'\n",
      " '2020-05-20' '2020-06-20' '2020-07-03' '2020-05-31' '2020-06-15'\n",
      " '2020-03-31' '2020-04-24' '2020-06-08' '2020-07-24' '2020-10-09'\n",
      " '2020-12-31' '2020-04-06' '2020-04-13' '2020-05-13' '2020-06-28'\n",
      " '2020-06-30' '2020-07-15' '2020-07-31' '2020-08-15' '2020-08-31'\n",
      " '2020-09-15' '2020-09-30' '2020-10-15' '2020-10-31' '2020-11-15'\n",
      " '2020-11-30' '2020-12-15' '2021-02-14' '2020-06-05' '2020-09-04'\n",
      " '2020-09-16' '2020-09-09' '2020-09-23' '2020-08-27' '2020-08-29'\n",
      " '2020-10-29' '2020-04-15' '2020-09-19' '2020-10-17' '2020-11-14'\n",
      " '2020-12-12' '2021-01-09' '2020-04-20' '2020-05-01' '2020-05-04'\n",
      " '2020-05-23' '2020-06-13' '2020-07-17' '2020-09-25' '2021-01-03'\n",
      " '2020-05-11' '2020-05-18' '2020-05-27' '2020-06-17' '2020-06-25'\n",
      " '2020-07-25' '2020-08-23' '2020-10-18' '2020-12-10' '2020-12-16'\n",
      " '2021-01-08' '2020-12-13' '2020-08-07' '2020-08-28' '2020-09-11'\n",
      " '2020-11-06' '2020-12-04' '2020-12-23' '2021-01-13' '2020-04-08'\n",
      " '2020-04-05' '2020-04-07' '2020-05-19' '2021-01-10' '2020-05-28'\n",
      " '2020-06-12' '2020-10-30' '2020-12-08' '2021-01-15' '2020-12-18'\n",
      " '2020-04-14' '2020-04-27' '2020-05-25' '2020-06-29' '2020-07-06'\n",
      " '2020-07-20' '2020-08-03' '2020-08-17' '2020-09-14' '2020-11-11'\n",
      " '2020-05-03' '2020-04-10' '2020-09-13' '2021-01-31' '2020-05-10'\n",
      " '2020-05-06' '2020-04-16' '2020-05-30' '2020-09-01' '2020-10-01'\n",
      " '2020-09-18' '2020-10-02' '2020-10-16' '2020-11-13' '2020-11-16'\n",
      " '2020-12-02' '2020-12-30' '2021-01-29' '2020-04-22' '2020-04-29'\n",
      " '2020-06-06' '2020-06-21' '2020-07-13' '2020-07-26' '2020-08-12'\n",
      " '2021-01-01' '2020-05-08' '2020-05-22' '2020-06-26' '2020-10-23'\n",
      " '2020-05-29' '2020-04-28' '2020-05-02' '2020-05-16' '2020-05-24'\n",
      " '2020-06-11' '2020-07-12' '2020-08-09' '2020-09-27' '2020-10-25'\n",
      " '2020-11-23' '2020-12-17' '2020-06-04' '2021-01-04' '2020-03-30'\n",
      " '2020-07-29' '2020-09-28' '2020-10-28' '2020-11-27' '2020-11-22'\n",
      " '2021-01-19' '2020-10-24' '2020-11-08' '2020-12-29' '2020-04-01'\n",
      " '2020-07-10' '2020-11-12' '2021-01-21' '2020-06-10' '2020-09-10'\n",
      " '2020-12-14' '2021-01-11' '2020-04-03' '2020-04-17' '2020-05-05'\n",
      " '2020-06-14' '2020-09-06' '2020-04-12' '2020-08-08' '2020-08-10'\n",
      " '2020-08-21' '2020-08-24' '2020-09-05' '2020-09-07' '2020-12-19'\n",
      " '2020-12-21' '2020-12-26' '2020-12-28' '2021-01-02']\n",
      "~~~~~~~~~Effective_NA_Reason\n",
      "[nan]\n",
      "~~~~~~~~~Expiration_NA_Reason\n",
      "[nan 'Until rescinded' 'Duration of emergency' 'Not listed'\n",
      " 'Upon further order' 'Undetermined' 'Indefinite' 'Until Rescineded']\n",
      "~~~~~~~~~General_Household_Order_Group\n",
      "['No order found' 'Bans gatherings of any size'\n",
      " 'Ban of gatherings over 1-10 households']\n",
      "~~~~~~~~~General_Household_order_code\n",
      "[1 7 6]\n",
      "~~~~~~~~~Bans_Households_Not_Individuals_Generally\n",
      "[nan  0.  3.]\n",
      "~~~~~~~~~Outdoor_Household_Order_Group\n",
      "['No order found' 'Ban of gatherings over 1-10 households']\n",
      "~~~~~~~~~Outdoor_Household_Order_Code\n",
      "[1 7 6]\n",
      "~~~~~~~~~Bans_Households_Not_Individuals_Outdoor_Only\n",
      "[nan  3.]\n",
      "~~~~~~~~~Date_Signed\n",
      "[nan '2020-03-19' '2020-03-20' '2020-04-28' '2020-11-05' '2020-12-09'\n",
      " '2020-03-17' '2020-03-23' '2020-04-21' '2020-04-24' '2020-05-19'\n",
      " '2020-06-29' '2020-07-23' '2020-12-02' '2020-03-26' '2020-04-04'\n",
      " '2020-05-04' '2020-05-18' '2020-06-15' '2020-11-03' '2020-03-16'\n",
      " '2020-09-12' '2020-10-09' '2020-11-13' '2020-11-17' '2020-11-24'\n",
      " '2020-11-28' '2020-12-01' '2020-12-08' '2020-12-15' '2020-12-16'\n",
      " '2020-12-10' '2020-12-05' '2020-12-22' '2020-12-29' '2020-03-18'\n",
      " '2020-03-27' '2020-04-01' '2020-04-09' '2020-04-26' '2020-05-08'\n",
      " '2020-05-14' '2020-05-26' '2020-06-05' '2020-06-18' '2020-06-30'\n",
      " '2020-07-30' '2020-08-21' '2020-09-20' '2020-09-22' '2020-09-28'\n",
      " '2020-09-29' '2020-10-02' '2020-10-05' '2020-10-08' '2020-10-17'\n",
      " '2020-10-24' '2020-10-29' '2020-10-31' '2020-11-02' '2020-11-07'\n",
      " '2020-11-11' '2020-11-18' '2020-11-20' '2020-11-23' '2020-11-25'\n",
      " '2020-12-03' '2020-12-07' '2020-09-08' '2020-09-15' '2020-03-12'\n",
      " '2020-04-10' '2020-05-29' '2020-06-16' '2020-06-17' '2020-07-03'\n",
      " '2020-11-06' '2020-05-31' '2020-06-14' '2020-06-19' '2020-07-24'\n",
      " '2020-08-26' '2020-09-01' '2020-09-03' '2020-09-25' '2020-03-24'\n",
      " '2020-04-15' '2020-05-13' '2020-05-27' '2020-07-22' '2020-10-07'\n",
      " '2020-03-25' '2020-04-29' '2020-05-09' '2020-06-03' '2020-06-20'\n",
      " '2020-07-07' '2020-07-20' '2020-08-05' '2020-04-02' '2020-04-08'\n",
      " '2020-04-20' '2020-04-23' '2020-05-12' '2020-05-28' '2020-06-11'\n",
      " '2020-07-15' '2020-07-31' '2020-08-15' '2020-08-31' '2020-09-30'\n",
      " '2020-10-15' '2020-10-30' '2020-11-30' '2020-04-25' '2020-05-05'\n",
      " '2020-06-10' '2020-06-26' '2020-10-18' '2020-12-17' '2020-08-03'\n",
      " '2020-08-06' '2020-08-19' '2020-08-25' '2020-09-23' '2020-10-20'\n",
      " '2020-07-17' '2020-08-20' '2020-05-03' '2020-08-11' '2020-10-23'\n",
      " '2020-04-27' '2020-05-07' '2020-06-09' '2020-07-08' '2020-08-07'\n",
      " '2020-08-28' '2020-10-01' '2020-10-14' '2020-10-26' '2020-11-10'\n",
      " '2020-12-24' '2020-04-30' '2020-12-30' '2020-03-13' '2020-09-18'\n",
      " '2020-10-16' '2020-12-11' '2020-10-21' '2020-08-18' '2020-09-02'\n",
      " '2020-10-27' '2020-04-06' '2020-05-01' '2020-05-21' '2020-07-01'\n",
      " '2020-07-16' '2020-09-24' '2020-12-06' '2020-12-14' '2020-12-21'\n",
      " '2020-12-28' '2020-06-25' '2020-11-16' '2020-04-16' '2020-04-07'\n",
      " '2020-04-17' '2020-05-20' '2020-03-22' '2020-07-11' '2020-09-11'\n",
      " '2020-03-31' '2020-08-01' '2020-10-06' '2020-11-04' '2020-03-30'\n",
      " '2020-05-06' '2020-03-15' '2020-05-15' '2020-06-06' '2020-07-02'\n",
      " '2020-05-22' '2020-06-01' '2020-07-29' '2020-11-15' '2020-12-18'\n",
      " '2020-07-19' '2020-08-14' '2020-09-13' '2020-10-19' '2020-07-10'\n",
      " '2020-03-21' '2020-04-03' '2020-04-22' '2020-05-11' '2020-07-28'\n",
      " '2020-08-10' '2020-11-09' '2020-03-29' '2020-12-13' '2020-11-14'\n",
      " '2020-06-22' '2020-04-11' '2020-06-12' '2020-07-13' '2020-10-22'\n",
      " '2020-06-13' '2020-06-23' '2020-06-24' '2020-07-06' '2020-07-09'\n",
      " '2020-07-21' '2020-10-28' '2020-11-19' '2020-03-14' '2020-09-04'\n",
      " '2020-04-13' '2020-05-30' '2020-05-23' '2020-06-08' '2020-07-14'\n",
      " '2020-08-13' '2020-08-17' '2020-09-19' '2020-03-28' '2020-06-04'\n",
      " '2020-08-02' '2020-09-09' '2020-11-08' '2020-12-23' '2020-08-29'\n",
      " '2020-12-20' '2020-09-17' '2020-07-27' '2020-08-08' '2020-11-12'\n",
      " '2020-06-02' '2020-09-10' '2020-10-13' '2020-03-11' '2020-09-26'\n",
      " '2020-10-03' '2020-10-10' '2020-11-21' '2020-11-27' '2020-11-29'\n",
      " '2020-12-12' '2020-12-19' '2020-12-27' '2020-08-12' '2020-11-01'\n",
      " '2020-04-05' '2020-08-27' '2020-05-25' '2020-09-07' '2020-04-12']\n",
      "~~~~~~~~~Express_Preemption\n",
      "[nan 'Expressly Preempts w/ Process for Approval' 'Expressly Preempts'\n",
      " 'Expressly Preempts Less Restrictive Measures' 'Unknown'\n",
      " 'Expressly Does Not Preempt' 'Expressly Does Not Preempt Generally']\n",
      "~~~~~~~~~origin_dataset\n",
      "[nan 'state.terr']\n",
      "~~~~~~~~~Indoor_Outdoor\n",
      "[nan 'Outdoor only' 'Indoor only' 'Indoor/Outdoor' 'indoor only' 'Outdoor'\n",
      " 'Indoor']\n",
      "~~~~~~~~~Source_of_Action\n",
      "[nan 'Official' 'News' 'Offcial' 'Official�' 'Oficial' '�' 'Press Release'\n",
      " 'official' 'Official Announcement' 'News Media']\n"
     ]
    }
   ],
   "source": [
    "for col in bans_columns[:35]:\n",
    "    print(\"~~~~~~~~~\"+col)\n",
    "    print(bans[col].unique())"
   ]
  },
  {
   "cell_type": "code",
   "execution_count": 7,
   "metadata": {},
   "outputs": [
    {
     "output_type": "stream",
     "name": "stdout",
     "text": [
      "Index(['State_Tribe_Territory', 'County_Name', 'FIPS_State', 'FIPS_County',\n       'date', 'General_GB_order_group', 'General_GB_order_code',\n       'General_or_Under_6ft_Bans_Gatherings_Over', 'With_SD_order_group',\n       'With_SD_order_code', 'Over_6ft_Bans_Gatherings_Over',\n       'outdoor_order_group', 'outdoor_order_code',\n       'General_Or_Under_6ft_Bans_Outdoor_Gatherings_Over',\n       'With_SD_outdoor_order_group', 'With_SD_outdoor_order_code',\n       'Over_6ft_Bans_Outdoor_Gatherings_Over', 'Current_order_status',\n       'Jurisdiction_Type', 'Issuing_Jurisdiction', 'Effective_date',\n       'Expiration_date', 'Effective_NA_Reason', 'Expiration_NA_Reason',\n       'General_Household_Order_Group', 'General_Household_order_code',\n       'Bans_Households_Not_Individuals_Generally',\n       'Outdoor_Household_Order_Group', 'Outdoor_Household_Order_Code',\n       'Bans_Households_Not_Individuals_Outdoor_Only', 'Date_Signed',\n       'Express_Preemption', 'origin_dataset', 'Indoor_Outdoor',\n       'Source_of_Action', 'URL', 'Citation'],\n      dtype='object')\n"
     ]
    }
   ],
   "source": [
    "print(bans_columns)"
   ]
  },
  {
   "cell_type": "code",
   "execution_count": 8,
   "metadata": {},
   "outputs": [
    {
     "output_type": "execute_result",
     "data": {
      "text/plain": [
       "array(['AL', 'AK', 'AZ', 'AR', 'CA', 'CO', 'CT', 'DE', 'DC', 'FL', 'GA',\n",
       "       'HI', 'ID', 'IL', 'IN', 'IA', 'KS', 'KY', 'LA', 'ME', 'MD', 'MA',\n",
       "       'MI', 'MN', 'MS', 'MO', 'MT', 'NE', 'NV', 'NH', 'NJ', 'NM', 'NY',\n",
       "       'NC', 'ND', 'OH', 'OK', 'OR', 'PA', 'RI', 'SC', 'SD', 'TN', 'TX',\n",
       "       'UT', 'VT', 'VA', 'WA', 'WV', 'WI', 'WY'], dtype=object)"
      ]
     },
     "metadata": {},
     "execution_count": 8
    }
   ],
   "source": [
    "#drop US territories, keep DC\n",
    "bans_us = bans.copy()\n",
    "bans_us = bans_us[~bans_us['State_Tribe_Territory'].isin(['AS','GU','MP','PR','VI'])]\n",
    "bans_us.rename(columns={'State_Tribe_Territory':'State'},inplace=True)\n",
    "bans_us['State'].unique()"
   ]
  },
  {
   "cell_type": "code",
   "execution_count": 9,
   "metadata": {},
   "outputs": [
    {
     "output_type": "execute_result",
     "data": {
      "text/plain": [
       "   State     County_Name        date Effective_date Expiration_date  \\\n",
       "17    AL  Autauga County  2020-03-28     2020-03-28      2020-05-15   \n",
       "18    AL  Autauga County  2020-03-29     2020-03-28      2020-05-15   \n",
       "19    AL  Autauga County  2020-03-30     2020-03-28      2020-05-15   \n",
       "20    AL  Autauga County  2020-03-31     2020-03-28      2020-05-15   \n",
       "21    AL  Autauga County  2020-04-01     2020-03-28      2020-05-15   \n",
       "\n",
       "    Order_type                         Order_group  Order_code  \\\n",
       "17  General_GB  Ban of gatherings over 1-10 people           6   \n",
       "18  General_GB  Ban of gatherings over 1-10 people           6   \n",
       "19  General_GB  Ban of gatherings over 1-10 people           6   \n",
       "20  General_GB  Ban of gatherings over 1-10 people           6   \n",
       "21  General_GB  Ban of gatherings over 1-10 people           6   \n",
       "\n",
       "   Current_order_status  \n",
       "17            In effect  \n",
       "18            In effect  \n",
       "19            In effect  \n",
       "20            In effect  \n",
       "21            In effect  "
      ],
      "text/html": "<div>\n<style scoped>\n    .dataframe tbody tr th:only-of-type {\n        vertical-align: middle;\n    }\n\n    .dataframe tbody tr th {\n        vertical-align: top;\n    }\n\n    .dataframe thead th {\n        text-align: right;\n    }\n</style>\n<table border=\"1\" class=\"dataframe\">\n  <thead>\n    <tr style=\"text-align: right;\">\n      <th></th>\n      <th>State</th>\n      <th>County_Name</th>\n      <th>date</th>\n      <th>Effective_date</th>\n      <th>Expiration_date</th>\n      <th>Order_type</th>\n      <th>Order_group</th>\n      <th>Order_code</th>\n      <th>Current_order_status</th>\n    </tr>\n  </thead>\n  <tbody>\n    <tr>\n      <th>17</th>\n      <td>AL</td>\n      <td>Autauga County</td>\n      <td>2020-03-28</td>\n      <td>2020-03-28</td>\n      <td>2020-05-15</td>\n      <td>General_GB</td>\n      <td>Ban of gatherings over 1-10 people</td>\n      <td>6</td>\n      <td>In effect</td>\n    </tr>\n    <tr>\n      <th>18</th>\n      <td>AL</td>\n      <td>Autauga County</td>\n      <td>2020-03-29</td>\n      <td>2020-03-28</td>\n      <td>2020-05-15</td>\n      <td>General_GB</td>\n      <td>Ban of gatherings over 1-10 people</td>\n      <td>6</td>\n      <td>In effect</td>\n    </tr>\n    <tr>\n      <th>19</th>\n      <td>AL</td>\n      <td>Autauga County</td>\n      <td>2020-03-30</td>\n      <td>2020-03-28</td>\n      <td>2020-05-15</td>\n      <td>General_GB</td>\n      <td>Ban of gatherings over 1-10 people</td>\n      <td>6</td>\n      <td>In effect</td>\n    </tr>\n    <tr>\n      <th>20</th>\n      <td>AL</td>\n      <td>Autauga County</td>\n      <td>2020-03-31</td>\n      <td>2020-03-28</td>\n      <td>2020-05-15</td>\n      <td>General_GB</td>\n      <td>Ban of gatherings over 1-10 people</td>\n      <td>6</td>\n      <td>In effect</td>\n    </tr>\n    <tr>\n      <th>21</th>\n      <td>AL</td>\n      <td>Autauga County</td>\n      <td>2020-04-01</td>\n      <td>2020-03-28</td>\n      <td>2020-05-15</td>\n      <td>General_GB</td>\n      <td>Ban of gatherings over 1-10 people</td>\n      <td>6</td>\n      <td>In effect</td>\n    </tr>\n  </tbody>\n</table>\n</div>"
     },
     "metadata": {},
     "execution_count": 9
    }
   ],
   "source": [
    "#Decide on what columns to keep\n",
    "GB_cols = [\n",
    "    'State',\n",
    "    'County_Name',\n",
    "    'date',\n",
    "    'Effective_date',\n",
    "    'Expiration_date',\n",
    "    'General_GB_order_group',\n",
    "    'General_GB_order_code',\n",
    "    'Current_order_status'\n",
    "]\n",
    "\n",
    "bans_us_GB = bans_us.copy()\n",
    "bans_us_GB = bans_us_GB[GB_cols]\n",
    "bans_us_GB = bans_us_GB[bans_us_GB['General_GB_order_code']!=1]\n",
    "bans_us_GB.insert(5,'Order_type','General_GB')\n",
    "bans_us_GB.rename(columns={'General_GB_order_group':'Order_group','General_GB_order_code':'Order_code'},inplace=True)\n",
    "bans_us_GB.head()\n",
    "\n"
   ]
  },
  {
   "cell_type": "code",
   "execution_count": 10,
   "metadata": {},
   "outputs": [
    {
     "output_type": "execute_result",
     "data": {
      "text/plain": [
       "      State             County_Name        date Effective_date  \\\n",
       "19876    AK  Aleutians East Borough  2020-04-24     2020-04-24   \n",
       "19877    AK  Aleutians East Borough  2020-04-25     2020-04-24   \n",
       "19878    AK  Aleutians East Borough  2020-04-26     2020-04-24   \n",
       "19879    AK  Aleutians East Borough  2020-04-27     2020-04-24   \n",
       "19880    AK  Aleutians East Borough  2020-04-28     2020-04-24   \n",
       "\n",
       "      Expiration_date Order_type                  Order_group  Order_code  \\\n",
       "19876             NaN    Outdoor  Bans gatherings of any size           7   \n",
       "19877             NaN    Outdoor  Bans gatherings of any size           7   \n",
       "19878             NaN    Outdoor  Bans gatherings of any size           7   \n",
       "19879             NaN    Outdoor  Bans gatherings of any size           7   \n",
       "19880             NaN    Outdoor  Bans gatherings of any size           7   \n",
       "\n",
       "      Current_order_status  \n",
       "19876            In effect  \n",
       "19877            In effect  \n",
       "19878            In effect  \n",
       "19879            In effect  \n",
       "19880            In effect  "
      ],
      "text/html": "<div>\n<style scoped>\n    .dataframe tbody tr th:only-of-type {\n        vertical-align: middle;\n    }\n\n    .dataframe tbody tr th {\n        vertical-align: top;\n    }\n\n    .dataframe thead th {\n        text-align: right;\n    }\n</style>\n<table border=\"1\" class=\"dataframe\">\n  <thead>\n    <tr style=\"text-align: right;\">\n      <th></th>\n      <th>State</th>\n      <th>County_Name</th>\n      <th>date</th>\n      <th>Effective_date</th>\n      <th>Expiration_date</th>\n      <th>Order_type</th>\n      <th>Order_group</th>\n      <th>Order_code</th>\n      <th>Current_order_status</th>\n    </tr>\n  </thead>\n  <tbody>\n    <tr>\n      <th>19876</th>\n      <td>AK</td>\n      <td>Aleutians East Borough</td>\n      <td>2020-04-24</td>\n      <td>2020-04-24</td>\n      <td>NaN</td>\n      <td>Outdoor</td>\n      <td>Bans gatherings of any size</td>\n      <td>7</td>\n      <td>In effect</td>\n    </tr>\n    <tr>\n      <th>19877</th>\n      <td>AK</td>\n      <td>Aleutians East Borough</td>\n      <td>2020-04-25</td>\n      <td>2020-04-24</td>\n      <td>NaN</td>\n      <td>Outdoor</td>\n      <td>Bans gatherings of any size</td>\n      <td>7</td>\n      <td>In effect</td>\n    </tr>\n    <tr>\n      <th>19878</th>\n      <td>AK</td>\n      <td>Aleutians East Borough</td>\n      <td>2020-04-26</td>\n      <td>2020-04-24</td>\n      <td>NaN</td>\n      <td>Outdoor</td>\n      <td>Bans gatherings of any size</td>\n      <td>7</td>\n      <td>In effect</td>\n    </tr>\n    <tr>\n      <th>19879</th>\n      <td>AK</td>\n      <td>Aleutians East Borough</td>\n      <td>2020-04-27</td>\n      <td>2020-04-24</td>\n      <td>NaN</td>\n      <td>Outdoor</td>\n      <td>Bans gatherings of any size</td>\n      <td>7</td>\n      <td>In effect</td>\n    </tr>\n    <tr>\n      <th>19880</th>\n      <td>AK</td>\n      <td>Aleutians East Borough</td>\n      <td>2020-04-28</td>\n      <td>2020-04-24</td>\n      <td>NaN</td>\n      <td>Outdoor</td>\n      <td>Bans gatherings of any size</td>\n      <td>7</td>\n      <td>In effect</td>\n    </tr>\n  </tbody>\n</table>\n</div>"
     },
     "metadata": {},
     "execution_count": 10
    }
   ],
   "source": [
    "Outdoor_cols = [\n",
    "    'State',\n",
    "    'County_Name',\n",
    "    'date',\n",
    "    'Effective_date',\n",
    "    'Expiration_date',\n",
    "    'outdoor_order_group',\n",
    "    'outdoor_order_code',\n",
    "    'Current_order_status'\n",
    "]\n",
    "\n",
    "bans_us_Outdoor = bans_us.copy()\n",
    "bans_us_Outdoor = bans_us_Outdoor[Outdoor_cols]\n",
    "bans_us_Outdoor = bans_us_Outdoor[bans_us_Outdoor['outdoor_order_code']!=1]\n",
    "bans_us_Outdoor.insert(5,'Order_type','Outdoor')\n",
    "bans_us_Outdoor.rename(columns={'outdoor_order_group':'Order_group','outdoor_order_code':'Order_code'},inplace=True)\n",
    "bans_us_Outdoor.head()"
   ]
  },
  {
   "cell_type": "code",
   "execution_count": 11,
   "metadata": {},
   "outputs": [
    {
     "output_type": "execute_result",
     "data": {
      "text/plain": [
       "      State             County_Name        date Effective_date  \\\n",
       "19876    AK  Aleutians East Borough  2020-04-24     2020-04-24   \n",
       "19877    AK  Aleutians East Borough  2020-04-25     2020-04-24   \n",
       "19878    AK  Aleutians East Borough  2020-04-26     2020-04-24   \n",
       "19879    AK  Aleutians East Borough  2020-04-27     2020-04-24   \n",
       "19880    AK  Aleutians East Borough  2020-04-28     2020-04-24   \n",
       "\n",
       "      Expiration_date       Order_type                          Order_group  \\\n",
       "19876             NaN  With_SD_outdoor  Ban of gatherings over 11-25 people   \n",
       "19877             NaN  With_SD_outdoor  Ban of gatherings over 11-25 people   \n",
       "19878             NaN  With_SD_outdoor  Ban of gatherings over 11-25 people   \n",
       "19879             NaN  With_SD_outdoor  Ban of gatherings over 11-25 people   \n",
       "19880             NaN  With_SD_outdoor  Ban of gatherings over 11-25 people   \n",
       "\n",
       "       Order_code Current_order_status  \n",
       "19876           5            In effect  \n",
       "19877           5            In effect  \n",
       "19878           5            In effect  \n",
       "19879           5            In effect  \n",
       "19880           5            In effect  "
      ],
      "text/html": "<div>\n<style scoped>\n    .dataframe tbody tr th:only-of-type {\n        vertical-align: middle;\n    }\n\n    .dataframe tbody tr th {\n        vertical-align: top;\n    }\n\n    .dataframe thead th {\n        text-align: right;\n    }\n</style>\n<table border=\"1\" class=\"dataframe\">\n  <thead>\n    <tr style=\"text-align: right;\">\n      <th></th>\n      <th>State</th>\n      <th>County_Name</th>\n      <th>date</th>\n      <th>Effective_date</th>\n      <th>Expiration_date</th>\n      <th>Order_type</th>\n      <th>Order_group</th>\n      <th>Order_code</th>\n      <th>Current_order_status</th>\n    </tr>\n  </thead>\n  <tbody>\n    <tr>\n      <th>19876</th>\n      <td>AK</td>\n      <td>Aleutians East Borough</td>\n      <td>2020-04-24</td>\n      <td>2020-04-24</td>\n      <td>NaN</td>\n      <td>With_SD_outdoor</td>\n      <td>Ban of gatherings over 11-25 people</td>\n      <td>5</td>\n      <td>In effect</td>\n    </tr>\n    <tr>\n      <th>19877</th>\n      <td>AK</td>\n      <td>Aleutians East Borough</td>\n      <td>2020-04-25</td>\n      <td>2020-04-24</td>\n      <td>NaN</td>\n      <td>With_SD_outdoor</td>\n      <td>Ban of gatherings over 11-25 people</td>\n      <td>5</td>\n      <td>In effect</td>\n    </tr>\n    <tr>\n      <th>19878</th>\n      <td>AK</td>\n      <td>Aleutians East Borough</td>\n      <td>2020-04-26</td>\n      <td>2020-04-24</td>\n      <td>NaN</td>\n      <td>With_SD_outdoor</td>\n      <td>Ban of gatherings over 11-25 people</td>\n      <td>5</td>\n      <td>In effect</td>\n    </tr>\n    <tr>\n      <th>19879</th>\n      <td>AK</td>\n      <td>Aleutians East Borough</td>\n      <td>2020-04-27</td>\n      <td>2020-04-24</td>\n      <td>NaN</td>\n      <td>With_SD_outdoor</td>\n      <td>Ban of gatherings over 11-25 people</td>\n      <td>5</td>\n      <td>In effect</td>\n    </tr>\n    <tr>\n      <th>19880</th>\n      <td>AK</td>\n      <td>Aleutians East Borough</td>\n      <td>2020-04-28</td>\n      <td>2020-04-24</td>\n      <td>NaN</td>\n      <td>With_SD_outdoor</td>\n      <td>Ban of gatherings over 11-25 people</td>\n      <td>5</td>\n      <td>In effect</td>\n    </tr>\n  </tbody>\n</table>\n</div>"
     },
     "metadata": {},
     "execution_count": 11
    }
   ],
   "source": [
    "SD_outdoor_cols = [\n",
    "    'State',\n",
    "    'County_Name',\n",
    "    'date',\n",
    "    'Effective_date',\n",
    "    'Expiration_date',\n",
    "    'With_SD_outdoor_order_group',\n",
    "    'With_SD_outdoor_order_code',\n",
    "    'Current_order_status'\n",
    "]\n",
    "\n",
    "bans_us_SD_outdoor = bans_us.copy()\n",
    "bans_us_SD_outdoor = bans_us_SD_outdoor[SD_outdoor_cols]\n",
    "bans_us_SD_outdoor = bans_us_SD_outdoor[bans_us_SD_outdoor['With_SD_outdoor_order_code']!=1]\n",
    "bans_us_SD_outdoor.insert(5,'Order_type','With_SD_outdoor')\n",
    "bans_us_SD_outdoor.rename(columns={'With_SD_outdoor_order_group':'Order_group','With_SD_outdoor_order_code':'Order_code'},inplace=True)\n",
    "bans_us_SD_outdoor.head()"
   ]
  },
  {
   "cell_type": "code",
   "execution_count": 12,
   "metadata": {},
   "outputs": [
    {
     "output_type": "execute_result",
     "data": {
      "text/plain": [
       "      State     County_Name        date Effective_date Expiration_date  \\\n",
       "55268    CA  Alameda County  2020-10-09     2020-10-09             NaN   \n",
       "55269    CA  Alameda County  2020-10-10     2020-10-09             NaN   \n",
       "55270    CA  Alameda County  2020-10-11     2020-10-09             NaN   \n",
       "55271    CA  Alameda County  2020-10-12     2020-10-09             NaN   \n",
       "55272    CA  Alameda County  2020-10-13     2020-10-09             NaN   \n",
       "\n",
       "              Order_type                  Order_group  Order_code  \\\n",
       "55268  General_household  Bans gatherings of any size           7   \n",
       "55269  General_household  Bans gatherings of any size           7   \n",
       "55270  General_household  Bans gatherings of any size           7   \n",
       "55271  General_household  Bans gatherings of any size           7   \n",
       "55272  General_household  Bans gatherings of any size           7   \n",
       "\n",
       "      Current_order_status  \n",
       "55268            In effect  \n",
       "55269            In effect  \n",
       "55270            In effect  \n",
       "55271            In effect  \n",
       "55272            In effect  "
      ],
      "text/html": "<div>\n<style scoped>\n    .dataframe tbody tr th:only-of-type {\n        vertical-align: middle;\n    }\n\n    .dataframe tbody tr th {\n        vertical-align: top;\n    }\n\n    .dataframe thead th {\n        text-align: right;\n    }\n</style>\n<table border=\"1\" class=\"dataframe\">\n  <thead>\n    <tr style=\"text-align: right;\">\n      <th></th>\n      <th>State</th>\n      <th>County_Name</th>\n      <th>date</th>\n      <th>Effective_date</th>\n      <th>Expiration_date</th>\n      <th>Order_type</th>\n      <th>Order_group</th>\n      <th>Order_code</th>\n      <th>Current_order_status</th>\n    </tr>\n  </thead>\n  <tbody>\n    <tr>\n      <th>55268</th>\n      <td>CA</td>\n      <td>Alameda County</td>\n      <td>2020-10-09</td>\n      <td>2020-10-09</td>\n      <td>NaN</td>\n      <td>General_household</td>\n      <td>Bans gatherings of any size</td>\n      <td>7</td>\n      <td>In effect</td>\n    </tr>\n    <tr>\n      <th>55269</th>\n      <td>CA</td>\n      <td>Alameda County</td>\n      <td>2020-10-10</td>\n      <td>2020-10-09</td>\n      <td>NaN</td>\n      <td>General_household</td>\n      <td>Bans gatherings of any size</td>\n      <td>7</td>\n      <td>In effect</td>\n    </tr>\n    <tr>\n      <th>55270</th>\n      <td>CA</td>\n      <td>Alameda County</td>\n      <td>2020-10-11</td>\n      <td>2020-10-09</td>\n      <td>NaN</td>\n      <td>General_household</td>\n      <td>Bans gatherings of any size</td>\n      <td>7</td>\n      <td>In effect</td>\n    </tr>\n    <tr>\n      <th>55271</th>\n      <td>CA</td>\n      <td>Alameda County</td>\n      <td>2020-10-12</td>\n      <td>2020-10-09</td>\n      <td>NaN</td>\n      <td>General_household</td>\n      <td>Bans gatherings of any size</td>\n      <td>7</td>\n      <td>In effect</td>\n    </tr>\n    <tr>\n      <th>55272</th>\n      <td>CA</td>\n      <td>Alameda County</td>\n      <td>2020-10-13</td>\n      <td>2020-10-09</td>\n      <td>NaN</td>\n      <td>General_household</td>\n      <td>Bans gatherings of any size</td>\n      <td>7</td>\n      <td>In effect</td>\n    </tr>\n  </tbody>\n</table>\n</div>"
     },
     "metadata": {},
     "execution_count": 12
    }
   ],
   "source": [
    "HH_cols = [\n",
    "    'State',\n",
    "    'County_Name',\n",
    "    'date',\n",
    "    'Effective_date',\n",
    "    'Expiration_date',\n",
    "    'General_Household_Order_Group',\n",
    "    'General_Household_order_code',\n",
    "    'Current_order_status'\n",
    "]\n",
    "\n",
    "bans_us_HH = bans_us.copy()\n",
    "bans_us_HH = bans_us_HH[HH_cols]\n",
    "bans_us_HH = bans_us_HH[bans_us_HH['General_Household_order_code']!=1]\n",
    "bans_us_HH.insert(5,'Order_type','General_household')\n",
    "bans_us_HH.rename(columns={'General_Household_Order_Group':'Order_group','General_Household_order_code':'Order_code'},inplace=True)\n",
    "bans_us_HH.head()"
   ]
  },
  {
   "cell_type": "code",
   "execution_count": 13,
   "metadata": {},
   "outputs": [
    {
     "output_type": "execute_result",
     "data": {
      "text/plain": [
       "      State     County_Name        date Effective_date Expiration_date  \\\n",
       "55268    CA  Alameda County  2020-10-09     2020-10-09             NaN   \n",
       "55269    CA  Alameda County  2020-10-10     2020-10-09             NaN   \n",
       "55270    CA  Alameda County  2020-10-11     2020-10-09             NaN   \n",
       "55271    CA  Alameda County  2020-10-12     2020-10-09             NaN   \n",
       "55272    CA  Alameda County  2020-10-13     2020-10-09             NaN   \n",
       "\n",
       "              Order_type                             Order_group  Order_code  \\\n",
       "55268  Outdoor_household  Ban of gatherings over 1-10 households           7   \n",
       "55269  Outdoor_household  Ban of gatherings over 1-10 households           7   \n",
       "55270  Outdoor_household  Ban of gatherings over 1-10 households           7   \n",
       "55271  Outdoor_household  Ban of gatherings over 1-10 households           7   \n",
       "55272  Outdoor_household  Ban of gatherings over 1-10 households           7   \n",
       "\n",
       "      Current_order_status  \n",
       "55268            In effect  \n",
       "55269            In effect  \n",
       "55270            In effect  \n",
       "55271            In effect  \n",
       "55272            In effect  "
      ],
      "text/html": "<div>\n<style scoped>\n    .dataframe tbody tr th:only-of-type {\n        vertical-align: middle;\n    }\n\n    .dataframe tbody tr th {\n        vertical-align: top;\n    }\n\n    .dataframe thead th {\n        text-align: right;\n    }\n</style>\n<table border=\"1\" class=\"dataframe\">\n  <thead>\n    <tr style=\"text-align: right;\">\n      <th></th>\n      <th>State</th>\n      <th>County_Name</th>\n      <th>date</th>\n      <th>Effective_date</th>\n      <th>Expiration_date</th>\n      <th>Order_type</th>\n      <th>Order_group</th>\n      <th>Order_code</th>\n      <th>Current_order_status</th>\n    </tr>\n  </thead>\n  <tbody>\n    <tr>\n      <th>55268</th>\n      <td>CA</td>\n      <td>Alameda County</td>\n      <td>2020-10-09</td>\n      <td>2020-10-09</td>\n      <td>NaN</td>\n      <td>Outdoor_household</td>\n      <td>Ban of gatherings over 1-10 households</td>\n      <td>7</td>\n      <td>In effect</td>\n    </tr>\n    <tr>\n      <th>55269</th>\n      <td>CA</td>\n      <td>Alameda County</td>\n      <td>2020-10-10</td>\n      <td>2020-10-09</td>\n      <td>NaN</td>\n      <td>Outdoor_household</td>\n      <td>Ban of gatherings over 1-10 households</td>\n      <td>7</td>\n      <td>In effect</td>\n    </tr>\n    <tr>\n      <th>55270</th>\n      <td>CA</td>\n      <td>Alameda County</td>\n      <td>2020-10-11</td>\n      <td>2020-10-09</td>\n      <td>NaN</td>\n      <td>Outdoor_household</td>\n      <td>Ban of gatherings over 1-10 households</td>\n      <td>7</td>\n      <td>In effect</td>\n    </tr>\n    <tr>\n      <th>55271</th>\n      <td>CA</td>\n      <td>Alameda County</td>\n      <td>2020-10-12</td>\n      <td>2020-10-09</td>\n      <td>NaN</td>\n      <td>Outdoor_household</td>\n      <td>Ban of gatherings over 1-10 households</td>\n      <td>7</td>\n      <td>In effect</td>\n    </tr>\n    <tr>\n      <th>55272</th>\n      <td>CA</td>\n      <td>Alameda County</td>\n      <td>2020-10-13</td>\n      <td>2020-10-09</td>\n      <td>NaN</td>\n      <td>Outdoor_household</td>\n      <td>Ban of gatherings over 1-10 households</td>\n      <td>7</td>\n      <td>In effect</td>\n    </tr>\n  </tbody>\n</table>\n</div>"
     },
     "metadata": {},
     "execution_count": 13
    }
   ],
   "source": [
    "Outdoor_HH_cols = [\n",
    "    'State',\n",
    "    'County_Name',\n",
    "    'date',\n",
    "    'Effective_date',\n",
    "    'Expiration_date',\n",
    "    'Outdoor_Household_Order_Group',\n",
    "    'Outdoor_Household_Order_Code',\n",
    "    'Current_order_status'\n",
    "]\n",
    "\n",
    "bans_us_outdoor_HH = bans_us.copy()\n",
    "bans_us_outdoor_HH = bans_us_outdoor_HH[Outdoor_HH_cols]\n",
    "bans_us_outdoor_HH = bans_us_outdoor_HH[bans_us_outdoor_HH['Outdoor_Household_Order_Code']!=1]\n",
    "bans_us_outdoor_HH.insert(5,'Order_type','Outdoor_household')\n",
    "bans_us_outdoor_HH.rename(columns={'Outdoor_Household_Order_Group':'Order_group','Outdoor_Household_Order_Code':'Order_code'},inplace=True)\n",
    "bans_us_outdoor_HH.head()"
   ]
  },
  {
   "cell_type": "code",
   "execution_count": 14,
   "metadata": {},
   "outputs": [
    {
     "output_type": "stream",
     "name": "stdout",
     "text": [
      "(642428, 9)\n(130655, 9)\n(56241, 9)\n(3836, 9)\n(3836, 9)\n"
     ]
    }
   ],
   "source": [
    "order_frames = [bans_us_GB,bans_us_Outdoor,bans_us_SD_outdoor,bans_us_HH,bans_us_outdoor_HH]\n",
    "\n",
    "for frame in order_frames:\n",
    "    print(frame.shape)"
   ]
  },
  {
   "cell_type": "code",
   "execution_count": 15,
   "metadata": {},
   "outputs": [
    {
     "output_type": "execute_result",
     "data": {
      "text/plain": [
       "   State     County_Name        date Effective_date Expiration_date  \\\n",
       "17    AL  Autauga County  2020-03-28     2020-03-28      2020-05-15   \n",
       "18    AL  Autauga County  2020-03-29     2020-03-28      2020-05-15   \n",
       "19    AL  Autauga County  2020-03-30     2020-03-28      2020-05-15   \n",
       "20    AL  Autauga County  2020-03-31     2020-03-28      2020-05-15   \n",
       "21    AL  Autauga County  2020-04-01     2020-03-28      2020-05-15   \n",
       "\n",
       "    Order_type                         Order_group  Order_code  \\\n",
       "17  General_GB  Ban of gatherings over 1-10 people           6   \n",
       "18  General_GB  Ban of gatherings over 1-10 people           6   \n",
       "19  General_GB  Ban of gatherings over 1-10 people           6   \n",
       "20  General_GB  Ban of gatherings over 1-10 people           6   \n",
       "21  General_GB  Ban of gatherings over 1-10 people           6   \n",
       "\n",
       "   Current_order_status  \n",
       "17            In effect  \n",
       "18            In effect  \n",
       "19            In effect  \n",
       "20            In effect  \n",
       "21            In effect  "
      ],
      "text/html": "<div>\n<style scoped>\n    .dataframe tbody tr th:only-of-type {\n        vertical-align: middle;\n    }\n\n    .dataframe tbody tr th {\n        vertical-align: top;\n    }\n\n    .dataframe thead th {\n        text-align: right;\n    }\n</style>\n<table border=\"1\" class=\"dataframe\">\n  <thead>\n    <tr style=\"text-align: right;\">\n      <th></th>\n      <th>State</th>\n      <th>County_Name</th>\n      <th>date</th>\n      <th>Effective_date</th>\n      <th>Expiration_date</th>\n      <th>Order_type</th>\n      <th>Order_group</th>\n      <th>Order_code</th>\n      <th>Current_order_status</th>\n    </tr>\n  </thead>\n  <tbody>\n    <tr>\n      <th>17</th>\n      <td>AL</td>\n      <td>Autauga County</td>\n      <td>2020-03-28</td>\n      <td>2020-03-28</td>\n      <td>2020-05-15</td>\n      <td>General_GB</td>\n      <td>Ban of gatherings over 1-10 people</td>\n      <td>6</td>\n      <td>In effect</td>\n    </tr>\n    <tr>\n      <th>18</th>\n      <td>AL</td>\n      <td>Autauga County</td>\n      <td>2020-03-29</td>\n      <td>2020-03-28</td>\n      <td>2020-05-15</td>\n      <td>General_GB</td>\n      <td>Ban of gatherings over 1-10 people</td>\n      <td>6</td>\n      <td>In effect</td>\n    </tr>\n    <tr>\n      <th>19</th>\n      <td>AL</td>\n      <td>Autauga County</td>\n      <td>2020-03-30</td>\n      <td>2020-03-28</td>\n      <td>2020-05-15</td>\n      <td>General_GB</td>\n      <td>Ban of gatherings over 1-10 people</td>\n      <td>6</td>\n      <td>In effect</td>\n    </tr>\n    <tr>\n      <th>20</th>\n      <td>AL</td>\n      <td>Autauga County</td>\n      <td>2020-03-31</td>\n      <td>2020-03-28</td>\n      <td>2020-05-15</td>\n      <td>General_GB</td>\n      <td>Ban of gatherings over 1-10 people</td>\n      <td>6</td>\n      <td>In effect</td>\n    </tr>\n    <tr>\n      <th>21</th>\n      <td>AL</td>\n      <td>Autauga County</td>\n      <td>2020-04-01</td>\n      <td>2020-03-28</td>\n      <td>2020-05-15</td>\n      <td>General_GB</td>\n      <td>Ban of gatherings over 1-10 people</td>\n      <td>6</td>\n      <td>In effect</td>\n    </tr>\n  </tbody>\n</table>\n</div>"
     },
     "metadata": {},
     "execution_count": 15
    }
   ],
   "source": [
    "ban_orders = pd.concat(order_frames)\n",
    "ban_orders.head()"
   ]
  },
  {
   "cell_type": "code",
   "execution_count": 16,
   "metadata": {},
   "outputs": [
    {
     "output_type": "stream",
     "name": "stdout",
     "text": [
      "(836996, 9)\n"
     ]
    }
   ],
   "source": [
    "print(ban_orders.shape)"
   ]
  },
  {
   "cell_type": "code",
   "execution_count": 17,
   "metadata": {},
   "outputs": [
    {
     "output_type": "execute_result",
     "data": {
      "text/plain": [
       "    State     County_Name Effective_date Expiration_date  Order_type  \\\n",
       "17     AL  Autauga County     2020-03-28      2020-05-15  General_GB   \n",
       "61     AL  Autauga County     2020-05-11      2020-12-11  General_GB   \n",
       "273    AL  Autauga County     2020-12-09      2021-01-22  General_GB   \n",
       "313    AL  Baldwin County     2020-03-28      2020-05-15  General_GB   \n",
       "357    AL  Baldwin County     2020-05-11      2020-12-11  General_GB   \n",
       "\n",
       "                            Order_group  Order_code Current_order_status  \n",
       "17   Ban of gatherings over 1-10 people           6            In effect  \n",
       "61          Bans gatherings of any size           7            In effect  \n",
       "273         Bans gatherings of any size           7            In effect  \n",
       "313  Ban of gatherings over 1-10 people           6            In effect  \n",
       "357         Bans gatherings of any size           7            In effect  "
      ],
      "text/html": "<div>\n<style scoped>\n    .dataframe tbody tr th:only-of-type {\n        vertical-align: middle;\n    }\n\n    .dataframe tbody tr th {\n        vertical-align: top;\n    }\n\n    .dataframe thead th {\n        text-align: right;\n    }\n</style>\n<table border=\"1\" class=\"dataframe\">\n  <thead>\n    <tr style=\"text-align: right;\">\n      <th></th>\n      <th>State</th>\n      <th>County_Name</th>\n      <th>Effective_date</th>\n      <th>Expiration_date</th>\n      <th>Order_type</th>\n      <th>Order_group</th>\n      <th>Order_code</th>\n      <th>Current_order_status</th>\n    </tr>\n  </thead>\n  <tbody>\n    <tr>\n      <th>17</th>\n      <td>AL</td>\n      <td>Autauga County</td>\n      <td>2020-03-28</td>\n      <td>2020-05-15</td>\n      <td>General_GB</td>\n      <td>Ban of gatherings over 1-10 people</td>\n      <td>6</td>\n      <td>In effect</td>\n    </tr>\n    <tr>\n      <th>61</th>\n      <td>AL</td>\n      <td>Autauga County</td>\n      <td>2020-05-11</td>\n      <td>2020-12-11</td>\n      <td>General_GB</td>\n      <td>Bans gatherings of any size</td>\n      <td>7</td>\n      <td>In effect</td>\n    </tr>\n    <tr>\n      <th>273</th>\n      <td>AL</td>\n      <td>Autauga County</td>\n      <td>2020-12-09</td>\n      <td>2021-01-22</td>\n      <td>General_GB</td>\n      <td>Bans gatherings of any size</td>\n      <td>7</td>\n      <td>In effect</td>\n    </tr>\n    <tr>\n      <th>313</th>\n      <td>AL</td>\n      <td>Baldwin County</td>\n      <td>2020-03-28</td>\n      <td>2020-05-15</td>\n      <td>General_GB</td>\n      <td>Ban of gatherings over 1-10 people</td>\n      <td>6</td>\n      <td>In effect</td>\n    </tr>\n    <tr>\n      <th>357</th>\n      <td>AL</td>\n      <td>Baldwin County</td>\n      <td>2020-05-11</td>\n      <td>2020-12-11</td>\n      <td>General_GB</td>\n      <td>Bans gatherings of any size</td>\n      <td>7</td>\n      <td>In effect</td>\n    </tr>\n  </tbody>\n</table>\n</div>"
     },
     "metadata": {},
     "execution_count": 17
    }
   ],
   "source": [
    "ban_orders_unique = ban_orders.copy()\n",
    "ban_orders_unique.drop(columns=['date'],inplace=True)\n",
    "ban_orders_unique.drop_duplicates(inplace=True)\n",
    "ban_orders_unique.head()"
   ]
  },
  {
   "cell_type": "code",
   "execution_count": 18,
   "metadata": {},
   "outputs": [
    {
     "output_type": "execute_result",
     "data": {
      "text/plain": [
       "(46319, 8)"
      ]
     },
     "metadata": {},
     "execution_count": 18
    }
   ],
   "source": [
    "ban_orders_unique.shape"
   ]
  },
  {
   "cell_type": "code",
   "execution_count": 19,
   "metadata": {},
   "outputs": [
    {
     "output_type": "stream",
     "name": "stdout",
     "text": [
      "['AL' 'AK' 'AR' 'CA' 'CO' 'CT' 'DE' 'DC' 'FL' 'GA' 'HI' 'ID' 'IL' 'IN'\n 'IA' 'KS' 'KY' 'LA' 'ME' 'MD' 'MA' 'MI' 'MN' 'MS' 'MO' 'MT' 'NE' 'NV'\n 'NH' 'NJ' 'NM' 'NY' 'NC' 'OH' 'OK' 'OR' 'PA' 'RI' 'SC' 'TN' 'TX' 'UT'\n 'VT' 'VA' 'WA' 'WV' 'WI' 'WY']\n"
     ]
    }
   ],
   "source": [
    "print(ban_orders_unique['State'].unique())"
   ]
  },
  {
   "source": [
    "Comparing the unique list of states before and after data wrangling, 'ND' and 'SD' and missing from the data after wrangling. This suggests that the two states were filtered out due to all their order codes being equal to 1, implying that the date of their gathering bans was either not recorded or not observed."
   ],
   "cell_type": "markdown",
   "metadata": {}
  },
  {
   "cell_type": "code",
   "execution_count": null,
   "metadata": {},
   "outputs": [],
   "source": []
  }
 ],
 "metadata": {
  "kernelspec": {
   "name": "python38332bit6ff5225c27384268b9881cbd8b3d106d",
   "display_name": "Python 3.8.3 32-bit"
  },
  "metadata": {
   "interpreter": {
    "hash": "8928c97c33a64ca7a9da5365a92bbaacc7f636b491d853b17363274fcd1c8973"
   }
  }
 },
 "nbformat": 4,
 "nbformat_minor": 4
}