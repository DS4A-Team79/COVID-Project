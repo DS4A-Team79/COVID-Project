{
 "cells": [
  {
   "cell_type": "code",
   "execution_count": 1,
   "metadata": {},
   "outputs": [],
   "source": [
    "import pandas as pd"
   ]
  },
  {
   "cell_type": "code",
   "execution_count": 2,
   "metadata": {},
   "outputs": [],
   "source": [
    "df=pd.read_csv(\"../Datasets/USDemos.csv\")\n",
    "## Subsetting on needed columns\n",
    "df = df[df[\"STATE\"] != 11]\n",
    "df=df.loc[:,[\"NAME\", \"SEX\", \"ORIGIN\", \"RACE\", \"AGE\", \"POPESTIMATE2019\"]]"
   ]
  },
  {
   "cell_type": "code",
   "execution_count": 3,
   "metadata": {},
   "outputs": [],
   "source": [
    "## dropping duplicates population counts\n",
    "df=df[df.SEX != 0]\n",
    "df=df[df.ORIGIN != 0]"
   ]
  },
  {
   "cell_type": "code",
   "execution_count": 4,
   "metadata": {},
   "outputs": [],
   "source": [
    "## recoding ages to groupings\n",
    "\n",
    "def age_recode(age):\n",
    "    if age<12:\n",
    "        return 0\n",
    "    elif age<18:\n",
    "        return 1\n",
    "    elif age<25:\n",
    "        return 2\n",
    "    elif age<35:\n",
    "        return 3\n",
    "    elif age<45:\n",
    "        return 4\n",
    "    elif age<55:\n",
    "        return 5\n",
    "    elif age<65:\n",
    "        return 6\n",
    "    elif age<75:\n",
    "        return 7\n",
    "    else:\n",
    "        return 8\n",
    "\n",
    "df[\"AGE_FACTOR\"] = df.AGE.apply((lambda x: age_recode(x)))"
   ]
  },
  {
   "cell_type": "code",
   "execution_count": 5,
   "metadata": {},
   "outputs": [],
   "source": [
    "df_states = df.groupby(\"NAME\").sum(\"POPESTIMATE2019\")\n",
    "df_states = df_states.loc[:,[\"POPESTIMATE2019\"]]"
   ]
  },
  {
   "cell_type": "code",
   "execution_count": 6,
   "metadata": {},
   "outputs": [],
   "source": [
    "origin_props = df.groupby([\"NAME\",\"ORIGIN\"]).POPESTIMATE2019.sum() / df_states.POPESTIMATE2019"
   ]
  },
  {
   "cell_type": "code",
   "execution_count": 7,
   "metadata": {},
   "outputs": [],
   "source": [
    "race_props = df.groupby([\"NAME\",\"RACE\"]).POPESTIMATE2019.sum() / df_states.POPESTIMATE2019"
   ]
  },
  {
   "cell_type": "code",
   "execution_count": 8,
   "metadata": {},
   "outputs": [],
   "source": [
    "age_props = df.groupby([\"NAME\",\"AGE_FACTOR\"]).POPESTIMATE2019.sum() / df_states.POPESTIMATE2019"
   ]
  },
  {
   "cell_type": "code",
   "execution_count": 9,
   "metadata": {},
   "outputs": [],
   "source": [
    "sex_props = pd.DataFrame(df.groupby([\"NAME\",\"SEX\"]).POPESTIMATE2019.sum() / df_states.POPESTIMATE2019)\n",
    "df_states[\"PERC_MALE\"] = sex_props.pivot_table(values=\"POPESTIMATE2019\", columns=\"SEX\", index = \"NAME\")[1]\n",
    "df_states[\"PERC_FEMALE\"] = sex_props.pivot_table(values=\"POPESTIMATE2019\", columns=\"SEX\", index = \"NAME\")[2]"
   ]
  },
  {
   "cell_type": "code",
   "execution_count": 10,
   "metadata": {},
   "outputs": [],
   "source": [
    "race_props = pd.DataFrame(df.groupby([\"NAME\",\"RACE\"]).POPESTIMATE2019.sum() / df_states.POPESTIMATE2019)\n",
    "df_states[\"PERC_WHITE\"] = race_props.pivot_table(values=\"POPESTIMATE2019\", columns=\"RACE\", index = \"NAME\")[1]\n",
    "df_states[\"PERC_BLACK\"] = race_props.pivot_table(values=\"POPESTIMATE2019\", columns=\"RACE\", index = \"NAME\")[2]\n",
    "df_states[\"PERC_NATIVE\"] = race_props.pivot_table(values=\"POPESTIMATE2019\", columns=\"RACE\", index = \"NAME\")[3]\n",
    "df_states[\"PERC_ASIAN\"] = race_props.pivot_table(values=\"POPESTIMATE2019\", columns=\"RACE\", index = \"NAME\")[4]\n",
    "df_states[\"PERC_PACIFIC\"] = race_props.pivot_table(values=\"POPESTIMATE2019\", columns=\"RACE\", index = \"NAME\")[5]"
   ]
  },
  {
   "cell_type": "code",
   "execution_count": 11,
   "metadata": {},
   "outputs": [],
   "source": [
    "origin_props = pd.DataFrame(df.groupby([\"NAME\",\"ORIGIN\"]).POPESTIMATE2019.sum() / df_states.POPESTIMATE2019)\n",
    "df_states[\"PERC_NOTHIS\"] = origin_props.pivot_table(values=\"POPESTIMATE2019\", columns=\"ORIGIN\", index = \"NAME\")[1]\n",
    "df_states[\"PERC_HIS\"] = origin_props.pivot_table(values=\"POPESTIMATE2019\", columns=\"ORIGIN\", index = \"NAME\")[2]"
   ]
  },
  {
   "cell_type": "code",
   "execution_count": 12,
   "metadata": {},
   "outputs": [],
   "source": [
    "age_props = pd.DataFrame(df.groupby([\"NAME\",\"AGE_FACTOR\"]).POPESTIMATE2019.sum() / df_states.POPESTIMATE2019)\n",
    "df_states[\"PERC_UNDER_12\"] = age_props.pivot_table(values=\"POPESTIMATE2019\", columns=\"AGE_FACTOR\", index = \"NAME\")[0]\n",
    "df_states[\"PERC_UNDER_18\"] = age_props.pivot_table(values=\"POPESTIMATE2019\", columns=\"AGE_FACTOR\", index = \"NAME\")[1]\n",
    "df_states[\"PERC_UNDER_25\"] = age_props.pivot_table(values=\"POPESTIMATE2019\", columns=\"AGE_FACTOR\", index = \"NAME\")[2]\n",
    "df_states[\"PERC_UNDER_35\"] = age_props.pivot_table(values=\"POPESTIMATE2019\", columns=\"AGE_FACTOR\", index = \"NAME\")[3]\n",
    "df_states[\"PERC_UNDER_45\"] = age_props.pivot_table(values=\"POPESTIMATE2019\", columns=\"AGE_FACTOR\", index = \"NAME\")[4]\n",
    "df_states[\"PERC_UNDER_55\"] = age_props.pivot_table(values=\"POPESTIMATE2019\", columns=\"AGE_FACTOR\", index = \"NAME\")[5]\n",
    "df_states[\"PERC_UNDER_65\"] = age_props.pivot_table(values=\"POPESTIMATE2019\", columns=\"AGE_FACTOR\", index = \"NAME\")[6]\n",
    "df_states[\"PERC_UNDER_75\"] = age_props.pivot_table(values=\"POPESTIMATE2019\", columns=\"AGE_FACTOR\", index = \"NAME\")[7]\n",
    "df_states[\"PERC_OVER_75\"] = age_props.pivot_table(values=\"POPESTIMATE2019\", columns=\"AGE_FACTOR\", index = \"NAME\")[8]"
   ]
  },
  {
   "cell_type": "code",
   "execution_count": 14,
   "metadata": {},
   "outputs": [],
   "source": [
    "df_states.to_csv(\"../Datasets/us_demos_A.csv\")"
   ]
  }
 ],
 "metadata": {
  "kernelspec": {
   "display_name": "Python 3",
   "language": "python",
   "name": "python3"
  },
  "language_info": {
   "codemirror_mode": {
    "name": "ipython",
    "version": 3
   },
   "file_extension": ".py",
   "mimetype": "text/x-python",
   "name": "python",
   "nbconvert_exporter": "python",
   "pygments_lexer": "ipython3",
   "version": "3.8.3"
  }
 },
 "nbformat": 4,
 "nbformat_minor": 4
}
