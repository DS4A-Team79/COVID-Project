{
 "cells": [
  {
   "cell_type": "code",
   "execution_count": 1,
   "source": [
    "import numpy as np # linear algebra\r\n",
    "import pandas as pd # data processing, I/O\r\n",
    "import pingouin as pg # for two-sample t-testing"
   ],
   "outputs": [],
   "metadata": {}
  },
  {
   "cell_type": "code",
   "execution_count": 2,
   "source": [
    "data = pd.read_csv(\"../Datasets/Refined_Datasets/state_new_deaths_monthly.csv\")\r\n",
    "data.drop(columns=['Unnamed: 0'],inplace=True)\r\n",
    "data.head()"
   ],
   "outputs": [
    {
     "output_type": "execute_result",
     "data": {
      "text/plain": [
       "     Month    State  New Deaths\n",
       "0  2020-02  Alabama         0.0\n",
       "1  2020-03  Alabama        23.0\n",
       "2  2020-04  Alabama       249.0\n",
       "3  2020-05  Alabama       358.0\n",
       "4  2020-06  Alabama       320.0"
      ],
      "text/html": [
       "<div>\n",
       "<style scoped>\n",
       "    .dataframe tbody tr th:only-of-type {\n",
       "        vertical-align: middle;\n",
       "    }\n",
       "\n",
       "    .dataframe tbody tr th {\n",
       "        vertical-align: top;\n",
       "    }\n",
       "\n",
       "    .dataframe thead th {\n",
       "        text-align: right;\n",
       "    }\n",
       "</style>\n",
       "<table border=\"1\" class=\"dataframe\">\n",
       "  <thead>\n",
       "    <tr style=\"text-align: right;\">\n",
       "      <th></th>\n",
       "      <th>Month</th>\n",
       "      <th>State</th>\n",
       "      <th>New Deaths</th>\n",
       "    </tr>\n",
       "  </thead>\n",
       "  <tbody>\n",
       "    <tr>\n",
       "      <th>0</th>\n",
       "      <td>2020-02</td>\n",
       "      <td>Alabama</td>\n",
       "      <td>0.0</td>\n",
       "    </tr>\n",
       "    <tr>\n",
       "      <th>1</th>\n",
       "      <td>2020-03</td>\n",
       "      <td>Alabama</td>\n",
       "      <td>23.0</td>\n",
       "    </tr>\n",
       "    <tr>\n",
       "      <th>2</th>\n",
       "      <td>2020-04</td>\n",
       "      <td>Alabama</td>\n",
       "      <td>249.0</td>\n",
       "    </tr>\n",
       "    <tr>\n",
       "      <th>3</th>\n",
       "      <td>2020-05</td>\n",
       "      <td>Alabama</td>\n",
       "      <td>358.0</td>\n",
       "    </tr>\n",
       "    <tr>\n",
       "      <th>4</th>\n",
       "      <td>2020-06</td>\n",
       "      <td>Alabama</td>\n",
       "      <td>320.0</td>\n",
       "    </tr>\n",
       "  </tbody>\n",
       "</table>\n",
       "</div>"
      ]
     },
     "metadata": {},
     "execution_count": 2
    }
   ],
   "metadata": {}
  },
  {
   "cell_type": "code",
   "execution_count": 3,
   "source": [
    "#Record American Rescue Plan Act of 2021 and Cares Act of 2020 dates\r\n",
    "ARP_2021 = '2021-03'\r\n",
    "CA_2020 = '2020-03'\r\n",
    "data[data['Month']==ARP_2021].head()"
   ],
   "outputs": [
    {
     "output_type": "execute_result",
     "data": {
      "text/plain": [
       "      Month       State  New Deaths\n",
       "13  2021-03     Alabama       625.0\n",
       "29  2021-03      Alaska        23.0\n",
       "45  2021-03     Arizona       987.0\n",
       "61  2021-03    Arkansas       383.0\n",
       "77  2021-03  California      6439.0"
      ],
      "text/html": [
       "<div>\n",
       "<style scoped>\n",
       "    .dataframe tbody tr th:only-of-type {\n",
       "        vertical-align: middle;\n",
       "    }\n",
       "\n",
       "    .dataframe tbody tr th {\n",
       "        vertical-align: top;\n",
       "    }\n",
       "\n",
       "    .dataframe thead th {\n",
       "        text-align: right;\n",
       "    }\n",
       "</style>\n",
       "<table border=\"1\" class=\"dataframe\">\n",
       "  <thead>\n",
       "    <tr style=\"text-align: right;\">\n",
       "      <th></th>\n",
       "      <th>Month</th>\n",
       "      <th>State</th>\n",
       "      <th>New Deaths</th>\n",
       "    </tr>\n",
       "  </thead>\n",
       "  <tbody>\n",
       "    <tr>\n",
       "      <th>13</th>\n",
       "      <td>2021-03</td>\n",
       "      <td>Alabama</td>\n",
       "      <td>625.0</td>\n",
       "    </tr>\n",
       "    <tr>\n",
       "      <th>29</th>\n",
       "      <td>2021-03</td>\n",
       "      <td>Alaska</td>\n",
       "      <td>23.0</td>\n",
       "    </tr>\n",
       "    <tr>\n",
       "      <th>45</th>\n",
       "      <td>2021-03</td>\n",
       "      <td>Arizona</td>\n",
       "      <td>987.0</td>\n",
       "    </tr>\n",
       "    <tr>\n",
       "      <th>61</th>\n",
       "      <td>2021-03</td>\n",
       "      <td>Arkansas</td>\n",
       "      <td>383.0</td>\n",
       "    </tr>\n",
       "    <tr>\n",
       "      <th>77</th>\n",
       "      <td>2021-03</td>\n",
       "      <td>California</td>\n",
       "      <td>6439.0</td>\n",
       "    </tr>\n",
       "  </tbody>\n",
       "</table>\n",
       "</div>"
      ]
     },
     "metadata": {},
     "execution_count": 3
    }
   ],
   "metadata": {}
  },
  {
   "cell_type": "code",
   "execution_count": 4,
   "source": [
    "#get data after CA_2020\r\n",
    "new_deaths_after_CA_2020 = data[(data['Month']>CA_2020) & (data['Month']<ARP_2021)]['New Deaths']\r\n",
    "new_deaths_after_CA_2020"
   ],
   "outputs": [
    {
     "output_type": "execute_result",
     "data": {
      "text/plain": [
       "2      249.0\n",
       "3      358.0\n",
       "4      320.0\n",
       "5      630.0\n",
       "6      602.0\n",
       "       ...  \n",
       "792     37.0\n",
       "793    128.0\n",
       "794    223.0\n",
       "795    158.0\n",
       "796     75.0\n",
       "Name: New Deaths, Length: 550, dtype: float64"
      ]
     },
     "metadata": {},
     "execution_count": 4
    }
   ],
   "metadata": {}
  },
  {
   "cell_type": "code",
   "execution_count": 5,
   "source": [
    "#get data before CA_2020\r\n",
    "new_deaths_before_CA_2020 = data[data['Month']<CA_2020]['New Deaths']\r\n",
    "new_deaths_before_CA_2020"
   ],
   "outputs": [
    {
     "output_type": "execute_result",
     "data": {
      "text/plain": [
       "0      0.0\n",
       "16     0.0\n",
       "32     0.0\n",
       "48     0.0\n",
       "64     0.0\n",
       "80     0.0\n",
       "96     0.0\n",
       "112    0.0\n",
       "128    0.0\n",
       "144    0.0\n",
       "160    0.0\n",
       "176    0.0\n",
       "192    0.0\n",
       "208    0.0\n",
       "224    0.0\n",
       "240    0.0\n",
       "256    0.0\n",
       "272    0.0\n",
       "288    0.0\n",
       "304    0.0\n",
       "320    0.0\n",
       "336    0.0\n",
       "352    0.0\n",
       "368    0.0\n",
       "384    0.0\n",
       "400    0.0\n",
       "416    0.0\n",
       "432    0.0\n",
       "448    0.0\n",
       "464    0.0\n",
       "480    0.0\n",
       "496    0.0\n",
       "512    0.0\n",
       "528    0.0\n",
       "544    0.0\n",
       "560    0.0\n",
       "576    0.0\n",
       "592    0.0\n",
       "608    0.0\n",
       "624    0.0\n",
       "640    0.0\n",
       "656    0.0\n",
       "672    0.0\n",
       "688    0.0\n",
       "704    0.0\n",
       "720    0.0\n",
       "736    1.0\n",
       "752    0.0\n",
       "768    0.0\n",
       "784    0.0\n",
       "Name: New Deaths, dtype: float64"
      ]
     },
     "metadata": {},
     "execution_count": 5
    }
   ],
   "metadata": {}
  },
  {
   "cell_type": "code",
   "execution_count": 6,
   "source": [
    "avg_new_deaths_pre_CA_2020 = new_deaths_before_CA_2020.mean()\r\n",
    "avg_new_deaths_pre_CA_2020"
   ],
   "outputs": [
    {
     "output_type": "execute_result",
     "data": {
      "text/plain": [
       "0.02"
      ]
     },
     "metadata": {},
     "execution_count": 6
    }
   ],
   "metadata": {}
  },
  {
   "cell_type": "code",
   "execution_count": 7,
   "source": [
    "avg_new_deaths_after_CA = new_deaths_after_CA_2020.mean()\r\n",
    "avg_new_deaths_after_CA"
   ],
   "outputs": [
    {
     "output_type": "execute_result",
     "data": {
      "text/plain": [
       "920.7327272727273"
      ]
     },
     "metadata": {},
     "execution_count": 7
    }
   ],
   "metadata": {}
  },
  {
   "cell_type": "markdown",
   "source": [
    "These already look statistically significant. Let's conduct a t-test and see what results."
   ],
   "metadata": {}
  },
  {
   "cell_type": "code",
   "execution_count": 8,
   "source": [
    "test = pg.ttest(new_deaths_after_CA_2020,  new_deaths_before_CA_2020)\r\n",
    "p = test.iloc[0]['p-val'].item()\r\n",
    "sig = p < 0.05\r\n",
    "print(p) #show the p-value first\r\n",
    "print(sig) #show whether difference is significant at 95% confidence level"
   ],
   "outputs": [
    {
     "output_type": "stream",
     "name": "stdout",
     "text": [
      "7.451914543148873e-33\n",
      "True\n"
     ]
    }
   ],
   "metadata": {}
  },
  {
   "cell_type": "code",
   "execution_count": 9,
   "source": [
    "#get data before ARP_2021\r\n",
    "new_deaths_before_ARP_2021 = data[(data['Month']>CA_2020) & (data['Month']<ARP_2021)]['New Deaths']\r\n",
    "new_deaths_before_ARP_2021"
   ],
   "outputs": [
    {
     "output_type": "execute_result",
     "data": {
      "text/plain": [
       "2      249.0\n",
       "3      358.0\n",
       "4      320.0\n",
       "5      630.0\n",
       "6      602.0\n",
       "       ...  \n",
       "792     37.0\n",
       "793    128.0\n",
       "794    223.0\n",
       "795    158.0\n",
       "796     75.0\n",
       "Name: New Deaths, Length: 550, dtype: float64"
      ]
     },
     "metadata": {},
     "execution_count": 9
    }
   ],
   "metadata": {}
  },
  {
   "cell_type": "code",
   "execution_count": 10,
   "source": [
    "#get data after ARP_2021\r\n",
    "new_deaths_after_ARP_2021 = data[data['Month']>ARP_2021]['New Deaths']\r\n",
    "new_deaths_after_ARP_2021"
   ],
   "outputs": [
    {
     "output_type": "execute_result",
     "data": {
      "text/plain": [
       "14     342.0\n",
       "15      17.0\n",
       "30      34.0\n",
       "31       0.0\n",
       "46     357.0\n",
       "       ...  \n",
       "767      7.0\n",
       "782    235.0\n",
       "783     17.0\n",
       "798      7.0\n",
       "799      0.0\n",
       "Name: New Deaths, Length: 100, dtype: float64"
      ]
     },
     "metadata": {},
     "execution_count": 10
    }
   ],
   "metadata": {}
  },
  {
   "cell_type": "code",
   "execution_count": 11,
   "source": [
    "avg_new_deaths_before_ARP = new_deaths_before_ARP_2021.mean()\r\n",
    "avg_new_deaths_before_ARP"
   ],
   "outputs": [
    {
     "output_type": "execute_result",
     "data": {
      "text/plain": [
       "920.7327272727273"
      ]
     },
     "metadata": {},
     "execution_count": 11
    }
   ],
   "metadata": {}
  },
  {
   "cell_type": "code",
   "execution_count": 12,
   "source": [
    "avg_new_deaths_after_ARP_2021 = new_deaths_after_ARP_2021.mean()\r\n",
    "avg_new_deaths_after_ARP_2021"
   ],
   "outputs": [
    {
     "output_type": "execute_result",
     "data": {
      "text/plain": [
       "243.08"
      ]
     },
     "metadata": {},
     "execution_count": 12
    }
   ],
   "metadata": {}
  },
  {
   "cell_type": "markdown",
   "source": [
    "Again, even before t-testing, the difference in these means looks statistically significant. A t-test will likely confirm this."
   ],
   "metadata": {}
  },
  {
   "cell_type": "code",
   "execution_count": 13,
   "source": [
    "test = pg.ttest(new_deaths_after_ARP_2021,  new_deaths_before_ARP_2021)\r\n",
    "p = test.iloc[0]['p-val'].item()\r\n",
    "sig = p < 0.05\r\n",
    "print(p) #show the p-value first\r\n",
    "print(sig) #show whether difference is significant at 95% confidence level"
   ],
   "outputs": [
    {
     "output_type": "stream",
     "name": "stdout",
     "text": [
      "6.844282239913526e-14\n",
      "True\n"
     ]
    }
   ],
   "metadata": {}
  },
  {
   "cell_type": "markdown",
   "source": [],
   "metadata": {}
  },
  {
   "cell_type": "code",
   "execution_count": null,
   "source": [],
   "outputs": [],
   "metadata": {}
  }
 ],
 "metadata": {
  "orig_nbformat": 4,
  "language_info": {
   "name": "python",
   "version": "3.8.3",
   "mimetype": "text/x-python",
   "codemirror_mode": {
    "name": "ipython",
    "version": 3
   },
   "pygments_lexer": "ipython3",
   "nbconvert_exporter": "python",
   "file_extension": ".py"
  },
  "kernelspec": {
   "name": "python3",
   "display_name": "Python 3.8.3 32-bit"
  },
  "interpreter": {
   "hash": "8928c97c33a64ca7a9da5365a92bbaacc7f636b491d853b17363274fcd1c8973"
  }
 },
 "nbformat": 4,
 "nbformat_minor": 2
}