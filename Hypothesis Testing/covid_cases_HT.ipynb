{
 "cells": [
  {
   "cell_type": "code",
   "execution_count": 1,
   "source": [
    "import numpy as np # linear algebra\r\n",
    "import pandas as pd # data processing, I/O\r\n",
    "import pingouin as pg # for two-sample t-testing"
   ],
   "outputs": [],
   "metadata": {}
  },
  {
   "cell_type": "code",
   "execution_count": 2,
   "source": [
    "data = pd.read_csv(\"../Datasets/Refined_Datasets/state_new_cases_monthly.csv\")\r\n",
    "data.drop(columns=['Unnamed: 0'],inplace=True)\r\n",
    "data.head()"
   ],
   "outputs": [
    {
     "output_type": "execute_result",
     "data": {
      "text/plain": [
       "     Month    State  New Cases\n",
       "0  2020-02  Alabama        0.0\n",
       "1  2020-03  Alabama     1063.0\n",
       "2  2020-04  Alabama     6124.0\n",
       "3  2020-05  Alabama    11013.0\n",
       "4  2020-06  Alabama    20277.0"
      ],
      "text/html": [
       "<div>\n",
       "<style scoped>\n",
       "    .dataframe tbody tr th:only-of-type {\n",
       "        vertical-align: middle;\n",
       "    }\n",
       "\n",
       "    .dataframe tbody tr th {\n",
       "        vertical-align: top;\n",
       "    }\n",
       "\n",
       "    .dataframe thead th {\n",
       "        text-align: right;\n",
       "    }\n",
       "</style>\n",
       "<table border=\"1\" class=\"dataframe\">\n",
       "  <thead>\n",
       "    <tr style=\"text-align: right;\">\n",
       "      <th></th>\n",
       "      <th>Month</th>\n",
       "      <th>State</th>\n",
       "      <th>New Cases</th>\n",
       "    </tr>\n",
       "  </thead>\n",
       "  <tbody>\n",
       "    <tr>\n",
       "      <th>0</th>\n",
       "      <td>2020-02</td>\n",
       "      <td>Alabama</td>\n",
       "      <td>0.0</td>\n",
       "    </tr>\n",
       "    <tr>\n",
       "      <th>1</th>\n",
       "      <td>2020-03</td>\n",
       "      <td>Alabama</td>\n",
       "      <td>1063.0</td>\n",
       "    </tr>\n",
       "    <tr>\n",
       "      <th>2</th>\n",
       "      <td>2020-04</td>\n",
       "      <td>Alabama</td>\n",
       "      <td>6124.0</td>\n",
       "    </tr>\n",
       "    <tr>\n",
       "      <th>3</th>\n",
       "      <td>2020-05</td>\n",
       "      <td>Alabama</td>\n",
       "      <td>11013.0</td>\n",
       "    </tr>\n",
       "    <tr>\n",
       "      <th>4</th>\n",
       "      <td>2020-06</td>\n",
       "      <td>Alabama</td>\n",
       "      <td>20277.0</td>\n",
       "    </tr>\n",
       "  </tbody>\n",
       "</table>\n",
       "</div>"
      ]
     },
     "metadata": {},
     "execution_count": 2
    }
   ],
   "metadata": {}
  },
  {
   "cell_type": "code",
   "execution_count": 3,
   "source": [
    "#Record American Rescue Plan Act of 2021 and Cares Act of 2020 dates\r\n",
    "ARP_2021 = '2021-03'\r\n",
    "CA_2020 = '2020-03'\r\n",
    "data[data['Month']==ARP_2021].head()"
   ],
   "outputs": [
    {
     "output_type": "execute_result",
     "data": {
      "text/plain": [
       "      Month       State  New Cases\n",
       "13  2021-03     Alabama    22136.0\n",
       "29  2021-03      Alaska     4605.0\n",
       "45  2021-03     Arizona    25029.0\n",
       "61  2021-03    Arkansas     7983.0\n",
       "77  2021-03  California   101163.0"
      ],
      "text/html": [
       "<div>\n",
       "<style scoped>\n",
       "    .dataframe tbody tr th:only-of-type {\n",
       "        vertical-align: middle;\n",
       "    }\n",
       "\n",
       "    .dataframe tbody tr th {\n",
       "        vertical-align: top;\n",
       "    }\n",
       "\n",
       "    .dataframe thead th {\n",
       "        text-align: right;\n",
       "    }\n",
       "</style>\n",
       "<table border=\"1\" class=\"dataframe\">\n",
       "  <thead>\n",
       "    <tr style=\"text-align: right;\">\n",
       "      <th></th>\n",
       "      <th>Month</th>\n",
       "      <th>State</th>\n",
       "      <th>New Cases</th>\n",
       "    </tr>\n",
       "  </thead>\n",
       "  <tbody>\n",
       "    <tr>\n",
       "      <th>13</th>\n",
       "      <td>2021-03</td>\n",
       "      <td>Alabama</td>\n",
       "      <td>22136.0</td>\n",
       "    </tr>\n",
       "    <tr>\n",
       "      <th>29</th>\n",
       "      <td>2021-03</td>\n",
       "      <td>Alaska</td>\n",
       "      <td>4605.0</td>\n",
       "    </tr>\n",
       "    <tr>\n",
       "      <th>45</th>\n",
       "      <td>2021-03</td>\n",
       "      <td>Arizona</td>\n",
       "      <td>25029.0</td>\n",
       "    </tr>\n",
       "    <tr>\n",
       "      <th>61</th>\n",
       "      <td>2021-03</td>\n",
       "      <td>Arkansas</td>\n",
       "      <td>7983.0</td>\n",
       "    </tr>\n",
       "    <tr>\n",
       "      <th>77</th>\n",
       "      <td>2021-03</td>\n",
       "      <td>California</td>\n",
       "      <td>101163.0</td>\n",
       "    </tr>\n",
       "  </tbody>\n",
       "</table>\n",
       "</div>"
      ]
     },
     "metadata": {},
     "execution_count": 3
    }
   ],
   "metadata": {}
  },
  {
   "cell_type": "code",
   "execution_count": 4,
   "source": [
    "#get data after CA_2020\r\n",
    "new_cases_after_CA_2020 = data[(data['Month']>CA_2020) & (data['Month']<ARP_2021)]['New Cases']\r\n",
    "new_cases_after_CA_2020"
   ],
   "outputs": [
    {
     "output_type": "execute_result",
     "data": {
      "text/plain": [
       "2       6124.0\n",
       "3      11013.0\n",
       "4      20277.0\n",
       "5      49789.0\n",
       "6      38234.0\n",
       "        ...   \n",
       "792     7350.0\n",
       "793    20007.0\n",
       "794    11104.0\n",
       "795     7503.0\n",
       "796     2482.0\n",
       "Name: New Cases, Length: 550, dtype: float64"
      ]
     },
     "metadata": {},
     "execution_count": 4
    }
   ],
   "metadata": {}
  },
  {
   "cell_type": "code",
   "execution_count": 5,
   "source": [
    "#get data before CA_2020\r\n",
    "new_cases_before_CA_2020 = data[data['Month']<CA_2020]['New Cases']\r\n",
    "new_cases_before_CA_2020"
   ],
   "outputs": [
    {
     "output_type": "execute_result",
     "data": {
      "text/plain": [
       "0      0.0\n",
       "16     0.0\n",
       "32     0.0\n",
       "48     0.0\n",
       "64     9.0\n",
       "80     0.0\n",
       "96     0.0\n",
       "112    0.0\n",
       "128    0.0\n",
       "144    0.0\n",
       "160    0.0\n",
       "176    0.0\n",
       "192    0.0\n",
       "208    0.0\n",
       "224    0.0\n",
       "240    0.0\n",
       "256    0.0\n",
       "272    0.0\n",
       "288    0.0\n",
       "304    0.0\n",
       "320    1.0\n",
       "336    0.0\n",
       "352    0.0\n",
       "368    0.0\n",
       "384    0.0\n",
       "400    0.0\n",
       "416    0.0\n",
       "432    0.0\n",
       "448    0.0\n",
       "464    0.0\n",
       "480    0.0\n",
       "496    0.0\n",
       "512    0.0\n",
       "528    0.0\n",
       "544    0.0\n",
       "560    0.0\n",
       "576    1.0\n",
       "592    0.0\n",
       "608    0.0\n",
       "624    0.0\n",
       "640    0.0\n",
       "656    0.0\n",
       "672    0.0\n",
       "688    0.0\n",
       "704    0.0\n",
       "720    0.0\n",
       "736    6.0\n",
       "752    0.0\n",
       "768    0.0\n",
       "784    0.0\n",
       "Name: New Cases, dtype: float64"
      ]
     },
     "metadata": {},
     "execution_count": 5
    }
   ],
   "metadata": {}
  },
  {
   "cell_type": "code",
   "execution_count": 6,
   "source": [
    "avg_new_cases_pre_CA_2020 = new_cases_before_CA_2020.mean()\r\n",
    "avg_new_cases_pre_CA_2020"
   ],
   "outputs": [
    {
     "output_type": "execute_result",
     "data": {
      "text/plain": [
       "0.34"
      ]
     },
     "metadata": {},
     "execution_count": 6
    }
   ],
   "metadata": {}
  },
  {
   "cell_type": "code",
   "execution_count": 7,
   "source": [
    "avg_new_cases_after_CA = new_cases_after_CA_2020.mean()\r\n",
    "avg_new_cases_after_CA"
   ],
   "outputs": [
    {
     "output_type": "execute_result",
     "data": {
      "text/plain": [
       "51465.196363636365"
      ]
     },
     "metadata": {},
     "execution_count": 7
    }
   ],
   "metadata": {}
  },
  {
   "cell_type": "markdown",
   "source": [
    "These already look statistically significant. Let's conduct a t-test and see what results."
   ],
   "metadata": {}
  },
  {
   "cell_type": "code",
   "execution_count": 8,
   "source": [
    "test = pg.ttest(new_cases_after_CA_2020,  new_cases_before_CA_2020)\r\n",
    "p = test.iloc[0]['p-val'].item()\r\n",
    "sig = p < 0.05\r\n",
    "print(p) #show the p-value first\r\n",
    "print(sig) #show whether difference is significant at 95% confidence level"
   ],
   "outputs": [
    {
     "output_type": "stream",
     "name": "stdout",
     "text": [
      "1.377858256975006e-33\n",
      "True\n"
     ]
    }
   ],
   "metadata": {}
  },
  {
   "cell_type": "code",
   "execution_count": 11,
   "source": [
    "#get data before ARP_2021\r\n",
    "new_cases_before_ARP_2021 = data[(data['Month']>CA_2020) & (data['Month']<ARP_2021)]['New Cases']\r\n",
    "new_cases_before_ARP_2021"
   ],
   "outputs": [
    {
     "output_type": "execute_result",
     "data": {
      "text/plain": [
       "2       6124.0\n",
       "3      11013.0\n",
       "4      20277.0\n",
       "5      49789.0\n",
       "6      38234.0\n",
       "        ...   \n",
       "792     7350.0\n",
       "793    20007.0\n",
       "794    11104.0\n",
       "795     7503.0\n",
       "796     2482.0\n",
       "Name: New Cases, Length: 550, dtype: float64"
      ]
     },
     "metadata": {},
     "execution_count": 11
    }
   ],
   "metadata": {}
  },
  {
   "cell_type": "code",
   "execution_count": 15,
   "source": [
    "#get data after ARP_2021\r\n",
    "new_cases_after_ARP_2021 = data[data['Month']>ARP_2021]['New Cases']\r\n",
    "new_cases_after_ARP_2021"
   ],
   "outputs": [
    {
     "output_type": "execute_result",
     "data": {
      "text/plain": [
       "14     12534.0\n",
       "15       675.0\n",
       "30      5247.0\n",
       "31         0.0\n",
       "46     20686.0\n",
       "        ...   \n",
       "767      790.0\n",
       "782    24409.0\n",
       "783     1235.0\n",
       "798     1832.0\n",
       "799        0.0\n",
       "Name: New Cases, Length: 100, dtype: float64"
      ]
     },
     "metadata": {},
     "execution_count": 15
    }
   ],
   "metadata": {}
  },
  {
   "cell_type": "code",
   "execution_count": 12,
   "source": [
    "avg_new_cases_before_ARP = new_cases_before_ARP_2021.mean()\r\n",
    "avg_new_cases_before_ARP"
   ],
   "outputs": [
    {
     "output_type": "execute_result",
     "data": {
      "text/plain": [
       "51465.196363636365"
      ]
     },
     "metadata": {},
     "execution_count": 12
    }
   ],
   "metadata": {}
  },
  {
   "cell_type": "code",
   "execution_count": 17,
   "source": [
    "avg_new_cases_after_ARP_2021 = new_cases_after_ARP_2021.mean()\r\n",
    "avg_new_cases_after_ARP_2021"
   ],
   "outputs": [
    {
     "output_type": "execute_result",
     "data": {
      "text/plain": [
       "19300.46"
      ]
     },
     "metadata": {},
     "execution_count": 17
    }
   ],
   "metadata": {}
  },
  {
   "cell_type": "markdown",
   "source": [
    "Again, even before t-testing, the difference in these means looks statistically significant. A t-test will likely confirm this."
   ],
   "metadata": {}
  },
  {
   "cell_type": "code",
   "execution_count": 18,
   "source": [
    "test = pg.ttest(new_cases_after_ARP_2021,  new_cases_before_ARP_2021)\r\n",
    "p = test.iloc[0]['p-val'].item()\r\n",
    "sig = p < 0.05\r\n",
    "print(p) #show the p-value first\r\n",
    "print(sig) #show whether difference is significant at 95% confidence level"
   ],
   "outputs": [
    {
     "output_type": "stream",
     "name": "stdout",
     "text": [
      "7.710296527422416e-09\n",
      "True\n"
     ]
    }
   ],
   "metadata": {}
  },
  {
   "cell_type": "markdown",
   "source": [],
   "metadata": {}
  },
  {
   "cell_type": "code",
   "execution_count": null,
   "source": [],
   "outputs": [],
   "metadata": {}
  }
 ],
 "metadata": {
  "orig_nbformat": 4,
  "language_info": {
   "name": "python",
   "version": "3.8.3",
   "mimetype": "text/x-python",
   "codemirror_mode": {
    "name": "ipython",
    "version": 3
   },
   "pygments_lexer": "ipython3",
   "nbconvert_exporter": "python",
   "file_extension": ".py"
  },
  "kernelspec": {
   "name": "python3",
   "display_name": "Python 3.8.3 32-bit"
  },
  "interpreter": {
   "hash": "8928c97c33a64ca7a9da5365a92bbaacc7f636b491d853b17363274fcd1c8973"
  }
 },
 "nbformat": 4,
 "nbformat_minor": 2
}