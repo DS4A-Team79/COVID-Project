{
 "cells": [
  {
   "cell_type": "code",
   "execution_count": 177,
   "metadata": {},
   "outputs": [],
   "source": [
    "import pandas as pd\n",
    "import numpy as np\n",
    "from scipy.signal import argrelextrema\n",
    "import matplotlib.pyplot as plt\n",
    "# This makes plots prettier\n",
    "import seaborn; seaborn.set()\n",
    "%matplotlib inline"
   ]
  },
  {
   "cell_type": "code",
   "execution_count": 178,
   "metadata": {},
   "outputs": [],
   "source": [
    "NJ=pd.read_csv(\"New Jersey_smooth.csv\")\n",
    "dates=pd.date_range(start=\"2020-01-22\",end=\"2021-05-02\")\n",
    "NJ=NJ.transpose()\n",
    "NJ.index=dates\n",
    "NJ.index.name=\"Date\"\n",
    "NJ=NJ.rename(columns={0:\"new_cases\"})\n",
    "ilocs_max=argrelextrema(NJ.values, np.greater_equal, order=1)[0]\n",
    "ilocs_min=argrelextrema(NJ.values, np.less_equal, order=1)[0]\n",
    "NJ.new_cases.plot(figsize=(20,8), alpha=.3)\n",
    "NJ.iloc[ilocs_max].new_cases.plot(style='.', lw=10, color='red', marker=\"v\")\n",
    "NJ.iloc[ilocs_min].new_cases.plot(style='.', lw=10, color='blue', marker=\"^\")"
   ]
  },
  {
   "cell_type": "code",
   "execution_count": 183,
   "metadata": {},
   "outputs": [],
   "source": [
    "minima=list(ilocs_min)\n",
    "maxima=list(ilocs_max)\n",
    "points=minima+maxima\n",
    "points.sort()\n",
    "peak_frame=NJ.iloc[points]\n",
    "peak_frame\n",
    "time_lapse=[]\n",
    "case_lapse=[]\n",
    "slopes=[]\n",
    "\n",
    "for i in range(len(peak_frame)-1):\n",
    "    time_lapse.append(-1*(peak_frame.index[i]-peak_frame.index[i+1]).days)\n",
    "    case_lapse.append(-1*int((peak_frame.values[i]-peak_frame.values[i+1])))\n",
    "    \n",
    "for i in range(len(time_lapse)-1):\n",
    "    slopes.append((case_lapse[i])/time_lapse[i])\n",
    "    \n",
    "print(time_lapse)\n",
    "print(case_lapse)\n",
    "\n",
    "np.array(slopes).sum()\n",
    "np.array(slopes).max()\n",
    "np.array(slopes).min()"
   ]
  }
 ],
 "metadata": {
  "kernelspec": {
   "display_name": "Python 3",
   "language": "python",
   "name": "python3"
  },
  "language_info": {
   "codemirror_mode": {
    "name": "ipython",
    "version": 3
   },
   "file_extension": ".py",
   "mimetype": "text/x-python",
   "name": "python",
   "nbconvert_exporter": "python",
   "pygments_lexer": "ipython3",
   "version": "3.8.3"
  }
 },
 "nbformat": 4,
 "nbformat_minor": 4
}
